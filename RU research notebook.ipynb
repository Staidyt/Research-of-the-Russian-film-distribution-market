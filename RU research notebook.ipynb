{
 "cells": [
  {
   "cell_type": "markdown",
   "metadata": {
    "id": "sIfNaMOxgFyK"
   },
   "source": [
    "# Исследование данных о российском кинопрокате\n",
    "\n"
   ]
  },
  {
   "cell_type": "markdown",
   "metadata": {},
   "source": [
    "Заказчик этого исследования — Министерство культуры Российской Федерации.\n",
    "\n",
    "Нужно изучить рынок российского кинопроката и выявить текущие тренды. Уделить внимание фильмам, которые получили государственную поддержку. Ответить на вопрос, насколько такие фильмы интересны зрителю. \n",
    "\n",
    "Работа будет с данными, опубликованными на портале открытых данных Министерства культуры. Набор данных содержит информацию о прокатных удостоверениях, сборах и государственной поддержке фильмов, а также информацию с сайта КиноПоиск. "
   ]
  },
  {
   "cell_type": "markdown",
   "metadata": {},
   "source": [
    "## Описание хода работы"
   ]
  },
  {
   "cell_type": "markdown",
   "metadata": {},
   "source": [
    "Шаг 1. Открыть файлы с данными и объединить их в один датафрейм\n",
    "\n",
    "Пути к файлам:\n",
    "\n",
    "     datasets/mkrf_movies.csv — данные о прокатных удостоверениях. \n",
    "\n",
    "     datasets/mkrf_shows.csv — данные о прокате в российских кинотеатрах. \n",
    "\n",
    "Шаг 2. Выполнить предобработку данных\n",
    "\n",
    "1. Проверить типы данных в датафрейме и преобразовать там, где это необходимо.\n",
    "2. Изучить пропуски в датафрейме. Объяснить, почему заполнены пропуски определённым образом.\n",
    "3. Проверить, есть ли в данных дубликаты. Описать причины, которые могли повлиять на появление дублей.\n",
    "4. Изучить столбцы, которые содержат категориальные значения:\n",
    "    - Найти, какая общая проблема встречается почти во всех категориальных столбцах;\n",
    "    - Исправить проблемные значения в поле type.\n",
    "5. Изучить столбцы, которые хранят количественные значения. Проверить, обнаружились ли в таких столбцах подозрительные данные. Как с такими данными лучше поступить?\n",
    "6. Добавить новые столбцы:\n",
    "    - Создать столбец с информацией о годе проката. Выделить год из даты премьеры фильма;\n",
    "    - Создать два столбца: с именем и фамилией главного режиссёра и основным жанром фильма. В столбцы войдут первые значения из списка режиссёров и жанров соответственно;\n",
    "    - Посчитать, какую долю от общего бюджета фильма составляет государственная поддержка.\n",
    "\n",
    "Шаг 3. Провести исследовательский анализ данных\n",
    "\n",
    "- Посмотреть, сколько фильмов выходило в прокат каждый год. Обратить внимание, что данные о прокате в кинотеатрах известны не для всех фильмов. Посчитать, какую долю составляют фильмы с указанной информацией о прокате в кинотеатрах. Проанализировать, как эта доля менялась по годам. Сделать вывод о том, какой период полнее всего представлен в данных.\n",
    "- Изучить, как менялась динамика проката по годам. В каком году сумма сборов была минимальной? А максимальной?\n",
    "- С помощью сводной таблицы посчитать среднюю и медианную сумму сборов для каждого года. Сравнить значения и сделать выводы.\n",
    "- Определить, влияет ли возрастное ограничение аудитории («6+», «12+», «16+», «18+» и т. д.) на сборы фильма в прокате в период с 2015 по 2019 год? Фильмы с каким возрастным ограничением собрали больше всего денег в прокате? Меняется ли картина в зависимости от года? Если да, предположить, с чем это может быть связано.\n",
    "\n",
    "Шаг 4. Исследовать фильмы, которые получили государственную поддержку\n",
    "\n",
    "Шаг 5. Написать общий вывод"
   ]
  },
  {
   "cell_type": "markdown",
   "metadata": {},
   "source": [
    "## Настройки рабочей тетради"
   ]
  },
  {
   "cell_type": "code",
   "execution_count": 1,
   "metadata": {},
   "outputs": [],
   "source": [
    "# Импорт библиотек\n",
    "\n",
    "import pandas as pd\n",
    "import matplotlib.pyplot as plt\n",
    "import numpy as np\n",
    "\n",
    "import os"
   ]
  },
  {
   "cell_type": "code",
   "execution_count": 2,
   "metadata": {},
   "outputs": [],
   "source": [
    "# Настройки библиотек\n",
    "\n",
    "\n",
    "# Сброс ограничений на количество выводимых рядов\n",
    "pd.set_option('display.max_rows', None)\n",
    " \n",
    "# Сброс ограничений на число столбцов\n",
    "pd.set_option('display.max_columns', None)"
   ]
  },
  {
   "cell_type": "code",
   "execution_count": 3,
   "metadata": {},
   "outputs": [],
   "source": [
    "# Путь к директории с данными\n",
    "\n",
    "path = 'datasets/'"
   ]
  },
  {
   "cell_type": "markdown",
   "metadata": {
    "tags": []
   },
   "source": [
    "## Шаг 1. Открыть файлы с данными и объединить их в один датафрейм"
   ]
  },
  {
   "cell_type": "code",
   "execution_count": 4,
   "metadata": {
    "id": "dw87FlzMgFyM"
   },
   "outputs": [
    {
     "data": {
      "text/html": [
       "<div>\n",
       "<style scoped>\n",
       "    .dataframe tbody tr th:only-of-type {\n",
       "        vertical-align: middle;\n",
       "    }\n",
       "\n",
       "    .dataframe tbody tr th {\n",
       "        vertical-align: top;\n",
       "    }\n",
       "\n",
       "    .dataframe thead th {\n",
       "        text-align: right;\n",
       "    }\n",
       "</style>\n",
       "<table border=\"1\" class=\"dataframe\">\n",
       "  <thead>\n",
       "    <tr style=\"text-align: right;\">\n",
       "      <th></th>\n",
       "      <th>title</th>\n",
       "      <th>puNumber</th>\n",
       "      <th>show_start_date</th>\n",
       "      <th>type</th>\n",
       "      <th>film_studio</th>\n",
       "      <th>production_country</th>\n",
       "      <th>director</th>\n",
       "      <th>producer</th>\n",
       "      <th>age_restriction</th>\n",
       "      <th>refundable_support</th>\n",
       "      <th>nonrefundable_support</th>\n",
       "      <th>budget</th>\n",
       "      <th>financing_source</th>\n",
       "      <th>ratings</th>\n",
       "      <th>genres</th>\n",
       "    </tr>\n",
       "  </thead>\n",
       "  <tbody>\n",
       "    <tr>\n",
       "      <th>0</th>\n",
       "      <td>Открытый простор</td>\n",
       "      <td>221048915</td>\n",
       "      <td>2015-11-27T12:00:00.000Z</td>\n",
       "      <td>Художественный</td>\n",
       "      <td>Тачстоун Пикчерз, Кобальт Пикчерз, Бикон Пикче...</td>\n",
       "      <td>США</td>\n",
       "      <td>Кевин Костнер</td>\n",
       "      <td>Дэвид Валдес, Кевин Костнер, Джейк Эбертс</td>\n",
       "      <td>«18+» - запрещено для детей</td>\n",
       "      <td>NaN</td>\n",
       "      <td>NaN</td>\n",
       "      <td>NaN</td>\n",
       "      <td>NaN</td>\n",
       "      <td>7.2</td>\n",
       "      <td>боевик,драма,мелодрама</td>\n",
       "    </tr>\n",
       "    <tr>\n",
       "      <th>1</th>\n",
       "      <td>Особо важное задание</td>\n",
       "      <td>111013716</td>\n",
       "      <td>2016-09-13T12:00:00.000Z</td>\n",
       "      <td>Художественный</td>\n",
       "      <td>Киностудия \"Мосфильм\"</td>\n",
       "      <td>СССР</td>\n",
       "      <td>Е.Матвеев</td>\n",
       "      <td>NaN</td>\n",
       "      <td>«6+» - для детей старше 6 лет</td>\n",
       "      <td>NaN</td>\n",
       "      <td>NaN</td>\n",
       "      <td>NaN</td>\n",
       "      <td>NaN</td>\n",
       "      <td>6.6</td>\n",
       "      <td>драма,военный</td>\n",
       "    </tr>\n",
       "    <tr>\n",
       "      <th>2</th>\n",
       "      <td>Особо опасен</td>\n",
       "      <td>221038416</td>\n",
       "      <td>2016-10-10T12:00:00.000Z</td>\n",
       "      <td>Художественный</td>\n",
       "      <td>Юниверсал Пикчерз, Кикстарт Продакшнз, Марк Пл...</td>\n",
       "      <td>США</td>\n",
       "      <td>Тимур Бекмамбетов</td>\n",
       "      <td>Джим Лемли, Джейсон Нетер, Марк Е.Платт, Яйн Смит</td>\n",
       "      <td>«18+» - запрещено для детей</td>\n",
       "      <td>NaN</td>\n",
       "      <td>NaN</td>\n",
       "      <td>NaN</td>\n",
       "      <td>NaN</td>\n",
       "      <td>6.8</td>\n",
       "      <td>фантастика,боевик,триллер</td>\n",
       "    </tr>\n",
       "    <tr>\n",
       "      <th>3</th>\n",
       "      <td>Особо опасен</td>\n",
       "      <td>221026916</td>\n",
       "      <td>2016-06-10T12:00:00.000Z</td>\n",
       "      <td>Художественный</td>\n",
       "      <td>Юниверсал Пикчерз, Кикстарт Продакшнз, Марк Пл...</td>\n",
       "      <td>США</td>\n",
       "      <td>Тимур Бекмамбетов</td>\n",
       "      <td>Джим Лемли, Джейсон Нетер, Марк Е.Платт, Яйн Смит</td>\n",
       "      <td>«18+» - запрещено для детей</td>\n",
       "      <td>NaN</td>\n",
       "      <td>NaN</td>\n",
       "      <td>NaN</td>\n",
       "      <td>NaN</td>\n",
       "      <td>6.8</td>\n",
       "      <td>фантастика,боевик,триллер</td>\n",
       "    </tr>\n",
       "    <tr>\n",
       "      <th>4</th>\n",
       "      <td>Особо опасен</td>\n",
       "      <td>221030815</td>\n",
       "      <td>2015-07-29T12:00:00.000Z</td>\n",
       "      <td>Художественный</td>\n",
       "      <td>Юниверсал Пикчерз, Кикстарт Продакшнз, Марк Пл...</td>\n",
       "      <td>США</td>\n",
       "      <td>Тимур Бекмамбетов</td>\n",
       "      <td>Джим Лемли, Джейсон Нетер, Марк Е.Платт, Яйн Смит</td>\n",
       "      <td>«18+» - запрещено для детей</td>\n",
       "      <td>NaN</td>\n",
       "      <td>NaN</td>\n",
       "      <td>NaN</td>\n",
       "      <td>NaN</td>\n",
       "      <td>6.8</td>\n",
       "      <td>фантастика,боевик,триллер</td>\n",
       "    </tr>\n",
       "  </tbody>\n",
       "</table>\n",
       "</div>"
      ],
      "text/plain": [
       "                  title   puNumber           show_start_date            type  \\\n",
       "0      Открытый простор  221048915  2015-11-27T12:00:00.000Z  Художественный   \n",
       "1  Особо важное задание  111013716  2016-09-13T12:00:00.000Z  Художественный   \n",
       "2          Особо опасен  221038416  2016-10-10T12:00:00.000Z  Художественный   \n",
       "3          Особо опасен  221026916  2016-06-10T12:00:00.000Z  Художественный   \n",
       "4          Особо опасен  221030815  2015-07-29T12:00:00.000Z  Художественный   \n",
       "\n",
       "                                         film_studio production_country  \\\n",
       "0  Тачстоун Пикчерз, Кобальт Пикчерз, Бикон Пикче...                США   \n",
       "1                              Киностудия \"Мосфильм\"               СССР   \n",
       "2  Юниверсал Пикчерз, Кикстарт Продакшнз, Марк Пл...                США   \n",
       "3  Юниверсал Пикчерз, Кикстарт Продакшнз, Марк Пл...                США   \n",
       "4  Юниверсал Пикчерз, Кикстарт Продакшнз, Марк Пл...                США   \n",
       "\n",
       "            director                                           producer  \\\n",
       "0      Кевин Костнер          Дэвид Валдес, Кевин Костнер, Джейк Эбертс   \n",
       "1          Е.Матвеев                                                NaN   \n",
       "2  Тимур Бекмамбетов  Джим Лемли, Джейсон Нетер, Марк Е.Платт, Яйн Смит   \n",
       "3  Тимур Бекмамбетов  Джим Лемли, Джейсон Нетер, Марк Е.Платт, Яйн Смит   \n",
       "4  Тимур Бекмамбетов  Джим Лемли, Джейсон Нетер, Марк Е.Платт, Яйн Смит   \n",
       "\n",
       "                 age_restriction  refundable_support  nonrefundable_support  \\\n",
       "0    «18+» - запрещено для детей                 NaN                    NaN   \n",
       "1  «6+» - для детей старше 6 лет                 NaN                    NaN   \n",
       "2    «18+» - запрещено для детей                 NaN                    NaN   \n",
       "3    «18+» - запрещено для детей                 NaN                    NaN   \n",
       "4    «18+» - запрещено для детей                 NaN                    NaN   \n",
       "\n",
       "   budget financing_source ratings                     genres  \n",
       "0     NaN              NaN     7.2     боевик,драма,мелодрама  \n",
       "1     NaN              NaN     6.6              драма,военный  \n",
       "2     NaN              NaN     6.8  фантастика,боевик,триллер  \n",
       "3     NaN              NaN     6.8  фантастика,боевик,триллер  \n",
       "4     NaN              NaN     6.8  фантастика,боевик,триллер  "
      ]
     },
     "metadata": {},
     "output_type": "display_data"
    },
    {
     "name": "stdout",
     "output_type": "stream",
     "text": [
      "<class 'pandas.core.frame.DataFrame'>\n",
      "RangeIndex: 7486 entries, 0 to 7485\n",
      "Data columns (total 15 columns):\n",
      " #   Column                 Non-Null Count  Dtype  \n",
      "---  ------                 --------------  -----  \n",
      " 0   title                  7486 non-null   object \n",
      " 1   puNumber               7486 non-null   object \n",
      " 2   show_start_date        7486 non-null   object \n",
      " 3   type                   7486 non-null   object \n",
      " 4   film_studio            7468 non-null   object \n",
      " 5   production_country     7484 non-null   object \n",
      " 6   director               7477 non-null   object \n",
      " 7   producer               6918 non-null   object \n",
      " 8   age_restriction        7486 non-null   object \n",
      " 9   refundable_support     332 non-null    float64\n",
      " 10  nonrefundable_support  332 non-null    float64\n",
      " 11  budget                 332 non-null    float64\n",
      " 12  financing_source       332 non-null    object \n",
      " 13  ratings                6519 non-null   object \n",
      " 14  genres                 6510 non-null   object \n",
      "dtypes: float64(3), object(12)\n",
      "memory usage: 877.4+ KB\n"
     ]
    },
    {
     "data": {
      "text/html": [
       "<div>\n",
       "<style scoped>\n",
       "    .dataframe tbody tr th:only-of-type {\n",
       "        vertical-align: middle;\n",
       "    }\n",
       "\n",
       "    .dataframe tbody tr th {\n",
       "        vertical-align: top;\n",
       "    }\n",
       "\n",
       "    .dataframe thead th {\n",
       "        text-align: right;\n",
       "    }\n",
       "</style>\n",
       "<table border=\"1\" class=\"dataframe\">\n",
       "  <thead>\n",
       "    <tr style=\"text-align: right;\">\n",
       "      <th></th>\n",
       "      <th>puNumber</th>\n",
       "      <th>box_office</th>\n",
       "    </tr>\n",
       "  </thead>\n",
       "  <tbody>\n",
       "    <tr>\n",
       "      <th>0</th>\n",
       "      <td>111000113</td>\n",
       "      <td>2.450000e+03</td>\n",
       "    </tr>\n",
       "    <tr>\n",
       "      <th>1</th>\n",
       "      <td>111000115</td>\n",
       "      <td>6.104000e+04</td>\n",
       "    </tr>\n",
       "    <tr>\n",
       "      <th>2</th>\n",
       "      <td>111000116</td>\n",
       "      <td>1.530300e+08</td>\n",
       "    </tr>\n",
       "    <tr>\n",
       "      <th>3</th>\n",
       "      <td>111000117</td>\n",
       "      <td>1.226096e+07</td>\n",
       "    </tr>\n",
       "    <tr>\n",
       "      <th>4</th>\n",
       "      <td>111000118</td>\n",
       "      <td>1.636841e+08</td>\n",
       "    </tr>\n",
       "  </tbody>\n",
       "</table>\n",
       "</div>"
      ],
      "text/plain": [
       "    puNumber    box_office\n",
       "0  111000113  2.450000e+03\n",
       "1  111000115  6.104000e+04\n",
       "2  111000116  1.530300e+08\n",
       "3  111000117  1.226096e+07\n",
       "4  111000118  1.636841e+08"
      ]
     },
     "metadata": {},
     "output_type": "display_data"
    },
    {
     "name": "stdout",
     "output_type": "stream",
     "text": [
      "<class 'pandas.core.frame.DataFrame'>\n",
      "RangeIndex: 3158 entries, 0 to 3157\n",
      "Data columns (total 2 columns):\n",
      " #   Column      Non-Null Count  Dtype  \n",
      "---  ------      --------------  -----  \n",
      " 0   puNumber    3158 non-null   int64  \n",
      " 1   box_office  3158 non-null   float64\n",
      "dtypes: float64(1), int64(1)\n",
      "memory usage: 49.5 KB\n"
     ]
    }
   ],
   "source": [
    "# Посмотрим на полученные данные\n",
    "\n",
    "data1 = pd.read_csv(os.path.join(path, 'mkrf_movies.csv'))\n",
    "data2 = pd.read_csv(os.path.join(path, 'mkrf_shows.csv'))\n",
    "\n",
    "display(data1.head())\n",
    "data1.info()\n",
    "display(data2.head())\n",
    "data2.info()"
   ]
  },
  {
   "cell_type": "code",
   "execution_count": 5,
   "metadata": {},
   "outputs": [
    {
     "data": {
      "text/html": [
       "<div>\n",
       "<style scoped>\n",
       "    .dataframe tbody tr th:only-of-type {\n",
       "        vertical-align: middle;\n",
       "    }\n",
       "\n",
       "    .dataframe tbody tr th {\n",
       "        vertical-align: top;\n",
       "    }\n",
       "\n",
       "    .dataframe thead th {\n",
       "        text-align: right;\n",
       "    }\n",
       "</style>\n",
       "<table border=\"1\" class=\"dataframe\">\n",
       "  <thead>\n",
       "    <tr style=\"text-align: right;\">\n",
       "      <th></th>\n",
       "      <th>title</th>\n",
       "      <th>puNumber</th>\n",
       "      <th>show_start_date</th>\n",
       "      <th>type</th>\n",
       "      <th>film_studio</th>\n",
       "      <th>production_country</th>\n",
       "      <th>director</th>\n",
       "      <th>producer</th>\n",
       "      <th>age_restriction</th>\n",
       "      <th>refundable_support</th>\n",
       "      <th>nonrefundable_support</th>\n",
       "      <th>budget</th>\n",
       "      <th>financing_source</th>\n",
       "      <th>ratings</th>\n",
       "      <th>genres</th>\n",
       "    </tr>\n",
       "  </thead>\n",
       "  <tbody>\n",
       "    <tr>\n",
       "      <th>1797</th>\n",
       "      <td>Курбан-роман. (История с жертвой)</td>\n",
       "      <td>нет</td>\n",
       "      <td>2014-05-15T12:00:00.000Z</td>\n",
       "      <td>Художественный</td>\n",
       "      <td>ФОНД \"ИННОВАЦИЯ\"</td>\n",
       "      <td>Россия</td>\n",
       "      <td>С.Юзеев</td>\n",
       "      <td>М.Галицкая</td>\n",
       "      <td>«12+» - для детей старше 12 лет</td>\n",
       "      <td>NaN</td>\n",
       "      <td>NaN</td>\n",
       "      <td>NaN</td>\n",
       "      <td>NaN</td>\n",
       "      <td>NaN</td>\n",
       "      <td>NaN</td>\n",
       "    </tr>\n",
       "  </tbody>\n",
       "</table>\n",
       "</div>"
      ],
      "text/plain": [
       "                                  title puNumber           show_start_date  \\\n",
       "1797  Курбан-роман. (История с жертвой)      нет  2014-05-15T12:00:00.000Z   \n",
       "\n",
       "                type       film_studio production_country director  \\\n",
       "1797  Художественный  ФОНД \"ИННОВАЦИЯ\"             Россия  С.Юзеев   \n",
       "\n",
       "        producer                  age_restriction  refundable_support  \\\n",
       "1797  М.Галицкая  «12+» - для детей старше 12 лет                 NaN   \n",
       "\n",
       "      nonrefundable_support  budget financing_source ratings genres  \n",
       "1797                    NaN     NaN              NaN     NaN    NaN  "
      ]
     },
     "metadata": {},
     "output_type": "display_data"
    }
   ],
   "source": [
    "# Строки, которые не дают нам изменить тип данных\n",
    "display(data1[data1['puNumber'] == 'нет'])"
   ]
  },
  {
   "cell_type": "code",
   "execution_count": 6,
   "metadata": {},
   "outputs": [
    {
     "data": {
      "text/html": [
       "<div>\n",
       "<style scoped>\n",
       "    .dataframe tbody tr th:only-of-type {\n",
       "        vertical-align: middle;\n",
       "    }\n",
       "\n",
       "    .dataframe tbody tr th {\n",
       "        vertical-align: top;\n",
       "    }\n",
       "\n",
       "    .dataframe thead th {\n",
       "        text-align: right;\n",
       "    }\n",
       "</style>\n",
       "<table border=\"1\" class=\"dataframe\">\n",
       "  <thead>\n",
       "    <tr style=\"text-align: right;\">\n",
       "      <th></th>\n",
       "      <th>title</th>\n",
       "      <th>puNumber</th>\n",
       "      <th>show_start_date</th>\n",
       "      <th>type</th>\n",
       "      <th>film_studio</th>\n",
       "      <th>production_country</th>\n",
       "      <th>director</th>\n",
       "      <th>producer</th>\n",
       "      <th>age_restriction</th>\n",
       "      <th>refundable_support</th>\n",
       "      <th>nonrefundable_support</th>\n",
       "      <th>budget</th>\n",
       "      <th>financing_source</th>\n",
       "      <th>ratings</th>\n",
       "      <th>genres</th>\n",
       "      <th>box_office</th>\n",
       "    </tr>\n",
       "  </thead>\n",
       "  <tbody>\n",
       "    <tr>\n",
       "      <th>0</th>\n",
       "      <td>Открытый простор</td>\n",
       "      <td>221048915</td>\n",
       "      <td>2015-11-27T12:00:00.000Z</td>\n",
       "      <td>Художественный</td>\n",
       "      <td>Тачстоун Пикчерз, Кобальт Пикчерз, Бикон Пикче...</td>\n",
       "      <td>США</td>\n",
       "      <td>Кевин Костнер</td>\n",
       "      <td>Дэвид Валдес, Кевин Костнер, Джейк Эбертс</td>\n",
       "      <td>«18+» - запрещено для детей</td>\n",
       "      <td>NaN</td>\n",
       "      <td>NaN</td>\n",
       "      <td>NaN</td>\n",
       "      <td>NaN</td>\n",
       "      <td>7.2</td>\n",
       "      <td>боевик,драма,мелодрама</td>\n",
       "      <td>NaN</td>\n",
       "    </tr>\n",
       "    <tr>\n",
       "      <th>1</th>\n",
       "      <td>Особо важное задание</td>\n",
       "      <td>111013716</td>\n",
       "      <td>2016-09-13T12:00:00.000Z</td>\n",
       "      <td>Художественный</td>\n",
       "      <td>Киностудия \"Мосфильм\"</td>\n",
       "      <td>СССР</td>\n",
       "      <td>Е.Матвеев</td>\n",
       "      <td>NaN</td>\n",
       "      <td>«6+» - для детей старше 6 лет</td>\n",
       "      <td>NaN</td>\n",
       "      <td>NaN</td>\n",
       "      <td>NaN</td>\n",
       "      <td>NaN</td>\n",
       "      <td>6.6</td>\n",
       "      <td>драма,военный</td>\n",
       "      <td>NaN</td>\n",
       "    </tr>\n",
       "    <tr>\n",
       "      <th>2</th>\n",
       "      <td>Особо опасен</td>\n",
       "      <td>221038416</td>\n",
       "      <td>2016-10-10T12:00:00.000Z</td>\n",
       "      <td>Художественный</td>\n",
       "      <td>Юниверсал Пикчерз, Кикстарт Продакшнз, Марк Пл...</td>\n",
       "      <td>США</td>\n",
       "      <td>Тимур Бекмамбетов</td>\n",
       "      <td>Джим Лемли, Джейсон Нетер, Марк Е.Платт, Яйн Смит</td>\n",
       "      <td>«18+» - запрещено для детей</td>\n",
       "      <td>NaN</td>\n",
       "      <td>NaN</td>\n",
       "      <td>NaN</td>\n",
       "      <td>NaN</td>\n",
       "      <td>6.8</td>\n",
       "      <td>фантастика,боевик,триллер</td>\n",
       "      <td>NaN</td>\n",
       "    </tr>\n",
       "    <tr>\n",
       "      <th>3</th>\n",
       "      <td>Особо опасен</td>\n",
       "      <td>221026916</td>\n",
       "      <td>2016-06-10T12:00:00.000Z</td>\n",
       "      <td>Художественный</td>\n",
       "      <td>Юниверсал Пикчерз, Кикстарт Продакшнз, Марк Пл...</td>\n",
       "      <td>США</td>\n",
       "      <td>Тимур Бекмамбетов</td>\n",
       "      <td>Джим Лемли, Джейсон Нетер, Марк Е.Платт, Яйн Смит</td>\n",
       "      <td>«18+» - запрещено для детей</td>\n",
       "      <td>NaN</td>\n",
       "      <td>NaN</td>\n",
       "      <td>NaN</td>\n",
       "      <td>NaN</td>\n",
       "      <td>6.8</td>\n",
       "      <td>фантастика,боевик,триллер</td>\n",
       "      <td>NaN</td>\n",
       "    </tr>\n",
       "    <tr>\n",
       "      <th>4</th>\n",
       "      <td>Особо опасен</td>\n",
       "      <td>221030815</td>\n",
       "      <td>2015-07-29T12:00:00.000Z</td>\n",
       "      <td>Художественный</td>\n",
       "      <td>Юниверсал Пикчерз, Кикстарт Продакшнз, Марк Пл...</td>\n",
       "      <td>США</td>\n",
       "      <td>Тимур Бекмамбетов</td>\n",
       "      <td>Джим Лемли, Джейсон Нетер, Марк Е.Платт, Яйн Смит</td>\n",
       "      <td>«18+» - запрещено для детей</td>\n",
       "      <td>NaN</td>\n",
       "      <td>NaN</td>\n",
       "      <td>NaN</td>\n",
       "      <td>NaN</td>\n",
       "      <td>6.8</td>\n",
       "      <td>фантастика,боевик,триллер</td>\n",
       "      <td>NaN</td>\n",
       "    </tr>\n",
       "  </tbody>\n",
       "</table>\n",
       "</div>"
      ],
      "text/plain": [
       "                  title   puNumber           show_start_date            type  \\\n",
       "0      Открытый простор  221048915  2015-11-27T12:00:00.000Z  Художественный   \n",
       "1  Особо важное задание  111013716  2016-09-13T12:00:00.000Z  Художественный   \n",
       "2          Особо опасен  221038416  2016-10-10T12:00:00.000Z  Художественный   \n",
       "3          Особо опасен  221026916  2016-06-10T12:00:00.000Z  Художественный   \n",
       "4          Особо опасен  221030815  2015-07-29T12:00:00.000Z  Художественный   \n",
       "\n",
       "                                         film_studio production_country  \\\n",
       "0  Тачстоун Пикчерз, Кобальт Пикчерз, Бикон Пикче...                США   \n",
       "1                              Киностудия \"Мосфильм\"               СССР   \n",
       "2  Юниверсал Пикчерз, Кикстарт Продакшнз, Марк Пл...                США   \n",
       "3  Юниверсал Пикчерз, Кикстарт Продакшнз, Марк Пл...                США   \n",
       "4  Юниверсал Пикчерз, Кикстарт Продакшнз, Марк Пл...                США   \n",
       "\n",
       "            director                                           producer  \\\n",
       "0      Кевин Костнер          Дэвид Валдес, Кевин Костнер, Джейк Эбертс   \n",
       "1          Е.Матвеев                                                NaN   \n",
       "2  Тимур Бекмамбетов  Джим Лемли, Джейсон Нетер, Марк Е.Платт, Яйн Смит   \n",
       "3  Тимур Бекмамбетов  Джим Лемли, Джейсон Нетер, Марк Е.Платт, Яйн Смит   \n",
       "4  Тимур Бекмамбетов  Джим Лемли, Джейсон Нетер, Марк Е.Платт, Яйн Смит   \n",
       "\n",
       "                 age_restriction  refundable_support  nonrefundable_support  \\\n",
       "0    «18+» - запрещено для детей                 NaN                    NaN   \n",
       "1  «6+» - для детей старше 6 лет                 NaN                    NaN   \n",
       "2    «18+» - запрещено для детей                 NaN                    NaN   \n",
       "3    «18+» - запрещено для детей                 NaN                    NaN   \n",
       "4    «18+» - запрещено для детей                 NaN                    NaN   \n",
       "\n",
       "   budget financing_source ratings                     genres  box_office  \n",
       "0     NaN              NaN     7.2     боевик,драма,мелодрама         NaN  \n",
       "1     NaN              NaN     6.6              драма,военный         NaN  \n",
       "2     NaN              NaN     6.8  фантастика,боевик,триллер         NaN  \n",
       "3     NaN              NaN     6.8  фантастика,боевик,триллер         NaN  \n",
       "4     NaN              NaN     6.8  фантастика,боевик,триллер         NaN  "
      ]
     },
     "metadata": {},
     "output_type": "display_data"
    },
    {
     "name": "stdout",
     "output_type": "stream",
     "text": [
      "<class 'pandas.core.frame.DataFrame'>\n",
      "Int64Index: 7485 entries, 0 to 7484\n",
      "Data columns (total 16 columns):\n",
      " #   Column                 Non-Null Count  Dtype  \n",
      "---  ------                 --------------  -----  \n",
      " 0   title                  7485 non-null   object \n",
      " 1   puNumber               7485 non-null   int32  \n",
      " 2   show_start_date        7485 non-null   object \n",
      " 3   type                   7485 non-null   object \n",
      " 4   film_studio            7467 non-null   object \n",
      " 5   production_country     7483 non-null   object \n",
      " 6   director               7476 non-null   object \n",
      " 7   producer               6917 non-null   object \n",
      " 8   age_restriction        7485 non-null   object \n",
      " 9   refundable_support     332 non-null    float64\n",
      " 10  nonrefundable_support  332 non-null    float64\n",
      " 11  budget                 332 non-null    float64\n",
      " 12  financing_source       332 non-null    object \n",
      " 13  ratings                6519 non-null   object \n",
      " 14  genres                 6510 non-null   object \n",
      " 15  box_office             3158 non-null   float64\n",
      "dtypes: float64(4), int32(1), object(11)\n",
      "memory usage: 964.9+ KB\n"
     ]
    }
   ],
   "source": [
    "# Всего одна строка, в которой половина значений в столбцах неизвестны. \n",
    "# Можно удалить и изменить тип данных в столбце для объединения датафреймов.\n",
    "\n",
    "data1 = data1.drop(index=1797)\n",
    "data1 = data1.astype({'puNumber' : 'int'})\n",
    "\n",
    "data = data1.merge(data2, on='puNumber', how='left')\n",
    "display(data.head())\n",
    "data.info()"
   ]
  },
  {
   "cell_type": "markdown",
   "metadata": {},
   "source": [
    "<b>Вывод</b>\n",
    "\n",
    "Столбцы \"refundable_support\", \"nonrefundable_support\", \"budget\", \"financing_source\" имеют всего 332 заполненных значения, что странно. Все столбцы типа object привести к нижнему регистру, заменить \"ё\" на \"е\". Остальные необходимые изменения внесены в таблицу.\n",
    "\n",
    "| Столбец            | Замена типа   | Пропуски     |\n",
    "| :------------------|:-------------:| :-----------:|\n",
    "| film_studio        | не требуется  | 'unknown'    |\n",
    "| production_country | не требуется  | 'unknown'    |\n",
    "| director           | не требуется  | 'unknown'    |\n",
    "| producer\t         | не требуется  | 'unknown'    |\n",
    "| genres\t         | не требуется  | 'unknown'    |\n",
    "| box_office         | не требуется  | 0            |\n",
    "| ratings            | float         | оставить     |\n",
    "| age_restriction    | int           | отсутствуют  |\n",
    "| show_start_date    | datetime      | отсутствуют  |\n"
   ]
  },
  {
   "cell_type": "markdown",
   "metadata": {
    "id": "KLDGpPG0gFyM"
   },
   "source": [
    "## Шаг 2. Выполнить предобработку данных"
   ]
  },
  {
   "cell_type": "markdown",
   "metadata": {
    "tags": []
   },
   "source": [
    "### Проверить типы данных в датафрейме и преобразовать там, где это необходимо."
   ]
  },
  {
   "cell_type": "code",
   "execution_count": 7,
   "metadata": {
    "id": "kVGSplJOgFyO"
   },
   "outputs": [
    {
     "name": "stdout",
     "output_type": "stream",
     "text": [
      "['7.2' '6.6' '6.8' '7.7' '8.3' '8.0' '7.8' '8.1' '7.1' '6.0' '7.4' '5.8'\n",
      " '8.7' '6.3' '6.9' '5.0' '4.3' '7.3' '7.0' '6.4' nan '8.2' '7.5' '6.7'\n",
      " '7.9' '5.9' '6.2' '5.6' '6.5' '2.4' '7.6' '6.1' '8.6' '8.5' '8.8' '5.5'\n",
      " '5.1' '5.7' '5.4' '99%' '4.4' '4.5' '5.3' '4.1' '8.4' '2.6' '3.8' '4.6'\n",
      " '4.8' '4.0' '3.0' '1.6' '4.2' '5.2' '4.7' '4.9' '3.9' '2.7' '3.3' '2.9'\n",
      " '28%' '3.7' '1.4' '3.1' '97%' '3.5' '3.2' '2.8' '1.5' '2.1' '2.5' '9.2'\n",
      " '3.4' '1.1' '3.6' '83%' '64%' '91%' '94%' '62%' '79%' '90%' '19%' '88%'\n",
      " '1.0' '89%' '1.3' '1.9' '1.8' '1.2' '1.7' '9.0' '98%' '8.9' '9.1']\n"
     ]
    }
   ],
   "source": [
    "# Посмотрим, почему 'ratings' считается стобцом типа object\n",
    "print(data['ratings'].unique())"
   ]
  },
  {
   "cell_type": "code",
   "execution_count": 8,
   "metadata": {},
   "outputs": [],
   "source": [
    "# Изменение типа в стобце 'ratings'\n",
    "for i in range(len(data['ratings'])):\n",
    "    try:\n",
    "        data.loc[i, 'ratings'] = float(data.loc[i, 'ratings'])\n",
    "    except:\n",
    "        data.loc[i, 'ratings'] = float(data.loc[i, 'ratings'][:2])/10\n",
    "        \n",
    "data = data.astype({'ratings' : 'float'})"
   ]
  },
  {
   "cell_type": "code",
   "execution_count": 9,
   "metadata": {},
   "outputs": [
    {
     "data": {
      "image/png": "[encoded data removed]",
      "text/plain": [
       "<Figure size 432x288 with 1 Axes>"
      ]
     },
     "metadata": {
      "needs_background": "light"
     },
     "output_type": "display_data"
    }
   ],
   "source": [
    "# удалим символы процента и преобразуем в число\n",
    "data['ratings'] = data['ratings'].astype('str').replace('%', '').astype('float')\n",
    "# все числа больше 10, поделим на 10\n",
    "data['ratings'] = data['ratings'].where(data['ratings'] <= 10, data['ratings'] / 10)\n",
    "\n",
    "# построим гистограмму\n",
    "data['ratings'].hist();"
   ]
  },
  {
   "cell_type": "code",
   "execution_count": 10,
   "metadata": {},
   "outputs": [
    {
     "data": {
      "text/plain": [
       "«16+» - для детей старше 16 лет           2851\n",
       "«18+» - запрещено для детей               1605\n",
       "«12+» - для детей старше 12 лет           1592\n",
       "«0+» - для любой зрительской аудитории     811\n",
       "«6+» - для детей старше 6 лет              626\n",
       "Name: age_restriction, dtype: int64"
      ]
     },
     "execution_count": 10,
     "metadata": {},
     "output_type": "execute_result"
    }
   ],
   "source": [
    "data['age_restriction'].value_counts()"
   ]
  },
  {
   "cell_type": "code",
   "execution_count": 11,
   "metadata": {},
   "outputs": [
    {
     "name": "stdout",
     "output_type": "stream",
     "text": [
      "<class 'pandas.core.frame.DataFrame'>\n",
      "Int64Index: 7485 entries, 0 to 7484\n",
      "Data columns (total 16 columns):\n",
      " #   Column                 Non-Null Count  Dtype         \n",
      "---  ------                 --------------  -----         \n",
      " 0   title                  7485 non-null   object        \n",
      " 1   puNumber               7485 non-null   int32         \n",
      " 2   show_start_date        7485 non-null   datetime64[ns]\n",
      " 3   type                   7485 non-null   object        \n",
      " 4   film_studio            7467 non-null   object        \n",
      " 5   production_country     7483 non-null   object        \n",
      " 6   director               7476 non-null   object        \n",
      " 7   producer               6917 non-null   object        \n",
      " 8   age_restriction        7485 non-null   object        \n",
      " 9   refundable_support     332 non-null    float64       \n",
      " 10  nonrefundable_support  332 non-null    float64       \n",
      " 11  budget                 332 non-null    float64       \n",
      " 12  financing_source       332 non-null    object        \n",
      " 13  ratings                6519 non-null   float64       \n",
      " 14  genres                 6510 non-null   object        \n",
      " 15  box_office             3158 non-null   float64       \n",
      "dtypes: datetime64[ns](1), float64(5), int32(1), object(9)\n",
      "memory usage: 1.2+ MB\n"
     ]
    }
   ],
   "source": [
    "# Изменение типа в столбце 'age_restriction'\n",
    "for i in range(len(data['age_restriction'])):\n",
    "    if '1' in data.loc[i, 'age_restriction']:\n",
    "        data.loc[i, 'age_restriction'] = int(data.loc[i, 'age_restriction'][1:3])\n",
    "    else:\n",
    "        data.loc[i, 'age_restriction'] = int(data.loc[i, 'age_restriction'][1:2])\n",
    "        \n",
    "# Изменение типа в столбце 'show_start_date'\n",
    "data['show_start_date'] = pd.to_datetime(data['show_start_date'], format='%Y-%m-%dT%H:%M:%S.%fZ')\n",
    "\n",
    "data.info()"
   ]
  },
  {
   "cell_type": "code",
   "execution_count": 12,
   "metadata": {},
   "outputs": [
    {
     "data": {
      "text/plain": [
       "16    2851\n",
       "18    1605\n",
       "12    1592\n",
       "0      811\n",
       "6      626\n",
       "Name: age_restriction, dtype: int64"
      ]
     },
     "execution_count": 12,
     "metadata": {},
     "output_type": "execute_result"
    }
   ],
   "source": [
    "data['age_restriction'].value_counts()"
   ]
  },
  {
   "cell_type": "markdown",
   "metadata": {
    "tags": []
   },
   "source": [
    "### Изучить пропуски в датафрейме. Объяснить, почему заполнены пропуски определённым образом."
   ]
  },
  {
   "cell_type": "code",
   "execution_count": 13,
   "metadata": {
    "id": "8MJD_lkngFyP"
   },
   "outputs": [
    {
     "name": "stdout",
     "output_type": "stream",
     "text": [
      "<class 'pandas.core.frame.DataFrame'>\n",
      "Int64Index: 7485 entries, 0 to 7484\n",
      "Data columns (total 16 columns):\n",
      " #   Column                 Non-Null Count  Dtype         \n",
      "---  ------                 --------------  -----         \n",
      " 0   title                  7485 non-null   object        \n",
      " 1   puNumber               7485 non-null   int32         \n",
      " 2   show_start_date        7485 non-null   datetime64[ns]\n",
      " 3   type                   7485 non-null   object        \n",
      " 4   film_studio            7485 non-null   object        \n",
      " 5   production_country     7485 non-null   object        \n",
      " 6   director               7485 non-null   object        \n",
      " 7   producer               7485 non-null   object        \n",
      " 8   age_restriction        7485 non-null   object        \n",
      " 9   refundable_support     332 non-null    float64       \n",
      " 10  nonrefundable_support  332 non-null    float64       \n",
      " 11  budget                 332 non-null    float64       \n",
      " 12  financing_source       332 non-null    object        \n",
      " 13  ratings                7485 non-null   float64       \n",
      " 14  genres                 7485 non-null   object        \n",
      " 15  box_office             7485 non-null   float64       \n",
      "dtypes: datetime64[ns](1), float64(5), int32(1), object(9)\n",
      "memory usage: 1.2+ MB\n"
     ]
    }
   ],
   "source": [
    "data[['genres', 'producer', 'director', 'production_country', 'film_studio']] = data[['genres', 'producer', 'director', 'production_country', 'film_studio']].fillna('unknown')\n",
    "\n",
    "data[['box_office']] = data[['box_office']].fillna(0)\n",
    "\n",
    "data['ratings'] = data['ratings'].fillna(data['ratings'].mean())\n",
    "data.info()"
   ]
  },
  {
   "cell_type": "markdown",
   "metadata": {},
   "source": [
    "В столбцах \"financing_source\", \"budget\", \"nonrefundable_support\", \"refundable_support\" были оставлены пропущенные значения, потому что столбцы имеют всего 332 заполненных значений, заполнять остальные средним или медианой будет явным искажением данных, заполнять стандартными 0 или 'unknown' тоже кажется некорректно.\n",
    "\n",
    "В \"box_office\" пропущенные значения заполнены 0, потому что вполне логично предположить, что если данные о сборах не указаны, то фильм в прокате не был и сами сборы равны нулю, т.к. эта информация пришла из отдельной таблицы о прокате в кинотеатрах.\n",
    "\n",
    "В \"ratings\" пропущенные значения заполнены средним, потому что таких значений не так много, и разница между средним и медианой почти равна нулю.\n",
    "\n",
    "Остальные столбцы с категориальными значениями были заполнены \"unknown\", т.к. целесообразно выделить значения в которых отстутвует какая-то информация в отдельную категорию, а не пропускать их."
   ]
  },
  {
   "cell_type": "markdown",
   "metadata": {
    "tags": []
   },
   "source": [
    "### Проверить, есть ли в данных дубликаты. Описать причины, которые могли повлиять на появление дублей."
   ]
  },
  {
   "cell_type": "code",
   "execution_count": 14,
   "metadata": {},
   "outputs": [
    {
     "name": "stdout",
     "output_type": "stream",
     "text": [
      "0\n",
      "726\n",
      "8\n"
     ]
    }
   ],
   "source": [
    "list_to_low = ['genres', 'producer', 'director', 'production_country', 'film_studio', 'title', 'type', 'financing_source']\n",
    "for i in list_to_low:\n",
    "    data[i] = data[i].str.lower()\n",
    "    data[i] = data[i].str.replace('ё', 'е')\n",
    "    \n",
    "print(data.duplicated().sum())\n",
    "print(data['title'].duplicated().sum())\n",
    "print(data[['title', 'show_start_date']].duplicated().sum())"
   ]
  },
  {
   "cell_type": "code",
   "execution_count": 15,
   "metadata": {},
   "outputs": [
    {
     "data": {
      "text/html": [
       "<div>\n",
       "<style scoped>\n",
       "    .dataframe tbody tr th:only-of-type {\n",
       "        vertical-align: middle;\n",
       "    }\n",
       "\n",
       "    .dataframe tbody tr th {\n",
       "        vertical-align: top;\n",
       "    }\n",
       "\n",
       "    .dataframe thead th {\n",
       "        text-align: right;\n",
       "    }\n",
       "</style>\n",
       "<table border=\"1\" class=\"dataframe\">\n",
       "  <thead>\n",
       "    <tr style=\"text-align: right;\">\n",
       "      <th></th>\n",
       "      <th>title</th>\n",
       "      <th>puNumber</th>\n",
       "      <th>show_start_date</th>\n",
       "      <th>type</th>\n",
       "      <th>film_studio</th>\n",
       "      <th>production_country</th>\n",
       "      <th>director</th>\n",
       "      <th>producer</th>\n",
       "      <th>age_restriction</th>\n",
       "      <th>refundable_support</th>\n",
       "      <th>nonrefundable_support</th>\n",
       "      <th>budget</th>\n",
       "      <th>financing_source</th>\n",
       "      <th>ratings</th>\n",
       "      <th>genres</th>\n",
       "      <th>box_office</th>\n",
       "    </tr>\n",
       "  </thead>\n",
       "  <tbody>\n",
       "    <tr>\n",
       "      <th>3</th>\n",
       "      <td>особо опасен</td>\n",
       "      <td>221026916</td>\n",
       "      <td>2016-06-10 12:00:00</td>\n",
       "      <td>художественный</td>\n",
       "      <td>юниверсал пикчерз, кикстарт продакшнз, марк пл...</td>\n",
       "      <td>сша</td>\n",
       "      <td>тимур бекмамбетов</td>\n",
       "      <td>джим лемли, джейсон нетер, марк е.платт, яйн смит</td>\n",
       "      <td>18</td>\n",
       "      <td>NaN</td>\n",
       "      <td>NaN</td>\n",
       "      <td>NaN</td>\n",
       "      <td>NaN</td>\n",
       "      <td>6.8</td>\n",
       "      <td>фантастика,боевик,триллер</td>\n",
       "      <td>0.0</td>\n",
       "    </tr>\n",
       "    <tr>\n",
       "      <th>4</th>\n",
       "      <td>особо опасен</td>\n",
       "      <td>221030815</td>\n",
       "      <td>2015-07-29 12:00:00</td>\n",
       "      <td>художественный</td>\n",
       "      <td>юниверсал пикчерз, кикстарт продакшнз, марк пл...</td>\n",
       "      <td>сша</td>\n",
       "      <td>тимур бекмамбетов</td>\n",
       "      <td>джим лемли, джейсон нетер, марк е.платт, яйн смит</td>\n",
       "      <td>18</td>\n",
       "      <td>NaN</td>\n",
       "      <td>NaN</td>\n",
       "      <td>NaN</td>\n",
       "      <td>NaN</td>\n",
       "      <td>6.8</td>\n",
       "      <td>фантастика,боевик,триллер</td>\n",
       "      <td>0.0</td>\n",
       "    </tr>\n",
       "    <tr>\n",
       "      <th>41</th>\n",
       "      <td>алекс и эмма</td>\n",
       "      <td>221004616</td>\n",
       "      <td>2016-02-09 12:00:00</td>\n",
       "      <td>художественный</td>\n",
       "      <td>эскейп артистс, франчайз пикчерз, рейнер-грэйс...</td>\n",
       "      <td>сша</td>\n",
       "      <td>роб райнер</td>\n",
       "      <td>тодд блэк, элан грейсман, джереми левен, роб р...</td>\n",
       "      <td>16</td>\n",
       "      <td>NaN</td>\n",
       "      <td>NaN</td>\n",
       "      <td>NaN</td>\n",
       "      <td>NaN</td>\n",
       "      <td>6.4</td>\n",
       "      <td>мелодрама,комедия</td>\n",
       "      <td>0.0</td>\n",
       "    </tr>\n",
       "    <tr>\n",
       "      <th>110</th>\n",
       "      <td>гарри поттер и орден феникса /по роману дж.к.р...</td>\n",
       "      <td>121026316</td>\n",
       "      <td>2016-09-23 12:00:00</td>\n",
       "      <td>художественный</td>\n",
       "      <td>уорнер бразерс, хэйдей филмз</td>\n",
       "      <td>сша - великобритания</td>\n",
       "      <td>дэвид йетс</td>\n",
       "      <td>дэйвид баррон, дэйвид хейман</td>\n",
       "      <td>16</td>\n",
       "      <td>NaN</td>\n",
       "      <td>NaN</td>\n",
       "      <td>NaN</td>\n",
       "      <td>NaN</td>\n",
       "      <td>7.7</td>\n",
       "      <td>фэнтези,приключения,семейный</td>\n",
       "      <td>759526.0</td>\n",
       "    </tr>\n",
       "    <tr>\n",
       "      <th>113</th>\n",
       "      <td>гарри поттер и узник азкабана /по роману дж.к....</td>\n",
       "      <td>121026116</td>\n",
       "      <td>2016-09-23 12:00:00</td>\n",
       "      <td>художественный</td>\n",
       "      <td>хэйдей филмз, 1492 пикчерз, уорнер бразерс</td>\n",
       "      <td>сша</td>\n",
       "      <td>альфонсо куарон</td>\n",
       "      <td>майкл барната</td>\n",
       "      <td>12</td>\n",
       "      <td>NaN</td>\n",
       "      <td>NaN</td>\n",
       "      <td>NaN</td>\n",
       "      <td>NaN</td>\n",
       "      <td>8.2</td>\n",
       "      <td>фэнтези,приключения,семейный</td>\n",
       "      <td>1125302.0</td>\n",
       "    </tr>\n",
       "  </tbody>\n",
       "</table>\n",
       "</div>"
      ],
      "text/plain": [
       "                                                 title   puNumber  \\\n",
       "3                                         особо опасен  221026916   \n",
       "4                                         особо опасен  221030815   \n",
       "41                                        алекс и эмма  221004616   \n",
       "110  гарри поттер и орден феникса /по роману дж.к.р...  121026316   \n",
       "113  гарри поттер и узник азкабана /по роману дж.к....  121026116   \n",
       "\n",
       "        show_start_date            type  \\\n",
       "3   2016-06-10 12:00:00  художественный   \n",
       "4   2015-07-29 12:00:00  художественный   \n",
       "41  2016-02-09 12:00:00  художественный   \n",
       "110 2016-09-23 12:00:00  художественный   \n",
       "113 2016-09-23 12:00:00  художественный   \n",
       "\n",
       "                                           film_studio    production_country  \\\n",
       "3    юниверсал пикчерз, кикстарт продакшнз, марк пл...                   сша   \n",
       "4    юниверсал пикчерз, кикстарт продакшнз, марк пл...                   сша   \n",
       "41   эскейп артистс, франчайз пикчерз, рейнер-грэйс...                   сша   \n",
       "110                       уорнер бразерс, хэйдей филмз  сша - великобритания   \n",
       "113         хэйдей филмз, 1492 пикчерз, уорнер бразерс                   сша   \n",
       "\n",
       "              director                                           producer  \\\n",
       "3    тимур бекмамбетов  джим лемли, джейсон нетер, марк е.платт, яйн смит   \n",
       "4    тимур бекмамбетов  джим лемли, джейсон нетер, марк е.платт, яйн смит   \n",
       "41          роб райнер  тодд блэк, элан грейсман, джереми левен, роб р...   \n",
       "110         дэвид йетс                       дэйвид баррон, дэйвид хейман   \n",
       "113    альфонсо куарон                                      майкл барната   \n",
       "\n",
       "    age_restriction  refundable_support  nonrefundable_support  budget  \\\n",
       "3                18                 NaN                    NaN     NaN   \n",
       "4                18                 NaN                    NaN     NaN   \n",
       "41               16                 NaN                    NaN     NaN   \n",
       "110              16                 NaN                    NaN     NaN   \n",
       "113              12                 NaN                    NaN     NaN   \n",
       "\n",
       "    financing_source  ratings                        genres  box_office  \n",
       "3                NaN      6.8     фантастика,боевик,триллер         0.0  \n",
       "4                NaN      6.8     фантастика,боевик,триллер         0.0  \n",
       "41               NaN      6.4             мелодрама,комедия         0.0  \n",
       "110              NaN      7.7  фэнтези,приключения,семейный    759526.0  \n",
       "113              NaN      8.2  фэнтези,приключения,семейный   1125302.0  "
      ]
     },
     "metadata": {},
     "output_type": "display_data"
    },
    {
     "data": {
      "text/html": [
       "<div>\n",
       "<style scoped>\n",
       "    .dataframe tbody tr th:only-of-type {\n",
       "        vertical-align: middle;\n",
       "    }\n",
       "\n",
       "    .dataframe tbody tr th {\n",
       "        vertical-align: top;\n",
       "    }\n",
       "\n",
       "    .dataframe thead th {\n",
       "        text-align: right;\n",
       "    }\n",
       "</style>\n",
       "<table border=\"1\" class=\"dataframe\">\n",
       "  <thead>\n",
       "    <tr style=\"text-align: right;\">\n",
       "      <th></th>\n",
       "      <th>title</th>\n",
       "      <th>puNumber</th>\n",
       "      <th>show_start_date</th>\n",
       "      <th>type</th>\n",
       "      <th>film_studio</th>\n",
       "      <th>production_country</th>\n",
       "      <th>director</th>\n",
       "      <th>producer</th>\n",
       "      <th>age_restriction</th>\n",
       "      <th>refundable_support</th>\n",
       "      <th>nonrefundable_support</th>\n",
       "      <th>budget</th>\n",
       "      <th>financing_source</th>\n",
       "      <th>ratings</th>\n",
       "      <th>genres</th>\n",
       "      <th>box_office</th>\n",
       "    </tr>\n",
       "  </thead>\n",
       "  <tbody>\n",
       "    <tr>\n",
       "      <th>1301</th>\n",
       "      <td>эпидемия_</td>\n",
       "      <td>221035513</td>\n",
       "      <td>2013-10-07 12:00:00</td>\n",
       "      <td>художественный</td>\n",
       "      <td>морена фильм, ребелион террестр, а 3 медиа гру...</td>\n",
       "      <td>испания - франция</td>\n",
       "      <td>алекс пастор, давид пастор</td>\n",
       "      <td>мерседес гамеро, альберто марини, педро уриоль</td>\n",
       "      <td>16</td>\n",
       "      <td>NaN</td>\n",
       "      <td>NaN</td>\n",
       "      <td>NaN</td>\n",
       "      <td>NaN</td>\n",
       "      <td>7.2</td>\n",
       "      <td>драма,фантастика,триллер</td>\n",
       "      <td>0.0</td>\n",
       "    </tr>\n",
       "    <tr>\n",
       "      <th>1476</th>\n",
       "      <td>оторвы</td>\n",
       "      <td>221013214</td>\n",
       "      <td>2014-04-07 12:00:00</td>\n",
       "      <td>художественный</td>\n",
       "      <td>проминент пикчерз, ворлдвью интертейнмент, инд...</td>\n",
       "      <td>сша</td>\n",
       "      <td>кристофер нельсон</td>\n",
       "      <td>молли коннерс, хезер рэй</td>\n",
       "      <td>16</td>\n",
       "      <td>NaN</td>\n",
       "      <td>NaN</td>\n",
       "      <td>NaN</td>\n",
       "      <td>NaN</td>\n",
       "      <td>3.5</td>\n",
       "      <td>комедия,приключения</td>\n",
       "      <td>0.0</td>\n",
       "    </tr>\n",
       "    <tr>\n",
       "      <th>2191</th>\n",
       "      <td>последние пять лет.</td>\n",
       "      <td>121005715</td>\n",
       "      <td>2015-03-25 12:00:00</td>\n",
       "      <td>художественный</td>\n",
       "      <td>гранд пикс интертейнмент, лаки манки пикчерз, ...</td>\n",
       "      <td>сша</td>\n",
       "      <td>ричард лагравенес</td>\n",
       "      <td>джанет бреннер, лорен версель, курт дойтч, рич...</td>\n",
       "      <td>16</td>\n",
       "      <td>NaN</td>\n",
       "      <td>NaN</td>\n",
       "      <td>NaN</td>\n",
       "      <td>NaN</td>\n",
       "      <td>5.7</td>\n",
       "      <td>мюзикл,драма,мелодрама</td>\n",
       "      <td>52495.0</td>\n",
       "    </tr>\n",
       "    <tr>\n",
       "      <th>2752</th>\n",
       "      <td>пингвиненок пороро: большие гонки</td>\n",
       "      <td>124001915</td>\n",
       "      <td>2015-04-15 12:00:00</td>\n",
       "      <td>анимационный</td>\n",
       "      <td>окон студиос, чина филм, симка интертейнмент, ...</td>\n",
       "      <td>южная корея - кнр</td>\n",
       "      <td>юнг куюн парк</td>\n",
       "      <td>иль хо ким, михал симка</td>\n",
       "      <td>0</td>\n",
       "      <td>NaN</td>\n",
       "      <td>NaN</td>\n",
       "      <td>NaN</td>\n",
       "      <td>NaN</td>\n",
       "      <td>5.2</td>\n",
       "      <td>мультфильм,семейный,спорт</td>\n",
       "      <td>14152495.9</td>\n",
       "    </tr>\n",
       "    <tr>\n",
       "      <th>3086</th>\n",
       "      <td>анархисты</td>\n",
       "      <td>121002316</td>\n",
       "      <td>2016-02-03 12:00:00</td>\n",
       "      <td>художественный</td>\n",
       "      <td>24 май продюксьон, франс 2 синема</td>\n",
       "      <td>франция</td>\n",
       "      <td>эли важеман</td>\n",
       "      <td>лола гэнс</td>\n",
       "      <td>16</td>\n",
       "      <td>NaN</td>\n",
       "      <td>NaN</td>\n",
       "      <td>NaN</td>\n",
       "      <td>NaN</td>\n",
       "      <td>5.7</td>\n",
       "      <td>драма</td>\n",
       "      <td>332371.0</td>\n",
       "    </tr>\n",
       "  </tbody>\n",
       "</table>\n",
       "</div>"
      ],
      "text/plain": [
       "                                  title   puNumber     show_start_date  \\\n",
       "1301                          эпидемия_  221035513 2013-10-07 12:00:00   \n",
       "1476                             оторвы  221013214 2014-04-07 12:00:00   \n",
       "2191                последние пять лет.  121005715 2015-03-25 12:00:00   \n",
       "2752  пингвиненок пороро: большие гонки  124001915 2015-04-15 12:00:00   \n",
       "3086                          анархисты  121002316 2016-02-03 12:00:00   \n",
       "\n",
       "                type                                        film_studio  \\\n",
       "1301  художественный  морена фильм, ребелион террестр, а 3 медиа гру...   \n",
       "1476  художественный  проминент пикчерз, ворлдвью интертейнмент, инд...   \n",
       "2191  художественный  гранд пикс интертейнмент, лаки манки пикчерз, ...   \n",
       "2752    анимационный  окон студиос, чина филм, симка интертейнмент, ...   \n",
       "3086  художественный                  24 май продюксьон, франс 2 синема   \n",
       "\n",
       "     production_country                    director  \\\n",
       "1301  испания - франция  алекс пастор, давид пастор   \n",
       "1476                сша           кристофер нельсон   \n",
       "2191                сша           ричард лагравенес   \n",
       "2752  южная корея - кнр               юнг куюн парк   \n",
       "3086            франция                 эли важеман   \n",
       "\n",
       "                                               producer age_restriction  \\\n",
       "1301     мерседес гамеро, альберто марини, педро уриоль              16   \n",
       "1476                           молли коннерс, хезер рэй              16   \n",
       "2191  джанет бреннер, лорен версель, курт дойтч, рич...              16   \n",
       "2752                            иль хо ким, михал симка               0   \n",
       "3086                                          лола гэнс              16   \n",
       "\n",
       "      refundable_support  nonrefundable_support  budget financing_source  \\\n",
       "1301                 NaN                    NaN     NaN              NaN   \n",
       "1476                 NaN                    NaN     NaN              NaN   \n",
       "2191                 NaN                    NaN     NaN              NaN   \n",
       "2752                 NaN                    NaN     NaN              NaN   \n",
       "3086                 NaN                    NaN     NaN              NaN   \n",
       "\n",
       "      ratings                     genres  box_office  \n",
       "1301      7.2   драма,фантастика,триллер         0.0  \n",
       "1476      3.5        комедия,приключения         0.0  \n",
       "2191      5.7     мюзикл,драма,мелодрама     52495.0  \n",
       "2752      5.2  мультфильм,семейный,спорт  14152495.9  \n",
       "3086      5.7                      драма    332371.0  "
      ]
     },
     "metadata": {},
     "output_type": "display_data"
    }
   ],
   "source": [
    "display(data[data['title'].duplicated()].head())\n",
    "display(data[data[['title', 'show_start_date']].duplicated()].head())"
   ]
  },
  {
   "cell_type": "code",
   "execution_count": 16,
   "metadata": {},
   "outputs": [
    {
     "data": {
      "text/html": [
       "<div>\n",
       "<style scoped>\n",
       "    .dataframe tbody tr th:only-of-type {\n",
       "        vertical-align: middle;\n",
       "    }\n",
       "\n",
       "    .dataframe tbody tr th {\n",
       "        vertical-align: top;\n",
       "    }\n",
       "\n",
       "    .dataframe thead th {\n",
       "        text-align: right;\n",
       "    }\n",
       "</style>\n",
       "<table border=\"1\" class=\"dataframe\">\n",
       "  <thead>\n",
       "    <tr style=\"text-align: right;\">\n",
       "      <th></th>\n",
       "      <th>title</th>\n",
       "      <th>puNumber</th>\n",
       "      <th>show_start_date</th>\n",
       "      <th>type</th>\n",
       "      <th>film_studio</th>\n",
       "      <th>production_country</th>\n",
       "      <th>director</th>\n",
       "      <th>producer</th>\n",
       "      <th>age_restriction</th>\n",
       "      <th>refundable_support</th>\n",
       "      <th>nonrefundable_support</th>\n",
       "      <th>budget</th>\n",
       "      <th>financing_source</th>\n",
       "      <th>ratings</th>\n",
       "      <th>genres</th>\n",
       "      <th>box_office</th>\n",
       "    </tr>\n",
       "  </thead>\n",
       "  <tbody>\n",
       "    <tr>\n",
       "      <th>1300</th>\n",
       "      <td>эпидемия_</td>\n",
       "      <td>121025713</td>\n",
       "      <td>2013-10-07 12:00:00</td>\n",
       "      <td>художественный</td>\n",
       "      <td>морена фильм, ребелион террестр, а 3 медиа гру...</td>\n",
       "      <td>испания - франция</td>\n",
       "      <td>алекс пастор, давид пастор</td>\n",
       "      <td>мерседес гамеро, альберто марини, педро уриоль</td>\n",
       "      <td>16</td>\n",
       "      <td>NaN</td>\n",
       "      <td>NaN</td>\n",
       "      <td>NaN</td>\n",
       "      <td>NaN</td>\n",
       "      <td>7.2</td>\n",
       "      <td>драма,фантастика,триллер</td>\n",
       "      <td>0.0</td>\n",
       "    </tr>\n",
       "    <tr>\n",
       "      <th>1301</th>\n",
       "      <td>эпидемия_</td>\n",
       "      <td>221035513</td>\n",
       "      <td>2013-10-07 12:00:00</td>\n",
       "      <td>художественный</td>\n",
       "      <td>морена фильм, ребелион террестр, а 3 медиа гру...</td>\n",
       "      <td>испания - франция</td>\n",
       "      <td>алекс пастор, давид пастор</td>\n",
       "      <td>мерседес гамеро, альберто марини, педро уриоль</td>\n",
       "      <td>16</td>\n",
       "      <td>NaN</td>\n",
       "      <td>NaN</td>\n",
       "      <td>NaN</td>\n",
       "      <td>NaN</td>\n",
       "      <td>7.2</td>\n",
       "      <td>драма,фантастика,триллер</td>\n",
       "      <td>0.0</td>\n",
       "    </tr>\n",
       "  </tbody>\n",
       "</table>\n",
       "</div>"
      ],
      "text/plain": [
       "          title   puNumber     show_start_date            type  \\\n",
       "1300  эпидемия_  121025713 2013-10-07 12:00:00  художественный   \n",
       "1301  эпидемия_  221035513 2013-10-07 12:00:00  художественный   \n",
       "\n",
       "                                            film_studio production_country  \\\n",
       "1300  морена фильм, ребелион террестр, а 3 медиа гру...  испания - франция   \n",
       "1301  морена фильм, ребелион террестр, а 3 медиа гру...  испания - франция   \n",
       "\n",
       "                        director  \\\n",
       "1300  алекс пастор, давид пастор   \n",
       "1301  алекс пастор, давид пастор   \n",
       "\n",
       "                                            producer age_restriction  \\\n",
       "1300  мерседес гамеро, альберто марини, педро уриоль              16   \n",
       "1301  мерседес гамеро, альберто марини, педро уриоль              16   \n",
       "\n",
       "      refundable_support  nonrefundable_support  budget financing_source  \\\n",
       "1300                 NaN                    NaN     NaN              NaN   \n",
       "1301                 NaN                    NaN     NaN              NaN   \n",
       "\n",
       "      ratings                    genres  box_office  \n",
       "1300      7.2  драма,фантастика,триллер         0.0  \n",
       "1301      7.2  драма,фантастика,триллер         0.0  "
      ]
     },
     "metadata": {},
     "output_type": "display_data"
    },
    {
     "data": {
      "text/html": [
       "<div>\n",
       "<style scoped>\n",
       "    .dataframe tbody tr th:only-of-type {\n",
       "        vertical-align: middle;\n",
       "    }\n",
       "\n",
       "    .dataframe tbody tr th {\n",
       "        vertical-align: top;\n",
       "    }\n",
       "\n",
       "    .dataframe thead th {\n",
       "        text-align: right;\n",
       "    }\n",
       "</style>\n",
       "<table border=\"1\" class=\"dataframe\">\n",
       "  <thead>\n",
       "    <tr style=\"text-align: right;\">\n",
       "      <th></th>\n",
       "      <th>title</th>\n",
       "      <th>puNumber</th>\n",
       "      <th>show_start_date</th>\n",
       "      <th>type</th>\n",
       "      <th>film_studio</th>\n",
       "      <th>production_country</th>\n",
       "      <th>director</th>\n",
       "      <th>producer</th>\n",
       "      <th>age_restriction</th>\n",
       "      <th>refundable_support</th>\n",
       "      <th>nonrefundable_support</th>\n",
       "      <th>budget</th>\n",
       "      <th>financing_source</th>\n",
       "      <th>ratings</th>\n",
       "      <th>genres</th>\n",
       "      <th>box_office</th>\n",
       "    </tr>\n",
       "  </thead>\n",
       "  <tbody>\n",
       "    <tr>\n",
       "      <th>1475</th>\n",
       "      <td>оторвы</td>\n",
       "      <td>121006514</td>\n",
       "      <td>2014-04-07 12:00:00</td>\n",
       "      <td>художественный</td>\n",
       "      <td>проминент пикчерз, ворлдвью интертейнмент, инд...</td>\n",
       "      <td>сша</td>\n",
       "      <td>кристофер нельсон</td>\n",
       "      <td>молли коннерс, хезер рэй</td>\n",
       "      <td>16</td>\n",
       "      <td>NaN</td>\n",
       "      <td>NaN</td>\n",
       "      <td>NaN</td>\n",
       "      <td>NaN</td>\n",
       "      <td>3.5</td>\n",
       "      <td>комедия,приключения</td>\n",
       "      <td>0.0</td>\n",
       "    </tr>\n",
       "    <tr>\n",
       "      <th>1476</th>\n",
       "      <td>оторвы</td>\n",
       "      <td>221013214</td>\n",
       "      <td>2014-04-07 12:00:00</td>\n",
       "      <td>художественный</td>\n",
       "      <td>проминент пикчерз, ворлдвью интертейнмент, инд...</td>\n",
       "      <td>сша</td>\n",
       "      <td>кристофер нельсон</td>\n",
       "      <td>молли коннерс, хезер рэй</td>\n",
       "      <td>16</td>\n",
       "      <td>NaN</td>\n",
       "      <td>NaN</td>\n",
       "      <td>NaN</td>\n",
       "      <td>NaN</td>\n",
       "      <td>3.5</td>\n",
       "      <td>комедия,приключения</td>\n",
       "      <td>0.0</td>\n",
       "    </tr>\n",
       "  </tbody>\n",
       "</table>\n",
       "</div>"
      ],
      "text/plain": [
       "       title   puNumber     show_start_date            type  \\\n",
       "1475  оторвы  121006514 2014-04-07 12:00:00  художественный   \n",
       "1476  оторвы  221013214 2014-04-07 12:00:00  художественный   \n",
       "\n",
       "                                            film_studio production_country  \\\n",
       "1475  проминент пикчерз, ворлдвью интертейнмент, инд...                сша   \n",
       "1476  проминент пикчерз, ворлдвью интертейнмент, инд...                сша   \n",
       "\n",
       "               director                  producer age_restriction  \\\n",
       "1475  кристофер нельсон  молли коннерс, хезер рэй              16   \n",
       "1476  кристофер нельсон  молли коннерс, хезер рэй              16   \n",
       "\n",
       "      refundable_support  nonrefundable_support  budget financing_source  \\\n",
       "1475                 NaN                    NaN     NaN              NaN   \n",
       "1476                 NaN                    NaN     NaN              NaN   \n",
       "\n",
       "      ratings               genres  box_office  \n",
       "1475      3.5  комедия,приключения         0.0  \n",
       "1476      3.5  комедия,приключения         0.0  "
      ]
     },
     "metadata": {},
     "output_type": "display_data"
    }
   ],
   "source": [
    "# Посмотрим на строки где дублируются и название, и дата\n",
    "display(data.loc[1300:1301, :])\n",
    "display(data.loc[1475:1476, :])"
   ]
  },
  {
   "cell_type": "markdown",
   "metadata": {},
   "source": [
    "Дубликаты фильмов в данных есть, большая часть связана с тем, что возможно фильм был зарегистрирован в прокат ещё раз через какое-то время (дубликаты в названии). Что касается дубликатов в названии и в дате, то можно предположить, что документы на прокатное удостоверение были поданы несколькими людьми в один день(продюсер и прокатчик, например)"
   ]
  },
  {
   "cell_type": "markdown",
   "metadata": {
    "tags": []
   },
   "source": [
    "### Изучить столбцы, которые содержат категориальные значения:"
   ]
  },
  {
   "cell_type": "code",
   "execution_count": 17,
   "metadata": {
    "id": "PnXKIVdFgFyR"
   },
   "outputs": [
    {
     "data": {
      "text/html": [
       "<div>\n",
       "<style scoped>\n",
       "    .dataframe tbody tr th:only-of-type {\n",
       "        vertical-align: middle;\n",
       "    }\n",
       "\n",
       "    .dataframe tbody tr th {\n",
       "        vertical-align: top;\n",
       "    }\n",
       "\n",
       "    .dataframe thead th {\n",
       "        text-align: right;\n",
       "    }\n",
       "</style>\n",
       "<table border=\"1\" class=\"dataframe\">\n",
       "  <thead>\n",
       "    <tr style=\"text-align: right;\">\n",
       "      <th></th>\n",
       "      <th>title</th>\n",
       "      <th>puNumber</th>\n",
       "      <th>show_start_date</th>\n",
       "      <th>type</th>\n",
       "      <th>film_studio</th>\n",
       "      <th>production_country</th>\n",
       "      <th>director</th>\n",
       "      <th>producer</th>\n",
       "      <th>age_restriction</th>\n",
       "      <th>refundable_support</th>\n",
       "      <th>nonrefundable_support</th>\n",
       "      <th>budget</th>\n",
       "      <th>financing_source</th>\n",
       "      <th>ratings</th>\n",
       "      <th>genres</th>\n",
       "      <th>box_office</th>\n",
       "    </tr>\n",
       "  </thead>\n",
       "  <tbody>\n",
       "    <tr>\n",
       "      <th>0</th>\n",
       "      <td>открытый простор</td>\n",
       "      <td>221048915</td>\n",
       "      <td>2015-11-27 12:00:00</td>\n",
       "      <td>художественный</td>\n",
       "      <td>тачстоун пикчерз, кобальт пикчерз, бикон пикче...</td>\n",
       "      <td>сша</td>\n",
       "      <td>кевин костнер</td>\n",
       "      <td>дэвид валдес, кевин костнер, джейк эбертс</td>\n",
       "      <td>18</td>\n",
       "      <td>NaN</td>\n",
       "      <td>NaN</td>\n",
       "      <td>NaN</td>\n",
       "      <td>NaN</td>\n",
       "      <td>7.2</td>\n",
       "      <td>боевик,драма,мелодрама</td>\n",
       "      <td>0.0</td>\n",
       "    </tr>\n",
       "    <tr>\n",
       "      <th>1</th>\n",
       "      <td>особо важное задание</td>\n",
       "      <td>111013716</td>\n",
       "      <td>2016-09-13 12:00:00</td>\n",
       "      <td>художественный</td>\n",
       "      <td>киностудия \"мосфильм\"</td>\n",
       "      <td>ссср</td>\n",
       "      <td>е.матвеев</td>\n",
       "      <td>unknown</td>\n",
       "      <td>6</td>\n",
       "      <td>NaN</td>\n",
       "      <td>NaN</td>\n",
       "      <td>NaN</td>\n",
       "      <td>NaN</td>\n",
       "      <td>6.6</td>\n",
       "      <td>драма,военный</td>\n",
       "      <td>0.0</td>\n",
       "    </tr>\n",
       "    <tr>\n",
       "      <th>2</th>\n",
       "      <td>особо опасен</td>\n",
       "      <td>221038416</td>\n",
       "      <td>2016-10-10 12:00:00</td>\n",
       "      <td>художественный</td>\n",
       "      <td>юниверсал пикчерз, кикстарт продакшнз, марк пл...</td>\n",
       "      <td>сша</td>\n",
       "      <td>тимур бекмамбетов</td>\n",
       "      <td>джим лемли, джейсон нетер, марк е.платт, яйн смит</td>\n",
       "      <td>18</td>\n",
       "      <td>NaN</td>\n",
       "      <td>NaN</td>\n",
       "      <td>NaN</td>\n",
       "      <td>NaN</td>\n",
       "      <td>6.8</td>\n",
       "      <td>фантастика,боевик,триллер</td>\n",
       "      <td>0.0</td>\n",
       "    </tr>\n",
       "    <tr>\n",
       "      <th>3</th>\n",
       "      <td>особо опасен</td>\n",
       "      <td>221026916</td>\n",
       "      <td>2016-06-10 12:00:00</td>\n",
       "      <td>художественный</td>\n",
       "      <td>юниверсал пикчерз, кикстарт продакшнз, марк пл...</td>\n",
       "      <td>сша</td>\n",
       "      <td>тимур бекмамбетов</td>\n",
       "      <td>джим лемли, джейсон нетер, марк е.платт, яйн смит</td>\n",
       "      <td>18</td>\n",
       "      <td>NaN</td>\n",
       "      <td>NaN</td>\n",
       "      <td>NaN</td>\n",
       "      <td>NaN</td>\n",
       "      <td>6.8</td>\n",
       "      <td>фантастика,боевик,триллер</td>\n",
       "      <td>0.0</td>\n",
       "    </tr>\n",
       "    <tr>\n",
       "      <th>4</th>\n",
       "      <td>особо опасен</td>\n",
       "      <td>221030815</td>\n",
       "      <td>2015-07-29 12:00:00</td>\n",
       "      <td>художественный</td>\n",
       "      <td>юниверсал пикчерз, кикстарт продакшнз, марк пл...</td>\n",
       "      <td>сша</td>\n",
       "      <td>тимур бекмамбетов</td>\n",
       "      <td>джим лемли, джейсон нетер, марк е.платт, яйн смит</td>\n",
       "      <td>18</td>\n",
       "      <td>NaN</td>\n",
       "      <td>NaN</td>\n",
       "      <td>NaN</td>\n",
       "      <td>NaN</td>\n",
       "      <td>6.8</td>\n",
       "      <td>фантастика,боевик,триллер</td>\n",
       "      <td>0.0</td>\n",
       "    </tr>\n",
       "  </tbody>\n",
       "</table>\n",
       "</div>"
      ],
      "text/plain": [
       "                  title   puNumber     show_start_date            type  \\\n",
       "0      открытый простор  221048915 2015-11-27 12:00:00  художественный   \n",
       "1  особо важное задание  111013716 2016-09-13 12:00:00  художественный   \n",
       "2          особо опасен  221038416 2016-10-10 12:00:00  художественный   \n",
       "3          особо опасен  221026916 2016-06-10 12:00:00  художественный   \n",
       "4          особо опасен  221030815 2015-07-29 12:00:00  художественный   \n",
       "\n",
       "                                         film_studio production_country  \\\n",
       "0  тачстоун пикчерз, кобальт пикчерз, бикон пикче...                сша   \n",
       "1                              киностудия \"мосфильм\"               ссср   \n",
       "2  юниверсал пикчерз, кикстарт продакшнз, марк пл...                сша   \n",
       "3  юниверсал пикчерз, кикстарт продакшнз, марк пл...                сша   \n",
       "4  юниверсал пикчерз, кикстарт продакшнз, марк пл...                сша   \n",
       "\n",
       "            director                                           producer  \\\n",
       "0      кевин костнер          дэвид валдес, кевин костнер, джейк эбертс   \n",
       "1          е.матвеев                                            unknown   \n",
       "2  тимур бекмамбетов  джим лемли, джейсон нетер, марк е.платт, яйн смит   \n",
       "3  тимур бекмамбетов  джим лемли, джейсон нетер, марк е.платт, яйн смит   \n",
       "4  тимур бекмамбетов  джим лемли, джейсон нетер, марк е.платт, яйн смит   \n",
       "\n",
       "  age_restriction  refundable_support  nonrefundable_support  budget  \\\n",
       "0              18                 NaN                    NaN     NaN   \n",
       "1               6                 NaN                    NaN     NaN   \n",
       "2              18                 NaN                    NaN     NaN   \n",
       "3              18                 NaN                    NaN     NaN   \n",
       "4              18                 NaN                    NaN     NaN   \n",
       "\n",
       "  financing_source  ratings                     genres  box_office  \n",
       "0              NaN      7.2     боевик,драма,мелодрама         0.0  \n",
       "1              NaN      6.6              драма,военный         0.0  \n",
       "2              NaN      6.8  фантастика,боевик,триллер         0.0  \n",
       "3              NaN      6.8  фантастика,боевик,триллер         0.0  \n",
       "4              NaN      6.8  фантастика,боевик,триллер         0.0  "
      ]
     },
     "metadata": {},
     "output_type": "display_data"
    }
   ],
   "source": [
    "data['type'] = data['type'].str.strip()\n",
    "\n",
    "display(data.head())"
   ]
  },
  {
   "cell_type": "markdown",
   "metadata": {
    "tags": []
   },
   "source": [
    "### Изучить столбцы, которые хранят количественные значения."
   ]
  },
  {
   "cell_type": "code",
   "execution_count": 18,
   "metadata": {
    "id": "YbzClBxagFyS"
   },
   "outputs": [
    {
     "name": "stdout",
     "output_type": "stream",
     "text": [
      "<class 'pandas.core.frame.DataFrame'>\n",
      "Int64Index: 7485 entries, 0 to 7484\n",
      "Data columns (total 16 columns):\n",
      " #   Column                 Non-Null Count  Dtype         \n",
      "---  ------                 --------------  -----         \n",
      " 0   title                  7485 non-null   object        \n",
      " 1   puNumber               7485 non-null   int32         \n",
      " 2   show_start_date        7485 non-null   datetime64[ns]\n",
      " 3   type                   7485 non-null   object        \n",
      " 4   film_studio            7485 non-null   object        \n",
      " 5   production_country     7485 non-null   object        \n",
      " 6   director               7485 non-null   object        \n",
      " 7   producer               7485 non-null   object        \n",
      " 8   age_restriction        7485 non-null   object        \n",
      " 9   refundable_support     332 non-null    float64       \n",
      " 10  nonrefundable_support  332 non-null    float64       \n",
      " 11  budget                 332 non-null    float64       \n",
      " 12  financing_source       332 non-null    object        \n",
      " 13  ratings                7485 non-null   float64       \n",
      " 14  genres                 7485 non-null   object        \n",
      " 15  box_office             7485 non-null   float64       \n",
      "dtypes: datetime64[ns](1), float64(5), int32(1), object(9)\n",
      "memory usage: 1.2+ MB\n"
     ]
    }
   ],
   "source": [
    "data.info()"
   ]
  },
  {
   "cell_type": "markdown",
   "metadata": {},
   "source": [
    "Как уже сказано выше, 4 столбца \"financing_source\", \"budget\", \"nonrefundable_support\", \"refundable_support\" выглядят подозрительно из-за малого количества заполненных данных. Думаю, что такие данные лучше оставить или, может, выделить в отдельную таблицу."
   ]
  },
  {
   "cell_type": "markdown",
   "metadata": {
    "id": "Eu6oWp2CgFyS",
    "tags": []
   },
   "source": [
    "### Добавить новые столбцы"
   ]
  },
  {
   "cell_type": "code",
   "execution_count": 19,
   "metadata": {
    "id": "I-yd1DkWgFyT"
   },
   "outputs": [],
   "source": [
    "data['year'] = data['show_start_date'].dt.year"
   ]
  },
  {
   "cell_type": "code",
   "execution_count": 20,
   "metadata": {
    "id": "LSbRZKbMgFyU"
   },
   "outputs": [],
   "source": [
    "data['main_director'] = data['director'].str.split(',')\n",
    "data['main_genre'] = data['genres'].str.split(',')\n",
    "for i in range(len(data['main_director'])):\n",
    "    data.loc[i, 'main_director'] = data.loc[i, 'main_director'][0]\n",
    "    data.loc[i, 'main_genre'] = data.loc[i, 'main_genre'][0]"
   ]
  },
  {
   "cell_type": "markdown",
   "metadata": {
    "id": "1FsCXHwdgFyU"
   },
   "source": [
    "- Посчитайте, какую долю от общего бюджета фильма составляет государственная поддержка."
   ]
  },
  {
   "cell_type": "code",
   "execution_count": 21,
   "metadata": {
    "id": "LV6qFuZLgFyV"
   },
   "outputs": [],
   "source": [
    "data['support_part'] = (data['refundable_support']+data['nonrefundable_support'])/data['budget']"
   ]
  },
  {
   "cell_type": "code",
   "execution_count": 22,
   "metadata": {},
   "outputs": [
    {
     "data": {
      "text/html": [
       "<div>\n",
       "<style scoped>\n",
       "    .dataframe tbody tr th:only-of-type {\n",
       "        vertical-align: middle;\n",
       "    }\n",
       "\n",
       "    .dataframe tbody tr th {\n",
       "        vertical-align: top;\n",
       "    }\n",
       "\n",
       "    .dataframe thead th {\n",
       "        text-align: right;\n",
       "    }\n",
       "</style>\n",
       "<table border=\"1\" class=\"dataframe\">\n",
       "  <thead>\n",
       "    <tr style=\"text-align: right;\">\n",
       "      <th></th>\n",
       "      <th>title</th>\n",
       "      <th>puNumber</th>\n",
       "      <th>show_start_date</th>\n",
       "      <th>type</th>\n",
       "      <th>film_studio</th>\n",
       "      <th>production_country</th>\n",
       "      <th>director</th>\n",
       "      <th>producer</th>\n",
       "      <th>age_restriction</th>\n",
       "      <th>refundable_support</th>\n",
       "      <th>nonrefundable_support</th>\n",
       "      <th>budget</th>\n",
       "      <th>financing_source</th>\n",
       "      <th>ratings</th>\n",
       "      <th>genres</th>\n",
       "      <th>box_office</th>\n",
       "      <th>year</th>\n",
       "      <th>main_director</th>\n",
       "      <th>main_genre</th>\n",
       "      <th>support_part</th>\n",
       "    </tr>\n",
       "  </thead>\n",
       "  <tbody>\n",
       "    <tr>\n",
       "      <th>0</th>\n",
       "      <td>открытый простор</td>\n",
       "      <td>221048915</td>\n",
       "      <td>2015-11-27 12:00:00</td>\n",
       "      <td>художественный</td>\n",
       "      <td>тачстоун пикчерз, кобальт пикчерз, бикон пикче...</td>\n",
       "      <td>сша</td>\n",
       "      <td>кевин костнер</td>\n",
       "      <td>дэвид валдес, кевин костнер, джейк эбертс</td>\n",
       "      <td>18</td>\n",
       "      <td>NaN</td>\n",
       "      <td>NaN</td>\n",
       "      <td>NaN</td>\n",
       "      <td>NaN</td>\n",
       "      <td>7.2</td>\n",
       "      <td>боевик,драма,мелодрама</td>\n",
       "      <td>0.0</td>\n",
       "      <td>2015</td>\n",
       "      <td>кевин костнер</td>\n",
       "      <td>боевик</td>\n",
       "      <td>NaN</td>\n",
       "    </tr>\n",
       "    <tr>\n",
       "      <th>1</th>\n",
       "      <td>особо важное задание</td>\n",
       "      <td>111013716</td>\n",
       "      <td>2016-09-13 12:00:00</td>\n",
       "      <td>художественный</td>\n",
       "      <td>киностудия \"мосфильм\"</td>\n",
       "      <td>ссср</td>\n",
       "      <td>е.матвеев</td>\n",
       "      <td>unknown</td>\n",
       "      <td>6</td>\n",
       "      <td>NaN</td>\n",
       "      <td>NaN</td>\n",
       "      <td>NaN</td>\n",
       "      <td>NaN</td>\n",
       "      <td>6.6</td>\n",
       "      <td>драма,военный</td>\n",
       "      <td>0.0</td>\n",
       "      <td>2016</td>\n",
       "      <td>е.матвеев</td>\n",
       "      <td>драма</td>\n",
       "      <td>NaN</td>\n",
       "    </tr>\n",
       "    <tr>\n",
       "      <th>2</th>\n",
       "      <td>особо опасен</td>\n",
       "      <td>221038416</td>\n",
       "      <td>2016-10-10 12:00:00</td>\n",
       "      <td>художественный</td>\n",
       "      <td>юниверсал пикчерз, кикстарт продакшнз, марк пл...</td>\n",
       "      <td>сша</td>\n",
       "      <td>тимур бекмамбетов</td>\n",
       "      <td>джим лемли, джейсон нетер, марк е.платт, яйн смит</td>\n",
       "      <td>18</td>\n",
       "      <td>NaN</td>\n",
       "      <td>NaN</td>\n",
       "      <td>NaN</td>\n",
       "      <td>NaN</td>\n",
       "      <td>6.8</td>\n",
       "      <td>фантастика,боевик,триллер</td>\n",
       "      <td>0.0</td>\n",
       "      <td>2016</td>\n",
       "      <td>тимур бекмамбетов</td>\n",
       "      <td>фантастика</td>\n",
       "      <td>NaN</td>\n",
       "    </tr>\n",
       "    <tr>\n",
       "      <th>3</th>\n",
       "      <td>особо опасен</td>\n",
       "      <td>221026916</td>\n",
       "      <td>2016-06-10 12:00:00</td>\n",
       "      <td>художественный</td>\n",
       "      <td>юниверсал пикчерз, кикстарт продакшнз, марк пл...</td>\n",
       "      <td>сша</td>\n",
       "      <td>тимур бекмамбетов</td>\n",
       "      <td>джим лемли, джейсон нетер, марк е.платт, яйн смит</td>\n",
       "      <td>18</td>\n",
       "      <td>NaN</td>\n",
       "      <td>NaN</td>\n",
       "      <td>NaN</td>\n",
       "      <td>NaN</td>\n",
       "      <td>6.8</td>\n",
       "      <td>фантастика,боевик,триллер</td>\n",
       "      <td>0.0</td>\n",
       "      <td>2016</td>\n",
       "      <td>тимур бекмамбетов</td>\n",
       "      <td>фантастика</td>\n",
       "      <td>NaN</td>\n",
       "    </tr>\n",
       "    <tr>\n",
       "      <th>4</th>\n",
       "      <td>особо опасен</td>\n",
       "      <td>221030815</td>\n",
       "      <td>2015-07-29 12:00:00</td>\n",
       "      <td>художественный</td>\n",
       "      <td>юниверсал пикчерз, кикстарт продакшнз, марк пл...</td>\n",
       "      <td>сша</td>\n",
       "      <td>тимур бекмамбетов</td>\n",
       "      <td>джим лемли, джейсон нетер, марк е.платт, яйн смит</td>\n",
       "      <td>18</td>\n",
       "      <td>NaN</td>\n",
       "      <td>NaN</td>\n",
       "      <td>NaN</td>\n",
       "      <td>NaN</td>\n",
       "      <td>6.8</td>\n",
       "      <td>фантастика,боевик,триллер</td>\n",
       "      <td>0.0</td>\n",
       "      <td>2015</td>\n",
       "      <td>тимур бекмамбетов</td>\n",
       "      <td>фантастика</td>\n",
       "      <td>NaN</td>\n",
       "    </tr>\n",
       "  </tbody>\n",
       "</table>\n",
       "</div>"
      ],
      "text/plain": [
       "                  title   puNumber     show_start_date            type  \\\n",
       "0      открытый простор  221048915 2015-11-27 12:00:00  художественный   \n",
       "1  особо важное задание  111013716 2016-09-13 12:00:00  художественный   \n",
       "2          особо опасен  221038416 2016-10-10 12:00:00  художественный   \n",
       "3          особо опасен  221026916 2016-06-10 12:00:00  художественный   \n",
       "4          особо опасен  221030815 2015-07-29 12:00:00  художественный   \n",
       "\n",
       "                                         film_studio production_country  \\\n",
       "0  тачстоун пикчерз, кобальт пикчерз, бикон пикче...                сша   \n",
       "1                              киностудия \"мосфильм\"               ссср   \n",
       "2  юниверсал пикчерз, кикстарт продакшнз, марк пл...                сша   \n",
       "3  юниверсал пикчерз, кикстарт продакшнз, марк пл...                сша   \n",
       "4  юниверсал пикчерз, кикстарт продакшнз, марк пл...                сша   \n",
       "\n",
       "            director                                           producer  \\\n",
       "0      кевин костнер          дэвид валдес, кевин костнер, джейк эбертс   \n",
       "1          е.матвеев                                            unknown   \n",
       "2  тимур бекмамбетов  джим лемли, джейсон нетер, марк е.платт, яйн смит   \n",
       "3  тимур бекмамбетов  джим лемли, джейсон нетер, марк е.платт, яйн смит   \n",
       "4  тимур бекмамбетов  джим лемли, джейсон нетер, марк е.платт, яйн смит   \n",
       "\n",
       "  age_restriction  refundable_support  nonrefundable_support  budget  \\\n",
       "0              18                 NaN                    NaN     NaN   \n",
       "1               6                 NaN                    NaN     NaN   \n",
       "2              18                 NaN                    NaN     NaN   \n",
       "3              18                 NaN                    NaN     NaN   \n",
       "4              18                 NaN                    NaN     NaN   \n",
       "\n",
       "  financing_source  ratings                     genres  box_office  year  \\\n",
       "0              NaN      7.2     боевик,драма,мелодрама         0.0  2015   \n",
       "1              NaN      6.6              драма,военный         0.0  2016   \n",
       "2              NaN      6.8  фантастика,боевик,триллер         0.0  2016   \n",
       "3              NaN      6.8  фантастика,боевик,триллер         0.0  2016   \n",
       "4              NaN      6.8  фантастика,боевик,триллер         0.0  2015   \n",
       "\n",
       "       main_director  main_genre  support_part  \n",
       "0      кевин костнер      боевик           NaN  \n",
       "1          е.матвеев       драма           NaN  \n",
       "2  тимур бекмамбетов  фантастика           NaN  \n",
       "3  тимур бекмамбетов  фантастика           NaN  \n",
       "4  тимур бекмамбетов  фантастика           NaN  "
      ]
     },
     "metadata": {},
     "output_type": "display_data"
    }
   ],
   "source": [
    "display(data.head())"
   ]
  },
  {
   "cell_type": "markdown",
   "metadata": {},
   "source": [
    "## Провести исследовательский анализ данных"
   ]
  },
  {
   "cell_type": "markdown",
   "metadata": {
    "id": "vAH8WCzugFyV",
    "tags": []
   },
   "source": [
    "### Посмотреть, сколько фильмов выходило в прокат каждый год. Обратить внимание, что данные о прокате в кинотеатрах известны не для всех фильмов. Посчитать, какую долю составляют фильмы с указанной информацией о прокате в кинотеатрах."
   ]
  },
  {
   "cell_type": "code",
   "execution_count": 23,
   "metadata": {
    "id": "ABeV47y7gFyW"
   },
   "outputs": [
    {
     "data": {
      "text/html": [
       "<div>\n",
       "<style scoped>\n",
       "    .dataframe tbody tr th:only-of-type {\n",
       "        vertical-align: middle;\n",
       "    }\n",
       "\n",
       "    .dataframe tbody tr th {\n",
       "        vertical-align: top;\n",
       "    }\n",
       "\n",
       "    .dataframe thead th {\n",
       "        text-align: right;\n",
       "    }\n",
       "</style>\n",
       "<table border=\"1\" class=\"dataframe\">\n",
       "  <thead>\n",
       "    <tr style=\"text-align: right;\">\n",
       "      <th></th>\n",
       "      <th>number</th>\n",
       "    </tr>\n",
       "    <tr>\n",
       "      <th>year</th>\n",
       "      <th></th>\n",
       "    </tr>\n",
       "  </thead>\n",
       "  <tbody>\n",
       "    <tr>\n",
       "      <th>2010</th>\n",
       "      <td>101</td>\n",
       "    </tr>\n",
       "    <tr>\n",
       "      <th>2011</th>\n",
       "      <td>109</td>\n",
       "    </tr>\n",
       "    <tr>\n",
       "      <th>2012</th>\n",
       "      <td>123</td>\n",
       "    </tr>\n",
       "    <tr>\n",
       "      <th>2013</th>\n",
       "      <td>179</td>\n",
       "    </tr>\n",
       "    <tr>\n",
       "      <th>2014</th>\n",
       "      <td>273</td>\n",
       "    </tr>\n",
       "    <tr>\n",
       "      <th>2015</th>\n",
       "      <td>462</td>\n",
       "    </tr>\n",
       "    <tr>\n",
       "      <th>2016</th>\n",
       "      <td>525</td>\n",
       "    </tr>\n",
       "    <tr>\n",
       "      <th>2017</th>\n",
       "      <td>357</td>\n",
       "    </tr>\n",
       "    <tr>\n",
       "      <th>2018</th>\n",
       "      <td>475</td>\n",
       "    </tr>\n",
       "    <tr>\n",
       "      <th>2019</th>\n",
       "      <td>530</td>\n",
       "    </tr>\n",
       "  </tbody>\n",
       "</table>\n",
       "</div>"
      ],
      "text/plain": [
       "      number\n",
       "year        \n",
       "2010     101\n",
       "2011     109\n",
       "2012     123\n",
       "2013     179\n",
       "2014     273\n",
       "2015     462\n",
       "2016     525\n",
       "2017     357\n",
       "2018     475\n",
       "2019     530"
      ]
     },
     "metadata": {},
     "output_type": "display_data"
    },
    {
     "name": "stdout",
     "output_type": "stream",
     "text": [
      "Доля фильмов с указанной информацией о прокате в кинотеатрах равна 0.4187\n"
     ]
    }
   ],
   "source": [
    "films_year = data[data['box_office'] != 0].pivot_table(index='year', values='box_office', aggfunc='count')\n",
    "films_year = films_year.rename(columns={'box_office':'number'})\n",
    "display(films_year)\n",
    "\n",
    "print('Доля фильмов с указанной информацией о прокате в кинотеатрах равна', \n",
    "      round(data[data['box_office'] != 0]['title'].count()/data['title'].count(), 4))"
   ]
  },
  {
   "cell_type": "code",
   "execution_count": 24,
   "metadata": {},
   "outputs": [
    {
     "data": {
      "image/png": "[encoded data removed]",
      "text/plain": [
       "<Figure size 1440x576 with 1 Axes>"
      ]
     },
     "metadata": {
      "needs_background": "light"
     },
     "output_type": "display_data"
    }
   ],
   "source": [
    "fig = plt.figure(figsize=(20, 8))\n",
    "ax1 = fig.add_subplot()\n",
    "ax1.bar(films_year.index, films_year['number'])\n",
    "ax1.set_xticks(films_year.index)\n",
    "ax1.set_xticklabels(films_year.index)\n",
    "plt.gca().set(title='График выхода фильмов', ylabel='Количество вышедших фильмов', xlabel='Год')\n",
    "\n",
    "rects = ax1.patches\n",
    "\n",
    "labels = list(films_year['number'])\n",
    "\n",
    "for rect, label in zip(rects, labels):\n",
    "    height = rect.get_height()\n",
    "    ax1.text(\n",
    "        rect.get_x() + rect.get_width() / 2, height + 5, label, ha=\"center\", va=\"bottom\"\n",
    "    )\n",
    "\n",
    "plt.savefig('plt', bbox_inches = \"tight\")\n",
    "    \n",
    "plt.show()\n"
   ]
  },
  {
   "cell_type": "markdown",
   "metadata": {
    "id": "BEOdcIrIgFyW",
    "tags": []
   },
   "source": [
    "### Изучить, как менялась динамика проката по годам. В каком году сумма сборов была минимальной? А максимальной?"
   ]
  },
  {
   "cell_type": "code",
   "execution_count": 25,
   "metadata": {
    "id": "tfEhofYvgFyX"
   },
   "outputs": [
    {
     "data": {
      "text/html": [
       "<div>\n",
       "<style scoped>\n",
       "    .dataframe tbody tr th:only-of-type {\n",
       "        vertical-align: middle;\n",
       "    }\n",
       "\n",
       "    .dataframe tbody tr th {\n",
       "        vertical-align: top;\n",
       "    }\n",
       "\n",
       "    .dataframe thead th {\n",
       "        text-align: right;\n",
       "    }\n",
       "</style>\n",
       "<table border=\"1\" class=\"dataframe\">\n",
       "  <thead>\n",
       "    <tr style=\"text-align: right;\">\n",
       "      <th></th>\n",
       "      <th>year</th>\n",
       "      <th>box_office</th>\n",
       "    </tr>\n",
       "  </thead>\n",
       "  <tbody>\n",
       "    <tr>\n",
       "      <th>0</th>\n",
       "      <td>2010</td>\n",
       "      <td>2.428654e+06</td>\n",
       "    </tr>\n",
       "    <tr>\n",
       "      <th>1</th>\n",
       "      <td>2011</td>\n",
       "      <td>1.410276e+07</td>\n",
       "    </tr>\n",
       "    <tr>\n",
       "      <th>2</th>\n",
       "      <td>2012</td>\n",
       "      <td>6.955423e+06</td>\n",
       "    </tr>\n",
       "    <tr>\n",
       "      <th>3</th>\n",
       "      <td>2013</td>\n",
       "      <td>2.979971e+07</td>\n",
       "    </tr>\n",
       "    <tr>\n",
       "      <th>4</th>\n",
       "      <td>2014</td>\n",
       "      <td>7.444952e+09</td>\n",
       "    </tr>\n",
       "    <tr>\n",
       "      <th>5</th>\n",
       "      <td>2015</td>\n",
       "      <td>3.949737e+10</td>\n",
       "    </tr>\n",
       "    <tr>\n",
       "      <th>6</th>\n",
       "      <td>2016</td>\n",
       "      <td>4.786630e+10</td>\n",
       "    </tr>\n",
       "    <tr>\n",
       "      <th>7</th>\n",
       "      <td>2017</td>\n",
       "      <td>4.856371e+10</td>\n",
       "    </tr>\n",
       "    <tr>\n",
       "      <th>8</th>\n",
       "      <td>2018</td>\n",
       "      <td>4.966840e+10</td>\n",
       "    </tr>\n",
       "    <tr>\n",
       "      <th>9</th>\n",
       "      <td>2019</td>\n",
       "      <td>4.842571e+10</td>\n",
       "    </tr>\n",
       "  </tbody>\n",
       "</table>\n",
       "</div>"
      ],
      "text/plain": [
       "   year    box_office\n",
       "0  2010  2.428654e+06\n",
       "1  2011  1.410276e+07\n",
       "2  2012  6.955423e+06\n",
       "3  2013  2.979971e+07\n",
       "4  2014  7.444952e+09\n",
       "5  2015  3.949737e+10\n",
       "6  2016  4.786630e+10\n",
       "7  2017  4.856371e+10\n",
       "8  2018  4.966840e+10\n",
       "9  2019  4.842571e+10"
      ]
     },
     "metadata": {},
     "output_type": "display_data"
    },
    {
     "name": "stdout",
     "output_type": "stream",
     "text": [
      "Минимальная сумма сборов была в 2010 году\n",
      "Максимальная сумма сборов была в 2018 году\n"
     ]
    }
   ],
   "source": [
    "box_year = data.groupby('year', as_index=False)['box_office'].sum()\n",
    "display(box_year)\n",
    "\n",
    "print('Минимальная сумма сборов была в', int(box_year[box_year['box_office'] == box_year['box_office'].min()]['year']), 'году')\n",
    "print('Максимальная сумма сборов была в', int(box_year[box_year['box_office'] == box_year['box_office'].max()]['year']), 'году')"
   ]
  },
  {
   "cell_type": "code",
   "execution_count": 53,
   "metadata": {},
   "outputs": [
    {
     "data": {
      "image/png": "[encoded data removed]",
      "text/plain": [
       "<Figure size 1440x576 with 1 Axes>"
      ]
     },
     "metadata": {
      "needs_background": "light"
     },
     "output_type": "display_data"
    }
   ],
   "source": [
    "fig = plt.figure(figsize=(20, 8))\n",
    "ax1 = fig.add_subplot()\n",
    "plt.ticklabel_format(scilimits=(6, 6))\n",
    "#ax1.plot(box_year['year'], box_year['box_office'])\n",
    "ax1.plot(box_year['year'][:4], box_year['box_office'][:4])\n",
    "ax1.plot(box_year['year'][4:], box_year['box_office'][4:], color='#ffc001')\n",
    "#plt.vlines(2013, 0, 5e10, colors = \"r\", linestyles = \"dashed\")\n",
    "ax1.set_xticks(box_year['year'])\n",
    "ax1.set_xticklabels(box_year['year'])\n",
    "plt.gca().set(title='Динамика кинопроката', ylabel='Сумма сборов', xlabel='Год')\n",
    "\n",
    "rects = ax1.patches\n",
    "\n",
    "labels = list(box_year['box_office'])\n",
    "\n",
    "for rect, label in zip(rects, labels):\n",
    "    height = rect.get_height()\n",
    "    ax1.text(\n",
    "        rect.get_x() + rect.get_width() / 2, height + 5, label, ha=\"center\", va=\"bottom\"\n",
    "    )\n",
    "\n",
    "plt.savefig('plt', bbox_inches = \"tight\")\n",
    "    \n",
    "plt.show()"
   ]
  },
  {
   "cell_type": "code",
   "execution_count": 54,
   "metadata": {},
   "outputs": [
    {
     "data": {
      "image/png": "[encoded data removed]",
      "text/plain": [
       "<Figure size 1440x576 with 1 Axes>"
      ]
     },
     "metadata": {
      "needs_background": "light"
     },
     "output_type": "display_data"
    }
   ],
   "source": [
    "fig = plt.figure(figsize=(20, 8))\n",
    "ax1 = fig.add_subplot()\n",
    "plt.ticklabel_format(scilimits=(6, 6))\n",
    "ax1.plot(box_year['year'][:4], box_year['box_office'][:4])\n",
    "ax1.set_xticks(box_year['year'][:4])\n",
    "ax1.set_xticklabels(box_year['year'][:4])\n",
    "plt.gca().set(title='Динамика кинопроката', ylabel='Сумма сборов', xlabel='Год')\n",
    "\n",
    "rects = ax1.patches\n",
    "\n",
    "labels = list(box_year['box_office'][:4])\n",
    "\n",
    "for rect, label in zip(rects, labels):\n",
    "    height = rect.get_height()\n",
    "    ax1.text(\n",
    "        rect.get_x() + rect.get_width() / 2, height + 5, label, ha=\"center\", va=\"bottom\"\n",
    "    )\n",
    "\n",
    "plt.savefig('plt', bbox_inches = \"tight\")\n",
    "    \n",
    "plt.show()"
   ]
  },
  {
   "cell_type": "code",
   "execution_count": 55,
   "metadata": {},
   "outputs": [
    {
     "data": {
      "image/png": "[encoded data removed]",
      "text/plain": [
       "<Figure size 1440x576 with 1 Axes>"
      ]
     },
     "metadata": {
      "needs_background": "light"
     },
     "output_type": "display_data"
    }
   ],
   "source": [
    "fig = plt.figure(figsize=(20, 8))\n",
    "ax1 = fig.add_subplot()\n",
    "plt.ticklabel_format(scilimits=(6, 6))\n",
    "ax1.plot(box_year['year'][4:], box_year['box_office'][4:], color='#ffc001')\n",
    "ax1.set_xticks(box_year['year'][4:])\n",
    "ax1.set_xticklabels(box_year['year'][4:])\n",
    "plt.gca().set(title='Динамика кинопроката', ylabel='Сумма сборов', xlabel='Год')\n",
    "\n",
    "rects = ax1.patches\n",
    "\n",
    "labels = list(box_year['box_office'][4:])\n",
    "\n",
    "for rect, label in zip(rects, labels):\n",
    "    height = rect.get_height()\n",
    "    ax1.text(\n",
    "        rect.get_x() + rect.get_width() / 2, height + 5, label, ha=\"center\", va=\"bottom\"\n",
    "    )\n",
    "\n",
    "plt.savefig('plt', bbox_inches = \"tight\")\n",
    "    \n",
    "plt.show()"
   ]
  },
  {
   "cell_type": "markdown",
   "metadata": {
    "id": "G-7qS-N-gFyY",
    "tags": []
   },
   "source": [
    "### С помощью сводной таблицы посчитать среднюю и медианную сумму сборов для каждого года."
   ]
  },
  {
   "cell_type": "code",
   "execution_count": 29,
   "metadata": {
    "id": "jmp-rgg9gFyY"
   },
   "outputs": [
    {
     "data": {
      "text/html": [
       "<div>\n",
       "<style scoped>\n",
       "    .dataframe tbody tr th:only-of-type {\n",
       "        vertical-align: middle;\n",
       "    }\n",
       "\n",
       "    .dataframe tbody tr th {\n",
       "        vertical-align: top;\n",
       "    }\n",
       "\n",
       "    .dataframe thead tr th {\n",
       "        text-align: left;\n",
       "    }\n",
       "\n",
       "    .dataframe thead tr:last-of-type th {\n",
       "        text-align: right;\n",
       "    }\n",
       "</style>\n",
       "<table border=\"1\" class=\"dataframe\">\n",
       "  <thead>\n",
       "    <tr>\n",
       "      <th></th>\n",
       "      <th>mean</th>\n",
       "      <th>median</th>\n",
       "    </tr>\n",
       "    <tr>\n",
       "      <th></th>\n",
       "      <th>box_office</th>\n",
       "      <th>box_office</th>\n",
       "    </tr>\n",
       "    <tr>\n",
       "      <th>year</th>\n",
       "      <th></th>\n",
       "      <th></th>\n",
       "    </tr>\n",
       "  </thead>\n",
       "  <tbody>\n",
       "    <tr>\n",
       "      <th>2010</th>\n",
       "      <td>24046</td>\n",
       "      <td>1710</td>\n",
       "    </tr>\n",
       "    <tr>\n",
       "      <th>2011</th>\n",
       "      <td>129383</td>\n",
       "      <td>3000</td>\n",
       "    </tr>\n",
       "    <tr>\n",
       "      <th>2012</th>\n",
       "      <td>56548</td>\n",
       "      <td>6220</td>\n",
       "    </tr>\n",
       "    <tr>\n",
       "      <th>2013</th>\n",
       "      <td>166478</td>\n",
       "      <td>3580</td>\n",
       "    </tr>\n",
       "    <tr>\n",
       "      <th>2014</th>\n",
       "      <td>27270885</td>\n",
       "      <td>20400</td>\n",
       "    </tr>\n",
       "    <tr>\n",
       "      <th>2015</th>\n",
       "      <td>85492132</td>\n",
       "      <td>5003450</td>\n",
       "    </tr>\n",
       "    <tr>\n",
       "      <th>2016</th>\n",
       "      <td>91173904</td>\n",
       "      <td>3915041</td>\n",
       "    </tr>\n",
       "    <tr>\n",
       "      <th>2017</th>\n",
       "      <td>136032793</td>\n",
       "      <td>9968340</td>\n",
       "    </tr>\n",
       "    <tr>\n",
       "      <th>2018</th>\n",
       "      <td>104565059</td>\n",
       "      <td>8891102</td>\n",
       "    </tr>\n",
       "    <tr>\n",
       "      <th>2019</th>\n",
       "      <td>91369261</td>\n",
       "      <td>4627798</td>\n",
       "    </tr>\n",
       "  </tbody>\n",
       "</table>\n",
       "</div>"
      ],
      "text/plain": [
       "           mean     median\n",
       "     box_office box_office\n",
       "year                      \n",
       "2010      24046       1710\n",
       "2011     129383       3000\n",
       "2012      56548       6220\n",
       "2013     166478       3580\n",
       "2014   27270885      20400\n",
       "2015   85492132    5003450\n",
       "2016   91173904    3915041\n",
       "2017  136032793    9968340\n",
       "2018  104565059    8891102\n",
       "2019   91369261    4627798"
      ]
     },
     "metadata": {},
     "output_type": "display_data"
    }
   ],
   "source": [
    "box_mean_median = data[data['box_office'] != 0].pivot_table(index='year', values='box_office', aggfunc=['mean', 'median']).astype('int')\n",
    "display(box_mean_median)"
   ]
  },
  {
   "cell_type": "markdown",
   "metadata": {
    "id": "Ok89WFwJgFyZ",
    "tags": []
   },
   "source": [
    "### Определить, влияет ли возрастное ограничение аудитории («6+», «12+», «16+», «18+» и т. д.) на сборы фильма в прокате в период с 2015 по 2019 год? Фильмы с каким возрастным ограничением собрали больше всего денег в прокате? Меняется ли картина в зависимости от года?"
   ]
  },
  {
   "cell_type": "code",
   "execution_count": 30,
   "metadata": {
    "id": "jsSbEqfjgFya"
   },
   "outputs": [
    {
     "data": {
      "text/html": [
       "<style type=\"text/css\">\n",
       "</style>\n",
       "<table id=\"T_fe3e6\">\n",
       "  <caption>Сумма сборов по возрастным ограничениям в прокате с 2015 по 2019 год</caption>\n",
       "  <thead>\n",
       "    <tr>\n",
       "      <th class=\"blank level0\" >&nbsp;</th>\n",
       "      <th id=\"T_fe3e6_level0_col0\" class=\"col_heading level0 col0\" >age_restriction</th>\n",
       "      <th id=\"T_fe3e6_level0_col1\" class=\"col_heading level0 col1\" >box_office</th>\n",
       "    </tr>\n",
       "  </thead>\n",
       "  <tbody>\n",
       "    <tr>\n",
       "      <th id=\"T_fe3e6_level0_row0\" class=\"row_heading level0 row0\" >0</th>\n",
       "      <td id=\"T_fe3e6_row0_col0\" class=\"data row0 col0\" >0</td>\n",
       "      <td id=\"T_fe3e6_row0_col1\" class=\"data row0 col1\" >809077425.970000</td>\n",
       "    </tr>\n",
       "    <tr>\n",
       "      <th id=\"T_fe3e6_level0_row1\" class=\"row_heading level0 row1\" >1</th>\n",
       "      <td id=\"T_fe3e6_row1_col0\" class=\"data row1 col0\" >6</td>\n",
       "      <td id=\"T_fe3e6_row1_col1\" class=\"data row1 col1\" >55798610799.680000</td>\n",
       "    </tr>\n",
       "    <tr>\n",
       "      <th id=\"T_fe3e6_level0_row2\" class=\"row_heading level0 row2\" >2</th>\n",
       "      <td id=\"T_fe3e6_row2_col0\" class=\"data row2 col0\" >12</td>\n",
       "      <td id=\"T_fe3e6_row2_col1\" class=\"data row2 col1\" >60619446628.330002</td>\n",
       "    </tr>\n",
       "    <tr>\n",
       "      <th id=\"T_fe3e6_level0_row3\" class=\"row_heading level0 row3\" >3</th>\n",
       "      <td id=\"T_fe3e6_row3_col0\" class=\"data row3 col0\" >16</td>\n",
       "      <td id=\"T_fe3e6_row3_col1\" class=\"data row3 col1\" >76034733643.630005</td>\n",
       "    </tr>\n",
       "    <tr>\n",
       "      <th id=\"T_fe3e6_level0_row4\" class=\"row_heading level0 row4\" >4</th>\n",
       "      <td id=\"T_fe3e6_row4_col0\" class=\"data row4 col0\" >18</td>\n",
       "      <td id=\"T_fe3e6_row4_col1\" class=\"data row4 col1\" >40759615572.120003</td>\n",
       "    </tr>\n",
       "  </tbody>\n",
       "</table>\n"
      ],
      "text/plain": [
       "<pandas.io.formats.style.Styler at 0x1540afcd700>"
      ]
     },
     "metadata": {},
     "output_type": "display_data"
    },
    {
     "name": "stdout",
     "output_type": "stream",
     "text": [
      "Фильмы с возрастным ограничением 16+ собрали больше всего денег в прокате\n"
     ]
    },
    {
     "data": {
      "text/html": [
       "<style type=\"text/css\">\n",
       "</style>\n",
       "<table id=\"T_5976a\">\n",
       "  <caption>Количество фильмов по возрастным ограничениям в прокате с 2015 по 2019 год</caption>\n",
       "  <thead>\n",
       "    <tr>\n",
       "      <th class=\"blank level0\" >&nbsp;</th>\n",
       "      <th id=\"T_5976a_level0_col0\" class=\"col_heading level0 col0\" >age_restriction</th>\n",
       "      <th id=\"T_5976a_level0_col1\" class=\"col_heading level0 col1\" >number</th>\n",
       "    </tr>\n",
       "  </thead>\n",
       "  <tbody>\n",
       "    <tr>\n",
       "      <th id=\"T_5976a_level0_row0\" class=\"row_heading level0 row0\" >0</th>\n",
       "      <td id=\"T_5976a_row0_col0\" class=\"data row0 col0\" >0</td>\n",
       "      <td id=\"T_5976a_row0_col1\" class=\"data row0 col1\" >90</td>\n",
       "    </tr>\n",
       "    <tr>\n",
       "      <th id=\"T_5976a_level0_row1\" class=\"row_heading level0 row1\" >1</th>\n",
       "      <td id=\"T_5976a_row1_col0\" class=\"data row1 col0\" >6</td>\n",
       "      <td id=\"T_5976a_row1_col1\" class=\"data row1 col1\" >317</td>\n",
       "    </tr>\n",
       "    <tr>\n",
       "      <th id=\"T_5976a_level0_row2\" class=\"row_heading level0 row2\" >2</th>\n",
       "      <td id=\"T_5976a_row2_col0\" class=\"data row2 col0\" >12</td>\n",
       "      <td id=\"T_5976a_row2_col1\" class=\"data row2 col1\" >347</td>\n",
       "    </tr>\n",
       "    <tr>\n",
       "      <th id=\"T_5976a_level0_row3\" class=\"row_heading level0 row3\" >3</th>\n",
       "      <td id=\"T_5976a_row3_col0\" class=\"data row3 col0\" >16</td>\n",
       "      <td id=\"T_5976a_row3_col1\" class=\"data row3 col1\" >803</td>\n",
       "    </tr>\n",
       "    <tr>\n",
       "      <th id=\"T_5976a_level0_row4\" class=\"row_heading level0 row4\" >4</th>\n",
       "      <td id=\"T_5976a_row4_col0\" class=\"data row4 col0\" >18</td>\n",
       "      <td id=\"T_5976a_row4_col1\" class=\"data row4 col1\" >792</td>\n",
       "    </tr>\n",
       "  </tbody>\n",
       "</table>\n"
      ],
      "text/plain": [
       "<pandas.io.formats.style.Styler at 0x1540afe76d0>"
      ]
     },
     "metadata": {},
     "output_type": "display_data"
    }
   ],
   "source": [
    "age_box = data[data['year'] > 2014].groupby('age_restriction', as_index=False)['box_office'].sum()\n",
    "#age_box.set_title('Сумма сборов по возрастным ограничениям в прокате с 2015 по 2019 год')\n",
    "display(age_box.style.set_caption(\"Сумма сборов по возрастным ограничениям в прокате с 2015 по 2019 год\"))\n",
    "\n",
    "print('Фильмы с возрастным ограничением ' + \n",
    "      str(int(age_box[age_box['box_office'] == age_box['box_office'].max()]['age_restriction'])) + '+', \n",
    "      'собрали больше всего денег в прокате')\n",
    "\n",
    "age_number = data[(data['year'] > 2014) & (data['box_office']!=0)].groupby('age_restriction', as_index=False)['box_office'].count()\n",
    "age_number = age_number.rename(columns={'box_office':'number'})\n",
    "display(age_number.style.set_caption(\"Количество фильмов по возрастным ограничениям в прокате с 2015 по 2019 год\"))"
   ]
  },
  {
   "cell_type": "code",
   "execution_count": 71,
   "metadata": {},
   "outputs": [
    {
     "data": {
      "text/html": [
       "<div>\n",
       "<style scoped>\n",
       "    .dataframe tbody tr th:only-of-type {\n",
       "        vertical-align: middle;\n",
       "    }\n",
       "\n",
       "    .dataframe tbody tr th {\n",
       "        vertical-align: top;\n",
       "    }\n",
       "\n",
       "    .dataframe thead th {\n",
       "        text-align: right;\n",
       "    }\n",
       "</style>\n",
       "<table border=\"1\" class=\"dataframe\">\n",
       "  <thead>\n",
       "    <tr style=\"text-align: right;\">\n",
       "      <th>age_restriction</th>\n",
       "      <th>0</th>\n",
       "      <th>6</th>\n",
       "      <th>12</th>\n",
       "      <th>16</th>\n",
       "      <th>18</th>\n",
       "    </tr>\n",
       "    <tr>\n",
       "      <th>year</th>\n",
       "      <th></th>\n",
       "      <th></th>\n",
       "      <th></th>\n",
       "      <th></th>\n",
       "      <th></th>\n",
       "    </tr>\n",
       "  </thead>\n",
       "  <tbody>\n",
       "    <tr>\n",
       "      <th>2015</th>\n",
       "      <td>3.790546e+08</td>\n",
       "      <td>8.701799e+09</td>\n",
       "      <td>1.361608e+10</td>\n",
       "      <td>1.136812e+10</td>\n",
       "      <td>5.432308e+09</td>\n",
       "    </tr>\n",
       "    <tr>\n",
       "      <th>2016</th>\n",
       "      <td>1.502288e+08</td>\n",
       "      <td>1.205315e+10</td>\n",
       "      <td>1.220445e+10</td>\n",
       "      <td>1.666455e+10</td>\n",
       "      <td>6.793930e+09</td>\n",
       "    </tr>\n",
       "    <tr>\n",
       "      <th>2017</th>\n",
       "      <td>2.295989e+08</td>\n",
       "      <td>1.208614e+10</td>\n",
       "      <td>7.851428e+09</td>\n",
       "      <td>1.874504e+10</td>\n",
       "      <td>9.651496e+09</td>\n",
       "    </tr>\n",
       "    <tr>\n",
       "      <th>2018</th>\n",
       "      <td>3.244900e+07</td>\n",
       "      <td>1.010497e+10</td>\n",
       "      <td>1.426729e+10</td>\n",
       "      <td>1.650360e+10</td>\n",
       "      <td>8.760086e+09</td>\n",
       "    </tr>\n",
       "    <tr>\n",
       "      <th>2019</th>\n",
       "      <td>1.774607e+07</td>\n",
       "      <td>1.285255e+10</td>\n",
       "      <td>1.268020e+10</td>\n",
       "      <td>1.275342e+10</td>\n",
       "      <td>1.012180e+10</td>\n",
       "    </tr>\n",
       "  </tbody>\n",
       "</table>\n",
       "</div>"
      ],
      "text/plain": [
       "age_restriction            0             6             12            16  \\\n",
       "year                                                                      \n",
       "2015             3.790546e+08  8.701799e+09  1.361608e+10  1.136812e+10   \n",
       "2016             1.502288e+08  1.205315e+10  1.220445e+10  1.666455e+10   \n",
       "2017             2.295989e+08  1.208614e+10  7.851428e+09  1.874504e+10   \n",
       "2018             3.244900e+07  1.010497e+10  1.426729e+10  1.650360e+10   \n",
       "2019             1.774607e+07  1.285255e+10  1.268020e+10  1.275342e+10   \n",
       "\n",
       "age_restriction            18  \n",
       "year                           \n",
       "2015             5.432308e+09  \n",
       "2016             6.793930e+09  \n",
       "2017             9.651496e+09  \n",
       "2018             8.760086e+09  \n",
       "2019             1.012180e+10  "
      ]
     },
     "metadata": {},
     "output_type": "display_data"
    },
    {
     "data": {
      "image/png": "[encoded data removed]",
      "text/plain": [
       "<Figure size 1440x576 with 1 Axes>"
      ]
     },
     "metadata": {
      "needs_background": "light"
     },
     "output_type": "display_data"
    }
   ],
   "source": [
    "age_year = data.pivot_table(index='year', columns='age_restriction', values='box_office', aggfunc='sum')\n",
    "age_year = age_year.drop(index=[2010, 2011, 2012, 2013, 2014])\n",
    "display(age_year)\n",
    "\n",
    "\n",
    "fig = plt.figure(figsize=(20, 8))\n",
    "ax1 = fig.add_subplot()\n",
    "#plt.ticklabel_format(scilimits=(6, 6))\n",
    "ax1.set_xticks(age_year.index)\n",
    "ax1.set_xticklabels(age_year.index)\n",
    "ax1.plot(age_year.index, age_year[0], label='0+')\n",
    "ax1.plot(age_year.index, age_year[6], label='6+')\n",
    "ax1.plot(age_year.index, age_year[12], label='12+')\n",
    "ax1.plot(age_year.index, age_year[18], label='18+')\n",
    "\n",
    "\n",
    "plt.gca().set(title='Влияние возрастного ограничения на сборы фильмов в прокате', ylabel='Сумма сборов', xlabel='Год')\n",
    "\n",
    "rects = ax1.patches\n",
    "plt.legend(frameon=False, loc='lower center', bbox_to_anchor=(0.25, -0.3, 0.5, 0.5), prop={'size':25}, ncol = 2)\n",
    "\n",
    "plt.savefig('plt', bbox_inches = \"tight\")\n",
    "    \n",
    "plt.show()"
   ]
  },
  {
   "cell_type": "markdown",
   "metadata": {},
   "source": [
    "Возрастное ограничение определенно влияет на сборы фильма в прокате, так больше всего денег в прокате собирают фильмы с ограничением 16+, меньше всего - 0+. Очевидными причинами являются разница в количестве выпускаемых фильмов: фильмов 16+ почти в 9 раз больше чем 0+, и посещаемость: на фильмы 0+ ходят заметно меньше людей(даже если увеличить кол-во фильмов 0+, то сумма сборов всё ещё в несколько раз меньше чем у других фильмов). Стоит отметить, что фильмы 18+ также являются малопосещаемыми, т.к. их было почти столько же, сколько и фильмов 16+, однако сумма сборов меньше в ~1,86 раз.\n",
    "\n",
    "В зависимости от года картина меняется для фильмов с возрастными ограничениями 6+, 12+ и 18+, возможно это связано с количеством выпускаемых в прокат фильмов в эти года. Фильмы 16+ и 0+ остаются самыми большими и самыми маленькими соответственно на протяжении всего периода."
   ]
  },
  {
   "cell_type": "markdown",
   "metadata": {
    "tags": []
   },
   "source": [
    "### Наиболее кассовые жанры"
   ]
  },
  {
   "cell_type": "code",
   "execution_count": 74,
   "metadata": {},
   "outputs": [
    {
     "data": {
      "text/html": [
       "<div>\n",
       "<style scoped>\n",
       "    .dataframe tbody tr th:only-of-type {\n",
       "        vertical-align: middle;\n",
       "    }\n",
       "\n",
       "    .dataframe tbody tr th {\n",
       "        vertical-align: top;\n",
       "    }\n",
       "\n",
       "    .dataframe thead th {\n",
       "        text-align: right;\n",
       "    }\n",
       "</style>\n",
       "<table border=\"1\" class=\"dataframe\">\n",
       "  <thead>\n",
       "    <tr style=\"text-align: right;\">\n",
       "      <th></th>\n",
       "      <th>main_genre</th>\n",
       "      <th>box_office</th>\n",
       "    </tr>\n",
       "  </thead>\n",
       "  <tbody>\n",
       "    <tr>\n",
       "      <th>0</th>\n",
       "      <td>фантастика</td>\n",
       "      <td>5.098643e+10</td>\n",
       "    </tr>\n",
       "    <tr>\n",
       "      <th>1</th>\n",
       "      <td>мультфильм</td>\n",
       "      <td>3.695994e+10</td>\n",
       "    </tr>\n",
       "    <tr>\n",
       "      <th>2</th>\n",
       "      <td>боевик</td>\n",
       "      <td>2.759867e+10</td>\n",
       "    </tr>\n",
       "    <tr>\n",
       "      <th>3</th>\n",
       "      <td>фэнтези</td>\n",
       "      <td>2.650874e+10</td>\n",
       "    </tr>\n",
       "    <tr>\n",
       "      <th>4</th>\n",
       "      <td>комедия</td>\n",
       "      <td>2.447644e+10</td>\n",
       "    </tr>\n",
       "    <tr>\n",
       "      <th>5</th>\n",
       "      <td>драма</td>\n",
       "      <td>1.912987e+10</td>\n",
       "    </tr>\n",
       "    <tr>\n",
       "      <th>6</th>\n",
       "      <td>ужасы</td>\n",
       "      <td>1.662415e+10</td>\n",
       "    </tr>\n",
       "    <tr>\n",
       "      <th>7</th>\n",
       "      <td>unknown</td>\n",
       "      <td>8.977871e+09</td>\n",
       "    </tr>\n",
       "    <tr>\n",
       "      <th>8</th>\n",
       "      <td>триллер</td>\n",
       "      <td>7.697875e+09</td>\n",
       "    </tr>\n",
       "    <tr>\n",
       "      <th>9</th>\n",
       "      <td>спорт</td>\n",
       "      <td>3.122189e+09</td>\n",
       "    </tr>\n",
       "  </tbody>\n",
       "</table>\n",
       "</div>"
      ],
      "text/plain": [
       "   main_genre    box_office\n",
       "0  фантастика  5.098643e+10\n",
       "1  мультфильм  3.695994e+10\n",
       "2      боевик  2.759867e+10\n",
       "3     фэнтези  2.650874e+10\n",
       "4     комедия  2.447644e+10\n",
       "5       драма  1.912987e+10\n",
       "6       ужасы  1.662415e+10\n",
       "7     unknown  8.977871e+09\n",
       "8     триллер  7.697875e+09\n",
       "9       спорт  3.122189e+09"
      ]
     },
     "metadata": {},
     "output_type": "display_data"
    }
   ],
   "source": [
    "data_genre = data[data['box_office'] != 0].groupby('main_genre', as_index=False)['box_office'].sum().sort_values(by='box_office', ascending=False)\n",
    "data_genre = data_genre.reset_index(drop=True)\n",
    "display(data_genre.head(10))"
   ]
  },
  {
   "cell_type": "code",
   "execution_count": 79,
   "metadata": {},
   "outputs": [
    {
     "data": {
      "image/png": "[encoded data removed]",
      "text/plain": [
       "<Figure size 1440x576 with 1 Axes>"
      ]
     },
     "metadata": {
      "needs_background": "light"
     },
     "output_type": "display_data"
    }
   ],
   "source": [
    "data_genre.loc[7, 'main_genre'] = 'жанр неопределен'\n",
    "\n",
    "fig = plt.figure(figsize=(20, 8))\n",
    "ax1 = fig.add_subplot()\n",
    "ax1.bar(data_genre['main_genre'][:10], data_genre['box_office'][:10])\n",
    "ax1.set_xticks(data_genre['main_genre'][:10])\n",
    "plt.xticks(rotation = 45)\n",
    "ax1.set_xticklabels(data_genre['main_genre'][:10])\n",
    "plt.gca().set(title='Сборы фильмов по жанрам', ylabel='Сборы фильмов', xlabel='Жанр')\n",
    "\n",
    "\n",
    "plt.savefig('plt', bbox_inches = \"tight\")\n",
    "plt.show()"
   ]
  },
  {
   "cell_type": "markdown",
   "metadata": {},
   "source": [
    "В пятёрку самых кассовых жанровых входят: фантастика, мультфильмы, боевики, фэнтези, комедия"
   ]
  },
  {
   "cell_type": "markdown",
   "metadata": {
    "tags": []
   },
   "source": [
    "### Вывод"
   ]
  },
  {
   "cell_type": "markdown",
   "metadata": {},
   "source": [
    "В 2010 году был выпущен в прокат 101 фильм, затем это количество увеличивалось каждый год до значения ~500, в 2017 году был спад - количество выпущенных в прокат фильмов равно ~350. При этом доля фильмов с указанной информацией о прокате в кинотеатрах равна 42%.\n",
    "\n",
    "Со сборами примерно схожая картина: в 2010 году сумма сборов всех фильмов в прокате составляла 2.4 млн., затем, до 2016 года, сумма увеличивалась, в 2016-2019 годах сумма сборов примерно одинаковая и равна 48.5 млрд. Наибольшая сумма сборов была в 2018 году. Соответственно, медиана и среднее значения с каждым годом увеличивались.\n",
    "\n",
    "Возрастное ограничение заметно влияет на сборы фильма в прокате: больше всего собирают фильмы 16+, меньше всего - 0+.\n",
    "\n",
    "Самые популярные жанры среди зрителей - это фантастика, мультфильмы, боевики, фэнтези, комедии."
   ]
  },
  {
   "cell_type": "markdown",
   "metadata": {
    "id": "l_Kg6Ku4gFya",
    "tags": []
   },
   "source": [
    "## Исследовать фильмы, которые получили государственную поддержку"
   ]
  },
  {
   "cell_type": "code",
   "execution_count": 33,
   "metadata": {
    "id": "W9QKpjUdgFyb"
   },
   "outputs": [
    {
     "data": {
      "text/html": [
       "<div>\n",
       "<style scoped>\n",
       "    .dataframe tbody tr th:only-of-type {\n",
       "        vertical-align: middle;\n",
       "    }\n",
       "\n",
       "    .dataframe tbody tr th {\n",
       "        vertical-align: top;\n",
       "    }\n",
       "\n",
       "    .dataframe thead th {\n",
       "        text-align: right;\n",
       "    }\n",
       "</style>\n",
       "<table border=\"1\" class=\"dataframe\">\n",
       "  <thead>\n",
       "    <tr style=\"text-align: right;\">\n",
       "      <th></th>\n",
       "      <th>title</th>\n",
       "      <th>puNumber</th>\n",
       "      <th>show_start_date</th>\n",
       "      <th>type</th>\n",
       "      <th>film_studio</th>\n",
       "      <th>production_country</th>\n",
       "      <th>director</th>\n",
       "      <th>producer</th>\n",
       "      <th>age_restriction</th>\n",
       "      <th>refundable_support</th>\n",
       "      <th>nonrefundable_support</th>\n",
       "      <th>budget</th>\n",
       "      <th>financing_source</th>\n",
       "      <th>ratings</th>\n",
       "      <th>genres</th>\n",
       "      <th>box_office</th>\n",
       "      <th>year</th>\n",
       "      <th>main_director</th>\n",
       "      <th>main_genre</th>\n",
       "      <th>support_part</th>\n",
       "      <th>support</th>\n",
       "      <th>profit</th>\n",
       "    </tr>\n",
       "  </thead>\n",
       "  <tbody>\n",
       "    <tr>\n",
       "      <th>1281</th>\n",
       "      <td>пока еще жива</td>\n",
       "      <td>111005313</td>\n",
       "      <td>2013-10-11 12:00:00</td>\n",
       "      <td>художественный</td>\n",
       "      <td>ано содействия развитию кинематографии \"ангел-...</td>\n",
       "      <td>россия</td>\n",
       "      <td>а.атанесян</td>\n",
       "      <td>а.атанесян, м.бабаханов, р.бутко</td>\n",
       "      <td>16</td>\n",
       "      <td>0.0</td>\n",
       "      <td>26500000.0</td>\n",
       "      <td>79411900.0</td>\n",
       "      <td>министерство культуры</td>\n",
       "      <td>8.100000</td>\n",
       "      <td>драма,мелодрама</td>\n",
       "      <td>365353.6</td>\n",
       "      <td>2013</td>\n",
       "      <td>а.атанесян</td>\n",
       "      <td>драма</td>\n",
       "      <td>0.333703</td>\n",
       "      <td>26500000.0</td>\n",
       "      <td>-79046546.4</td>\n",
       "    </tr>\n",
       "    <tr>\n",
       "      <th>1448</th>\n",
       "      <td>бесславные придурки</td>\n",
       "      <td>111003314</td>\n",
       "      <td>2014-03-28 12:00:00</td>\n",
       "      <td>художественный</td>\n",
       "      <td>ооо \"компания \"атк-студио\"</td>\n",
       "      <td>россия</td>\n",
       "      <td>а.якимчук</td>\n",
       "      <td>а.тютрюмов</td>\n",
       "      <td>12</td>\n",
       "      <td>0.0</td>\n",
       "      <td>26000000.0</td>\n",
       "      <td>37142857.0</td>\n",
       "      <td>министерство культуры</td>\n",
       "      <td>6.488173</td>\n",
       "      <td>unknown</td>\n",
       "      <td>28140.0</td>\n",
       "      <td>2014</td>\n",
       "      <td>а.якимчук</td>\n",
       "      <td>unknown</td>\n",
       "      <td>0.700000</td>\n",
       "      <td>26000000.0</td>\n",
       "      <td>-37114717.0</td>\n",
       "    </tr>\n",
       "    <tr>\n",
       "      <th>1498</th>\n",
       "      <td>невидимки</td>\n",
       "      <td>111004213</td>\n",
       "      <td>2013-09-10 12:00:00</td>\n",
       "      <td>художественный</td>\n",
       "      <td>ооо \"компания \"реал-дакота\"</td>\n",
       "      <td>россия</td>\n",
       "      <td>р.давлетьяров, с.комаров</td>\n",
       "      <td>р.давлетьяров, а.котелевский, а.олейников</td>\n",
       "      <td>12</td>\n",
       "      <td>0.0</td>\n",
       "      <td>107847945.0</td>\n",
       "      <td>176023490.0</td>\n",
       "      <td>фонд кино</td>\n",
       "      <td>5.300000</td>\n",
       "      <td>комедия,фантастика</td>\n",
       "      <td>19957031.5</td>\n",
       "      <td>2013</td>\n",
       "      <td>р.давлетьяров</td>\n",
       "      <td>комедия</td>\n",
       "      <td>0.612691</td>\n",
       "      <td>107847945.0</td>\n",
       "      <td>-156066458.5</td>\n",
       "    </tr>\n",
       "    <tr>\n",
       "      <th>1524</th>\n",
       "      <td>берцы</td>\n",
       "      <td>111004314</td>\n",
       "      <td>2014-05-05 12:00:00</td>\n",
       "      <td>художественный</td>\n",
       "      <td>ооо \"студия \"пассажир\"</td>\n",
       "      <td>россия</td>\n",
       "      <td>е.миндадзе (псевдоним катя шагалова)</td>\n",
       "      <td>л.антонова</td>\n",
       "      <td>16</td>\n",
       "      <td>0.0</td>\n",
       "      <td>28000000.0</td>\n",
       "      <td>40574140.0</td>\n",
       "      <td>министерство культуры</td>\n",
       "      <td>4.200000</td>\n",
       "      <td>драма</td>\n",
       "      <td>55917.5</td>\n",
       "      <td>2014</td>\n",
       "      <td>е.миндадзе (псевдоним катя шагалова)</td>\n",
       "      <td>драма</td>\n",
       "      <td>0.690095</td>\n",
       "      <td>28000000.0</td>\n",
       "      <td>-40518222.5</td>\n",
       "    </tr>\n",
       "    <tr>\n",
       "      <th>1792</th>\n",
       "      <td>братья ч</td>\n",
       "      <td>111004414</td>\n",
       "      <td>2014-04-23 12:00:00</td>\n",
       "      <td>художественный</td>\n",
       "      <td>ооо \"студия \"пассажир\"</td>\n",
       "      <td>россия</td>\n",
       "      <td>м.угаров</td>\n",
       "      <td>а.миндадзе, л.антонова</td>\n",
       "      <td>16</td>\n",
       "      <td>0.0</td>\n",
       "      <td>25000000.0</td>\n",
       "      <td>40015122.0</td>\n",
       "      <td>министерство культуры</td>\n",
       "      <td>6.400000</td>\n",
       "      <td>драма</td>\n",
       "      <td>232100.0</td>\n",
       "      <td>2014</td>\n",
       "      <td>м.угаров</td>\n",
       "      <td>драма</td>\n",
       "      <td>0.624764</td>\n",
       "      <td>25000000.0</td>\n",
       "      <td>-39783022.0</td>\n",
       "    </tr>\n",
       "  </tbody>\n",
       "</table>\n",
       "</div>"
      ],
      "text/plain": [
       "                    title   puNumber     show_start_date            type  \\\n",
       "1281        пока еще жива  111005313 2013-10-11 12:00:00  художественный   \n",
       "1448  бесславные придурки  111003314 2014-03-28 12:00:00  художественный   \n",
       "1498            невидимки  111004213 2013-09-10 12:00:00  художественный   \n",
       "1524                берцы  111004314 2014-05-05 12:00:00  художественный   \n",
       "1792             братья ч  111004414 2014-04-23 12:00:00  художественный   \n",
       "\n",
       "                                            film_studio production_country  \\\n",
       "1281  ано содействия развитию кинематографии \"ангел-...             россия   \n",
       "1448                         ооо \"компания \"атк-студио\"             россия   \n",
       "1498                        ооо \"компания \"реал-дакота\"             россия   \n",
       "1524                             ооо \"студия \"пассажир\"             россия   \n",
       "1792                             ооо \"студия \"пассажир\"             россия   \n",
       "\n",
       "                                  director  \\\n",
       "1281                            а.атанесян   \n",
       "1448                             а.якимчук   \n",
       "1498              р.давлетьяров, с.комаров   \n",
       "1524  е.миндадзе (псевдоним катя шагалова)   \n",
       "1792                              м.угаров   \n",
       "\n",
       "                                       producer age_restriction  \\\n",
       "1281           а.атанесян, м.бабаханов, р.бутко              16   \n",
       "1448                                 а.тютрюмов              12   \n",
       "1498  р.давлетьяров, а.котелевский, а.олейников              12   \n",
       "1524                                 л.антонова              16   \n",
       "1792                     а.миндадзе, л.антонова              16   \n",
       "\n",
       "      refundable_support  nonrefundable_support       budget  \\\n",
       "1281                 0.0             26500000.0   79411900.0   \n",
       "1448                 0.0             26000000.0   37142857.0   \n",
       "1498                 0.0            107847945.0  176023490.0   \n",
       "1524                 0.0             28000000.0   40574140.0   \n",
       "1792                 0.0             25000000.0   40015122.0   \n",
       "\n",
       "           financing_source   ratings              genres  box_office  year  \\\n",
       "1281  министерство культуры  8.100000     драма,мелодрама    365353.6  2013   \n",
       "1448  министерство культуры  6.488173             unknown     28140.0  2014   \n",
       "1498              фонд кино  5.300000  комедия,фантастика  19957031.5  2013   \n",
       "1524  министерство культуры  4.200000               драма     55917.5  2014   \n",
       "1792  министерство культуры  6.400000               драма    232100.0  2014   \n",
       "\n",
       "                             main_director main_genre  support_part  \\\n",
       "1281                            а.атанесян      драма      0.333703   \n",
       "1448                             а.якимчук    unknown      0.700000   \n",
       "1498                         р.давлетьяров    комедия      0.612691   \n",
       "1524  е.миндадзе (псевдоним катя шагалова)      драма      0.690095   \n",
       "1792                              м.угаров      драма      0.624764   \n",
       "\n",
       "          support       profit  \n",
       "1281   26500000.0  -79046546.4  \n",
       "1448   26000000.0  -37114717.0  \n",
       "1498  107847945.0 -156066458.5  \n",
       "1524   28000000.0  -40518222.5  \n",
       "1792   25000000.0  -39783022.0  "
      ]
     },
     "metadata": {},
     "output_type": "display_data"
    }
   ],
   "source": [
    "# Для удобства сразу посчитаем общую сумму гос поддержки\n",
    "data['support'] = data['refundable_support']+data['nonrefundable_support']\n",
    "data['profit'] = data['box_office']-data['budget']\n",
    "\n",
    "# Выделим такие фильмы в отдельную таблицу для удобства вычислений\n",
    "data_support = data[data['budget'].notna()].copy()\n",
    "display(data_support.head())"
   ]
  },
  {
   "cell_type": "code",
   "execution_count": 34,
   "metadata": {},
   "outputs": [
    {
     "name": "stderr",
     "output_type": "stream",
     "text": [
      "C:\\Users\\i\\AppData\\Local\\Temp\\ipykernel_13792\\2064372604.py:2: FutureWarning: Indexing with multiple keys (implicitly converted to a tuple of keys) will be deprecated, use a list instead.\n",
      "  support_year_sum = data_support.groupby('year', as_index=False)['support', 'budget', 'box_office', 'profit'].sum()\n",
      "C:\\Users\\i\\AppData\\Local\\Temp\\ipykernel_13792\\2064372604.py:3: FutureWarning: Indexing with multiple keys (implicitly converted to a tuple of keys) will be deprecated, use a list instead.\n",
      "  support_year_median = data_support.groupby('year', as_index=False)['ratings', 'support_part'].median()\n"
     ]
    },
    {
     "data": {
      "text/html": [
       "<div>\n",
       "<style scoped>\n",
       "    .dataframe tbody tr th:only-of-type {\n",
       "        vertical-align: middle;\n",
       "    }\n",
       "\n",
       "    .dataframe tbody tr th {\n",
       "        vertical-align: top;\n",
       "    }\n",
       "\n",
       "    .dataframe thead th {\n",
       "        text-align: right;\n",
       "    }\n",
       "</style>\n",
       "<table border=\"1\" class=\"dataframe\">\n",
       "  <thead>\n",
       "    <tr style=\"text-align: right;\">\n",
       "      <th></th>\n",
       "      <th>year</th>\n",
       "      <th>support</th>\n",
       "      <th>budget</th>\n",
       "      <th>box_office</th>\n",
       "      <th>profit</th>\n",
       "      <th>ratings</th>\n",
       "      <th>support_part</th>\n",
       "    </tr>\n",
       "  </thead>\n",
       "  <tbody>\n",
       "    <tr>\n",
       "      <th>0</th>\n",
       "      <td>2013</td>\n",
       "      <td>1.343479e+08</td>\n",
       "      <td>2.554354e+08</td>\n",
       "      <td>2.032239e+07</td>\n",
       "      <td>-2.351130e+08</td>\n",
       "      <td>6.7</td>\n",
       "      <td>0.473197</td>\n",
       "    </tr>\n",
       "    <tr>\n",
       "      <th>1</th>\n",
       "      <td>2014</td>\n",
       "      <td>5.720023e+08</td>\n",
       "      <td>1.279485e+09</td>\n",
       "      <td>1.017422e+09</td>\n",
       "      <td>-2.620626e+08</td>\n",
       "      <td>6.4</td>\n",
       "      <td>0.582085</td>\n",
       "    </tr>\n",
       "    <tr>\n",
       "      <th>2</th>\n",
       "      <td>2015</td>\n",
       "      <td>3.656241e+09</td>\n",
       "      <td>7.309669e+09</td>\n",
       "      <td>5.785285e+09</td>\n",
       "      <td>-1.524384e+09</td>\n",
       "      <td>6.2</td>\n",
       "      <td>0.623736</td>\n",
       "    </tr>\n",
       "    <tr>\n",
       "      <th>3</th>\n",
       "      <td>2016</td>\n",
       "      <td>4.303155e+09</td>\n",
       "      <td>7.228943e+09</td>\n",
       "      <td>6.081708e+09</td>\n",
       "      <td>-1.147235e+09</td>\n",
       "      <td>6.1</td>\n",
       "      <td>0.640000</td>\n",
       "    </tr>\n",
       "    <tr>\n",
       "      <th>4</th>\n",
       "      <td>2017</td>\n",
       "      <td>3.183972e+09</td>\n",
       "      <td>6.972173e+09</td>\n",
       "      <td>1.086508e+10</td>\n",
       "      <td>3.892903e+09</td>\n",
       "      <td>6.2</td>\n",
       "      <td>0.524780</td>\n",
       "    </tr>\n",
       "    <tr>\n",
       "      <th>5</th>\n",
       "      <td>2018</td>\n",
       "      <td>3.446969e+09</td>\n",
       "      <td>6.651695e+09</td>\n",
       "      <td>9.934069e+09</td>\n",
       "      <td>3.282374e+09</td>\n",
       "      <td>6.3</td>\n",
       "      <td>0.594160</td>\n",
       "    </tr>\n",
       "    <tr>\n",
       "      <th>6</th>\n",
       "      <td>2019</td>\n",
       "      <td>4.904000e+09</td>\n",
       "      <td>1.254287e+10</td>\n",
       "      <td>8.409627e+09</td>\n",
       "      <td>-4.133239e+09</td>\n",
       "      <td>6.2</td>\n",
       "      <td>0.585982</td>\n",
       "    </tr>\n",
       "  </tbody>\n",
       "</table>\n",
       "</div>"
      ],
      "text/plain": [
       "   year       support        budget    box_office        profit  ratings  \\\n",
       "0  2013  1.343479e+08  2.554354e+08  2.032239e+07 -2.351130e+08      6.7   \n",
       "1  2014  5.720023e+08  1.279485e+09  1.017422e+09 -2.620626e+08      6.4   \n",
       "2  2015  3.656241e+09  7.309669e+09  5.785285e+09 -1.524384e+09      6.2   \n",
       "3  2016  4.303155e+09  7.228943e+09  6.081708e+09 -1.147235e+09      6.1   \n",
       "4  2017  3.183972e+09  6.972173e+09  1.086508e+10  3.892903e+09      6.2   \n",
       "5  2018  3.446969e+09  6.651695e+09  9.934069e+09  3.282374e+09      6.3   \n",
       "6  2019  4.904000e+09  1.254287e+10  8.409627e+09 -4.133239e+09      6.2   \n",
       "\n",
       "   support_part  \n",
       "0      0.473197  \n",
       "1      0.582085  \n",
       "2      0.623736  \n",
       "3      0.640000  \n",
       "4      0.524780  \n",
       "5      0.594160  \n",
       "6      0.585982  "
      ]
     },
     "metadata": {},
     "output_type": "display_data"
    }
   ],
   "source": [
    "# Выделим общую статистику о фильмах с гос. поддержкой по годам\n",
    "support_year_sum = data_support.groupby('year', as_index=False)['support', 'budget', 'box_office', 'profit'].sum()\n",
    "support_year_median = data_support.groupby('year', as_index=False)['ratings', 'support_part'].median()\n",
    "\n",
    "support_year = support_year_sum.merge(support_year_median)\n",
    "display(support_year)"
   ]
  },
  {
   "cell_type": "code",
   "execution_count": 35,
   "metadata": {},
   "outputs": [
    {
     "name": "stdout",
     "output_type": "stream",
     "text": [
      "7455    2.913569e+09\n",
      "5652    2.189494e+09\n",
      "6548    1.707969e+09\n",
      "5504    1.302560e+09\n",
      "5707    1.297147e+09\n",
      "3564    1.038321e+09\n",
      "2919    7.669715e+08\n",
      "5640    6.810691e+08\n",
      "5658    5.847624e+08\n",
      "2700    5.524097e+08\n",
      "Name: profit, dtype: float64\n",
      "Доля фильмов, получивших государственную поддержку, с положительной прибылью равна 0.25\n"
     ]
    }
   ],
   "source": [
    "# Найдём прибыль самых \"удачных\" фильмов\n",
    "print(data_support.sort_values(by='profit', ascending=False)['profit'].head(10))\n",
    "\n",
    "print('Доля фильмов, получивших государственную поддержку, с положительной прибылью равна', \n",
    "      data_support[data_support['profit']>0]['profit'].count()/data_support['profit'].count())"
   ]
  },
  {
   "cell_type": "markdown",
   "metadata": {},
   "source": [
    "<b>Вывод</b>\n",
    "\n",
    "Государственную поддержку для фильмов начали выделять в 2013 году. Сумма гос. поддержки постепенно увеличивалась до 2016 года, при этом ежегодно фильмы выходили в минус на сотни миллионов и миллиарды, в 2017-2018 годах сумма поддержки была меньше, чем в 2016, но в эти года фильмы получали положительную прибыль. 2019 год был самый \"провальный\": по итогам года фильмы ушли в минус на 4.1 млрд. при поддержке 4.9 млрд.\n",
    "\n",
    "Государственная поддержка обычно составляет 50-60% бюджета фильма, такие фильма в среднем имеют рейтинг 6.4, однако окупаются редко.\n",
    "\n",
    "Из всех 332 выпущенных в прокат фильмов, получивших гос. поддержку, лишь 6 получили прибыль больше 1 млрд, а всего фильмов с положительной прибылью 25%."
   ]
  },
  {
   "cell_type": "markdown",
   "metadata": {
    "id": "V2gYwMcPgFyd"
   },
   "source": [
    "## Написать общий вывод"
   ]
  },
  {
   "cell_type": "markdown",
   "metadata": {
    "id": "AYRg3dzXgFye"
   },
   "source": [
    "Количество фильмов, выпускаемых в прокат растёт с каждым годом, также растут и суммы кассовых сборов. По количеству и сумме сбора денег больше всего фильмов с возрастным ограничением 16+, меньше всего - 0+. Самыми популярными жанрами среди зрителей являются: фантастика, мультфильмы, боевики, фэнтези, комедия. \n",
    "\n",
    "Фильмы, получившие государственную поддержку в среднем имеют рейтинг выше среднего, однако окупаются редко - всего 25% имеют положительную прибыль. Поэтому можно сказать, что фильмы с государственной поддержкой малоинтересны зрителю."
   ]
  }
 ],
 "metadata": {
  "ExecuteTimeLog": [
   {
    "duration": 537,
    "start_time": "2021-07-07T10:12:08.634Z"
   },
   {
    "duration": 206,
    "start_time": "2021-07-07T10:12:30.191Z"
   },
   {
    "duration": 227,
    "start_time": "2021-07-07T10:12:33.078Z"
   },
   {
    "duration": 153,
    "start_time": "2021-07-07T10:13:42.146Z"
   },
   {
    "duration": 233,
    "start_time": "2021-07-07T10:30:09.252Z"
   },
   {
    "duration": 19,
    "start_time": "2021-07-07T10:30:15.577Z"
   },
   {
    "duration": 18,
    "start_time": "2021-07-07T10:30:57.348Z"
   },
   {
    "duration": 19,
    "start_time": "2021-07-07T10:31:17.452Z"
   },
   {
    "duration": 21,
    "start_time": "2021-07-07T10:31:32.227Z"
   },
   {
    "duration": 27,
    "start_time": "2021-07-07T10:32:06.588Z"
   },
   {
    "duration": 23,
    "start_time": "2021-07-07T10:32:43.645Z"
   },
   {
    "duration": 24,
    "start_time": "2021-07-07T10:33:06.948Z"
   },
   {
    "duration": 7,
    "start_time": "2021-07-07T10:33:28.558Z"
   },
   {
    "duration": 23,
    "start_time": "2021-07-07T10:33:43.761Z"
   },
   {
    "duration": 28,
    "start_time": "2021-07-07T10:34:13.466Z"
   },
   {
    "duration": 23,
    "start_time": "2021-07-07T10:35:56.187Z"
   },
   {
    "duration": 6,
    "start_time": "2021-07-07T10:36:48.182Z"
   },
   {
    "duration": 14,
    "start_time": "2021-07-07T10:37:49.641Z"
   },
   {
    "duration": 6,
    "start_time": "2021-07-07T10:38:06.694Z"
   },
   {
    "duration": 6,
    "start_time": "2021-07-07T10:38:13.493Z"
   },
   {
    "duration": 19,
    "start_time": "2021-07-07T10:38:44.056Z"
   },
   {
    "duration": 186,
    "start_time": "2021-07-07T10:48:35.618Z"
   },
   {
    "duration": 24,
    "start_time": "2021-07-07T10:48:51.498Z"
   },
   {
    "duration": 20,
    "start_time": "2021-07-07T10:48:59.415Z"
   },
   {
    "duration": 20,
    "start_time": "2021-07-07T10:53:02.195Z"
   },
   {
    "duration": 188,
    "start_time": "2021-07-07T10:54:40.486Z"
   },
   {
    "duration": 115,
    "start_time": "2021-07-07T10:54:52.552Z"
   },
   {
    "duration": 214,
    "start_time": "2021-07-07T10:54:56.354Z"
   },
   {
    "duration": 47,
    "start_time": "2021-07-07T10:54:58.282Z"
   },
   {
    "duration": 217,
    "start_time": "2021-07-07T10:59:16.075Z"
   },
   {
    "duration": 51,
    "start_time": "2021-07-07T10:59:16.243Z"
   },
   {
    "duration": 578,
    "start_time": "2021-07-07T10:59:18.774Z"
   },
   {
    "duration": 161,
    "start_time": "2021-07-07T10:59:21.238Z"
   },
   {
    "duration": 59,
    "start_time": "2021-07-07T10:59:21.453Z"
   },
   {
    "duration": 3,
    "start_time": "2021-07-07T11:02:10.786Z"
   },
   {
    "duration": 13,
    "start_time": "2021-07-07T11:07:07.722Z"
   },
   {
    "duration": 26,
    "start_time": "2021-07-07T11:07:17.958Z"
   },
   {
    "duration": 22,
    "start_time": "2021-07-07T11:08:17.939Z"
   },
   {
    "duration": 212,
    "start_time": "2021-07-07T11:08:19.665Z"
   },
   {
    "duration": 21,
    "start_time": "2021-07-07T11:08:29.945Z"
   },
   {
    "duration": 31,
    "start_time": "2021-07-07T11:08:38.899Z"
   },
   {
    "duration": 23,
    "start_time": "2021-07-07T11:08:54.527Z"
   },
   {
    "duration": 8,
    "start_time": "2021-07-07T11:18:55.974Z"
   },
   {
    "duration": 7,
    "start_time": "2021-07-07T11:19:03.639Z"
   },
   {
    "duration": 7,
    "start_time": "2021-07-07T11:19:06.444Z"
   },
   {
    "duration": 578,
    "start_time": "2021-07-07T12:09:59.576Z"
   },
   {
    "duration": 195,
    "start_time": "2021-07-07T12:10:00.156Z"
   },
   {
    "duration": 115,
    "start_time": "2021-07-07T12:10:00.353Z"
   },
   {
    "duration": 3,
    "start_time": "2021-07-07T12:10:00.470Z"
   },
   {
    "duration": 32,
    "start_time": "2021-07-07T12:10:00.474Z"
   },
   {
    "duration": 23,
    "start_time": "2021-07-07T12:10:00.508Z"
   },
   {
    "duration": 19,
    "start_time": "2021-07-07T12:10:00.533Z"
   },
   {
    "duration": 44,
    "start_time": "2021-07-07T12:10:00.553Z"
   },
   {
    "duration": 7,
    "start_time": "2021-07-07T12:10:00.600Z"
   },
   {
    "duration": 7,
    "start_time": "2021-07-07T12:19:45.761Z"
   },
   {
    "duration": 21,
    "start_time": "2021-07-07T12:21:35.482Z"
   },
   {
    "duration": 21,
    "start_time": "2021-07-07T12:29:23.569Z"
   },
   {
    "duration": 525,
    "start_time": "2021-07-07T12:29:44.542Z"
   },
   {
    "duration": 214,
    "start_time": "2021-07-07T12:29:45.069Z"
   },
   {
    "duration": 92,
    "start_time": "2021-07-07T12:29:45.285Z"
   },
   {
    "duration": 3,
    "start_time": "2021-07-07T12:29:45.379Z"
   },
   {
    "duration": 28,
    "start_time": "2021-07-07T12:29:45.384Z"
   },
   {
    "duration": 23,
    "start_time": "2021-07-07T12:29:45.413Z"
   },
   {
    "duration": 21,
    "start_time": "2021-07-07T12:29:45.437Z"
   },
   {
    "duration": 41,
    "start_time": "2021-07-07T12:29:45.460Z"
   },
   {
    "duration": 7,
    "start_time": "2021-07-07T12:29:45.502Z"
   },
   {
    "duration": 20,
    "start_time": "2021-07-07T12:29:45.511Z"
   },
   {
    "duration": 12,
    "start_time": "2021-07-07T12:34:02.800Z"
   },
   {
    "duration": 7,
    "start_time": "2021-07-07T12:35:10.479Z"
   },
   {
    "duration": 8,
    "start_time": "2021-07-07T12:35:22.440Z"
   },
   {
    "duration": 6,
    "start_time": "2021-07-07T12:35:35.649Z"
   },
   {
    "duration": 6,
    "start_time": "2021-07-07T12:35:43.107Z"
   },
   {
    "duration": 22,
    "start_time": "2021-07-07T12:38:03.029Z"
   },
   {
    "duration": 10,
    "start_time": "2021-07-07T12:38:06.592Z"
   },
   {
    "duration": 563,
    "start_time": "2021-07-07T12:38:46.493Z"
   },
   {
    "duration": 265,
    "start_time": "2021-07-07T12:38:47.058Z"
   },
   {
    "duration": 94,
    "start_time": "2021-07-07T12:38:47.325Z"
   },
   {
    "duration": 3,
    "start_time": "2021-07-07T12:38:47.422Z"
   },
   {
    "duration": 30,
    "start_time": "2021-07-07T12:38:47.427Z"
   },
   {
    "duration": 16,
    "start_time": "2021-07-07T12:38:53.305Z"
   },
   {
    "duration": 10,
    "start_time": "2021-07-07T12:38:53.499Z"
   },
   {
    "duration": 8,
    "start_time": "2021-07-07T12:39:48.161Z"
   },
   {
    "duration": 27,
    "start_time": "2021-07-07T12:41:17.629Z"
   },
   {
    "duration": 17,
    "start_time": "2021-07-07T12:41:17.867Z"
   },
   {
    "duration": 21,
    "start_time": "2021-07-07T12:41:19.310Z"
   },
   {
    "duration": 7,
    "start_time": "2021-07-07T12:41:19.544Z"
   },
   {
    "duration": 20,
    "start_time": "2021-07-07T12:41:20.504Z"
   },
   {
    "duration": 554,
    "start_time": "2021-07-07T12:56:23.696Z"
   },
   {
    "duration": 200,
    "start_time": "2021-07-07T12:56:25.234Z"
   },
   {
    "duration": 119,
    "start_time": "2021-07-07T12:56:25.480Z"
   },
   {
    "duration": 4,
    "start_time": "2021-07-07T12:56:25.762Z"
   },
   {
    "duration": 26,
    "start_time": "2021-07-07T12:56:27.172Z"
   },
   {
    "duration": 12,
    "start_time": "2021-07-07T12:56:29.051Z"
   },
   {
    "duration": 10,
    "start_time": "2021-07-07T12:56:29.291Z"
   },
   {
    "duration": 8,
    "start_time": "2021-07-07T12:56:29.623Z"
   },
   {
    "duration": 28,
    "start_time": "2021-07-07T12:56:32.137Z"
   },
   {
    "duration": 19,
    "start_time": "2021-07-07T12:56:39.785Z"
   },
   {
    "duration": 20,
    "start_time": "2021-07-07T12:56:44.297Z"
   },
   {
    "duration": 7,
    "start_time": "2021-07-07T12:56:45.392Z"
   },
   {
    "duration": 23,
    "start_time": "2021-07-07T12:56:46.615Z"
   },
   {
    "duration": 4,
    "start_time": "2021-07-07T12:57:06.625Z"
   },
   {
    "duration": 32,
    "start_time": "2021-07-07T12:57:36.690Z"
   },
   {
    "duration": 18,
    "start_time": "2021-07-07T12:58:00.149Z"
   },
   {
    "duration": 15,
    "start_time": "2021-07-07T12:59:16.793Z"
   },
   {
    "duration": 7,
    "start_time": "2021-07-07T13:19:22.624Z"
   },
   {
    "duration": 6,
    "start_time": "2021-07-07T14:17:33.527Z"
   },
   {
    "duration": 9,
    "start_time": "2021-07-07T14:17:48.409Z"
   },
   {
    "duration": 8,
    "start_time": "2021-07-07T14:20:13.060Z"
   },
   {
    "duration": 8,
    "start_time": "2021-07-07T14:20:37.957Z"
   },
   {
    "duration": 8,
    "start_time": "2021-07-07T14:20:47.470Z"
   },
   {
    "duration": 9,
    "start_time": "2021-07-07T14:20:54.503Z"
   },
   {
    "duration": 10,
    "start_time": "2021-07-07T14:28:57.763Z"
   },
   {
    "duration": 3,
    "start_time": "2021-07-07T14:30:23.377Z"
   },
   {
    "duration": 3,
    "start_time": "2021-07-07T14:30:36.489Z"
   },
   {
    "duration": 103,
    "start_time": "2021-07-07T14:30:52.351Z"
   },
   {
    "duration": 8,
    "start_time": "2021-07-07T14:30:54.763Z"
   },
   {
    "duration": 8,
    "start_time": "2021-07-07T14:31:29.301Z"
   },
   {
    "duration": 13,
    "start_time": "2021-07-07T14:31:44.516Z"
   },
   {
    "duration": 7,
    "start_time": "2021-07-07T14:33:10.972Z"
   },
   {
    "duration": 11,
    "start_time": "2021-07-07T14:33:27.780Z"
   },
   {
    "duration": 8,
    "start_time": "2021-07-07T14:34:44.588Z"
   },
   {
    "duration": 57,
    "start_time": "2021-07-07T14:35:59.042Z"
   },
   {
    "duration": 3,
    "start_time": "2021-07-07T14:36:28.168Z"
   },
   {
    "duration": 5,
    "start_time": "2021-07-07T14:36:46.254Z"
   },
   {
    "duration": 4,
    "start_time": "2021-07-07T14:36:52.714Z"
   },
   {
    "duration": 3,
    "start_time": "2021-07-07T14:36:56.612Z"
   },
   {
    "duration": 4,
    "start_time": "2021-07-07T14:36:57.049Z"
   },
   {
    "duration": 3,
    "start_time": "2021-07-07T14:39:21.214Z"
   },
   {
    "duration": 7,
    "start_time": "2021-07-07T14:39:52.406Z"
   },
   {
    "duration": 11,
    "start_time": "2021-07-07T14:39:58.576Z"
   },
   {
    "duration": 9,
    "start_time": "2021-07-07T14:40:26.301Z"
   },
   {
    "duration": 10,
    "start_time": "2021-07-07T14:40:31.704Z"
   },
   {
    "duration": 11,
    "start_time": "2021-07-07T14:40:36.249Z"
   },
   {
    "duration": 10,
    "start_time": "2021-07-07T14:40:39.783Z"
   },
   {
    "duration": 9,
    "start_time": "2021-07-07T14:40:48.558Z"
   },
   {
    "duration": 10,
    "start_time": "2021-07-07T14:40:57.143Z"
   },
   {
    "duration": 9,
    "start_time": "2021-07-07T14:41:06.074Z"
   },
   {
    "duration": 4324,
    "start_time": "2021-07-07T14:41:22.004Z"
   },
   {
    "duration": 11,
    "start_time": "2021-07-07T14:41:33.392Z"
   },
   {
    "duration": 9,
    "start_time": "2021-07-07T14:41:39.288Z"
   },
   {
    "duration": 569,
    "start_time": "2021-07-07T14:42:14.387Z"
   },
   {
    "duration": 197,
    "start_time": "2021-07-07T14:42:14.959Z"
   },
   {
    "duration": 84,
    "start_time": "2021-07-07T14:42:16.052Z"
   },
   {
    "duration": 4,
    "start_time": "2021-07-07T14:42:16.900Z"
   },
   {
    "duration": 27,
    "start_time": "2021-07-07T14:42:19.898Z"
   },
   {
    "duration": 12,
    "start_time": "2021-07-07T14:42:21.577Z"
   },
   {
    "duration": 9,
    "start_time": "2021-07-07T14:42:21.813Z"
   },
   {
    "duration": 9,
    "start_time": "2021-07-07T14:42:22.569Z"
   },
   {
    "duration": 29,
    "start_time": "2021-07-07T14:42:25.837Z"
   },
   {
    "duration": 20,
    "start_time": "2021-07-07T14:42:27.003Z"
   },
   {
    "duration": 21,
    "start_time": "2021-07-07T14:42:28.767Z"
   },
   {
    "duration": 7,
    "start_time": "2021-07-07T14:42:29.838Z"
   },
   {
    "duration": 4,
    "start_time": "2021-07-07T14:43:25.493Z"
   },
   {
    "duration": 7,
    "start_time": "2021-07-07T14:43:26.573Z"
   },
   {
    "duration": 10,
    "start_time": "2021-07-07T14:43:31.639Z"
   },
   {
    "duration": 9,
    "start_time": "2021-07-07T14:43:32.046Z"
   },
   {
    "duration": 10,
    "start_time": "2021-07-07T14:43:33.301Z"
   },
   {
    "duration": 12,
    "start_time": "2021-07-07T14:43:33.658Z"
   },
   {
    "duration": 8,
    "start_time": "2021-07-07T14:43:34.552Z"
   },
   {
    "duration": 9,
    "start_time": "2021-07-07T14:43:35.058Z"
   },
   {
    "duration": 12,
    "start_time": "2021-07-07T14:43:35.914Z"
   },
   {
    "duration": 17,
    "start_time": "2021-07-07T14:45:34.368Z"
   },
   {
    "duration": 512,
    "start_time": "2021-07-07T14:51:58.236Z"
   },
   {
    "duration": 223,
    "start_time": "2021-07-07T14:51:58.750Z"
   },
   {
    "duration": 93,
    "start_time": "2021-07-07T14:51:58.977Z"
   },
   {
    "duration": 4,
    "start_time": "2021-07-07T14:51:59.071Z"
   },
   {
    "duration": 37,
    "start_time": "2021-07-07T14:51:59.077Z"
   },
   {
    "duration": 18,
    "start_time": "2021-07-07T14:51:59.116Z"
   },
   {
    "duration": 10,
    "start_time": "2021-07-07T14:51:59.137Z"
   },
   {
    "duration": 8,
    "start_time": "2021-07-07T14:51:59.149Z"
   },
   {
    "duration": 54,
    "start_time": "2021-07-07T14:51:59.158Z"
   },
   {
    "duration": 18,
    "start_time": "2021-07-07T14:51:59.213Z"
   },
   {
    "duration": 22,
    "start_time": "2021-07-07T14:51:59.232Z"
   },
   {
    "duration": 36,
    "start_time": "2021-07-07T14:51:59.255Z"
   },
   {
    "duration": 7,
    "start_time": "2021-07-07T14:51:59.293Z"
   },
   {
    "duration": 10,
    "start_time": "2021-07-07T14:51:59.302Z"
   },
   {
    "duration": 9,
    "start_time": "2021-07-07T14:51:59.313Z"
   },
   {
    "duration": 11,
    "start_time": "2021-07-07T14:51:59.324Z"
   },
   {
    "duration": 8,
    "start_time": "2021-07-07T14:51:59.337Z"
   },
   {
    "duration": 46,
    "start_time": "2021-07-07T14:51:59.347Z"
   },
   {
    "duration": 22,
    "start_time": "2021-07-07T14:51:59.395Z"
   },
   {
    "duration": 24,
    "start_time": "2021-07-07T14:57:32.911Z"
   },
   {
    "duration": 7,
    "start_time": "2021-07-07T14:58:22.070Z"
   },
   {
    "duration": 4,
    "start_time": "2021-07-07T14:59:11.239Z"
   },
   {
    "duration": 25,
    "start_time": "2021-07-07T15:07:22.208Z"
   },
   {
    "duration": 16,
    "start_time": "2021-07-07T15:08:25.560Z"
   },
   {
    "duration": 15,
    "start_time": "2021-07-07T15:08:40.647Z"
   },
   {
    "duration": 14,
    "start_time": "2021-07-07T15:08:46.669Z"
   },
   {
    "duration": 533,
    "start_time": "2021-07-07T15:18:07.440Z"
   },
   {
    "duration": 173,
    "start_time": "2021-07-07T15:18:07.974Z"
   },
   {
    "duration": 84,
    "start_time": "2021-07-07T15:18:08.149Z"
   },
   {
    "duration": 3,
    "start_time": "2021-07-07T15:18:08.235Z"
   },
   {
    "duration": 30,
    "start_time": "2021-07-07T15:18:08.240Z"
   },
   {
    "duration": 22,
    "start_time": "2021-07-07T15:18:08.272Z"
   },
   {
    "duration": 11,
    "start_time": "2021-07-07T15:18:08.295Z"
   },
   {
    "duration": 11,
    "start_time": "2021-07-07T15:18:08.309Z"
   },
   {
    "duration": 40,
    "start_time": "2021-07-07T15:18:08.322Z"
   },
   {
    "duration": 42,
    "start_time": "2021-07-07T15:18:08.364Z"
   },
   {
    "duration": 22,
    "start_time": "2021-07-07T15:18:08.408Z"
   },
   {
    "duration": 5,
    "start_time": "2021-07-07T15:18:08.432Z"
   },
   {
    "duration": 13,
    "start_time": "2021-07-07T15:18:08.439Z"
   },
   {
    "duration": 9,
    "start_time": "2021-07-07T15:18:08.454Z"
   },
   {
    "duration": 32,
    "start_time": "2021-07-07T15:18:08.465Z"
   },
   {
    "duration": 10,
    "start_time": "2021-07-07T15:18:08.501Z"
   },
   {
    "duration": 7,
    "start_time": "2021-07-07T15:18:08.513Z"
   },
   {
    "duration": 11,
    "start_time": "2021-07-07T15:18:08.521Z"
   },
   {
    "duration": 17,
    "start_time": "2021-07-07T15:18:08.534Z"
   },
   {
    "duration": 44,
    "start_time": "2021-07-07T15:18:08.553Z"
   },
   {
    "duration": 22,
    "start_time": "2021-07-07T15:18:08.599Z"
   },
   {
    "duration": 61,
    "start_time": "2021-07-07T15:18:08.622Z"
   },
   {
    "duration": 7,
    "start_time": "2021-07-07T15:18:39.457Z"
   },
   {
    "duration": 5,
    "start_time": "2021-07-07T16:05:17.020Z"
   },
   {
    "duration": 5,
    "start_time": "2021-07-07T16:51:28.794Z"
   },
   {
    "duration": 546,
    "start_time": "2021-07-07T16:52:26.306Z"
   },
   {
    "duration": 203,
    "start_time": "2021-07-07T16:52:27.523Z"
   },
   {
    "duration": 85,
    "start_time": "2021-07-07T16:52:27.736Z"
   },
   {
    "duration": 4,
    "start_time": "2021-07-07T16:52:27.899Z"
   },
   {
    "duration": 25,
    "start_time": "2021-07-07T16:52:28.674Z"
   },
   {
    "duration": 8,
    "start_time": "2021-07-07T16:52:32.956Z"
   },
   {
    "duration": 18,
    "start_time": "2021-07-07T16:52:35.616Z"
   },
   {
    "duration": 6,
    "start_time": "2021-07-07T16:52:36.913Z"
   },
   {
    "duration": 11,
    "start_time": "2021-07-07T16:52:40.258Z"
   },
   {
    "duration": 10,
    "start_time": "2021-07-07T16:52:46.251Z"
   },
   {
    "duration": 8,
    "start_time": "2021-07-07T16:52:47.182Z"
   },
   {
    "duration": 27,
    "start_time": "2021-07-07T16:53:20.391Z"
   },
   {
    "duration": 20,
    "start_time": "2021-07-07T16:53:22.022Z"
   },
   {
    "duration": 23,
    "start_time": "2021-07-07T16:53:23.690Z"
   },
   {
    "duration": 8,
    "start_time": "2021-07-07T16:53:24.261Z"
   },
   {
    "duration": 4,
    "start_time": "2021-07-07T16:53:38.733Z"
   },
   {
    "duration": 7,
    "start_time": "2021-07-07T16:53:40.445Z"
   },
   {
    "duration": 11,
    "start_time": "2021-07-07T16:53:41.348Z"
   },
   {
    "duration": 13,
    "start_time": "2021-07-07T16:53:45.250Z"
   },
   {
    "duration": 12,
    "start_time": "2021-07-07T16:53:45.467Z"
   },
   {
    "duration": 4,
    "start_time": "2021-07-07T16:55:32.704Z"
   },
   {
    "duration": 12,
    "start_time": "2021-07-07T16:55:49.012Z"
   },
   {
    "duration": 18,
    "start_time": "2021-07-07T16:55:49.547Z"
   },
   {
    "duration": 611,
    "start_time": "2021-07-07T16:58:35.156Z"
   },
   {
    "duration": 200,
    "start_time": "2021-07-07T16:58:35.770Z"
   },
   {
    "duration": 86,
    "start_time": "2021-07-07T16:58:35.972Z"
   },
   {
    "duration": 3,
    "start_time": "2021-07-07T16:58:36.060Z"
   },
   {
    "duration": 27,
    "start_time": "2021-07-07T16:58:36.065Z"
   },
   {
    "duration": 8,
    "start_time": "2021-07-07T16:58:36.094Z"
   },
   {
    "duration": 17,
    "start_time": "2021-07-07T16:58:36.103Z"
   },
   {
    "duration": 5,
    "start_time": "2021-07-07T16:58:36.123Z"
   },
   {
    "duration": 11,
    "start_time": "2021-07-07T16:58:36.130Z"
   },
   {
    "duration": 7,
    "start_time": "2021-07-07T16:58:36.143Z"
   },
   {
    "duration": 37,
    "start_time": "2021-07-07T16:58:36.152Z"
   },
   {
    "duration": 27,
    "start_time": "2021-07-07T16:58:36.191Z"
   },
   {
    "duration": 19,
    "start_time": "2021-07-07T16:58:36.219Z"
   },
   {
    "duration": 49,
    "start_time": "2021-07-07T16:58:36.240Z"
   },
   {
    "duration": 6,
    "start_time": "2021-07-07T16:58:36.291Z"
   },
   {
    "duration": 3,
    "start_time": "2021-07-07T16:58:36.299Z"
   },
   {
    "duration": 13,
    "start_time": "2021-07-07T16:58:36.304Z"
   },
   {
    "duration": 10,
    "start_time": "2021-07-07T16:58:36.319Z"
   },
   {
    "duration": 10,
    "start_time": "2021-07-07T16:58:36.331Z"
   },
   {
    "duration": 44,
    "start_time": "2021-07-07T16:58:36.343Z"
   },
   {
    "duration": 4,
    "start_time": "2021-07-07T16:58:36.388Z"
   },
   {
    "duration": 13,
    "start_time": "2021-07-07T16:58:36.394Z"
   },
   {
    "duration": 16,
    "start_time": "2021-07-07T16:58:36.410Z"
   },
   {
    "duration": 8,
    "start_time": "2021-07-07T17:02:31.629Z"
   },
   {
    "duration": 8,
    "start_time": "2021-07-07T17:02:34.308Z"
   },
   {
    "duration": 6,
    "start_time": "2021-07-07T17:05:13.483Z"
   },
   {
    "duration": 17,
    "start_time": "2021-07-07T17:05:20.606Z"
   },
   {
    "duration": 7,
    "start_time": "2021-07-07T17:05:34.638Z"
   },
   {
    "duration": 3,
    "start_time": "2021-07-07T17:06:31.883Z"
   },
   {
    "duration": 570,
    "start_time": "2021-07-07T17:06:37.165Z"
   },
   {
    "duration": 174,
    "start_time": "2021-07-07T17:06:37.737Z"
   },
   {
    "duration": 47,
    "start_time": "2021-07-07T17:06:37.913Z"
   },
   {
    "duration": 3,
    "start_time": "2021-07-07T17:06:37.962Z"
   },
   {
    "duration": 27,
    "start_time": "2021-07-07T17:06:37.967Z"
   },
   {
    "duration": 7,
    "start_time": "2021-07-07T17:06:37.996Z"
   },
   {
    "duration": 16,
    "start_time": "2021-07-07T17:06:38.005Z"
   },
   {
    "duration": 6,
    "start_time": "2021-07-07T17:06:38.024Z"
   },
   {
    "duration": 12,
    "start_time": "2021-07-07T17:06:38.031Z"
   },
   {
    "duration": 41,
    "start_time": "2021-07-07T17:06:38.045Z"
   },
   {
    "duration": 8,
    "start_time": "2021-07-07T17:06:38.088Z"
   },
   {
    "duration": 26,
    "start_time": "2021-07-07T17:06:38.098Z"
   },
   {
    "duration": 17,
    "start_time": "2021-07-07T17:06:38.126Z"
   },
   {
    "duration": 43,
    "start_time": "2021-07-07T17:06:38.144Z"
   },
   {
    "duration": 6,
    "start_time": "2021-07-07T17:06:38.188Z"
   },
   {
    "duration": 5,
    "start_time": "2021-07-07T17:06:38.195Z"
   },
   {
    "duration": 9,
    "start_time": "2021-07-07T17:06:38.201Z"
   },
   {
    "duration": 12,
    "start_time": "2021-07-07T17:06:38.212Z"
   },
   {
    "duration": 11,
    "start_time": "2021-07-07T17:06:38.226Z"
   },
   {
    "duration": 47,
    "start_time": "2021-07-07T17:06:38.239Z"
   },
   {
    "duration": 4,
    "start_time": "2021-07-07T17:06:38.288Z"
   },
   {
    "duration": 13,
    "start_time": "2021-07-07T17:06:38.293Z"
   },
   {
    "duration": 5,
    "start_time": "2021-07-07T17:06:38.309Z"
   },
   {
    "duration": 18,
    "start_time": "2021-07-07T17:06:38.325Z"
   },
   {
    "duration": 20,
    "start_time": "2021-07-07T17:07:02.805Z"
   },
   {
    "duration": 19,
    "start_time": "2021-07-07T17:07:08.527Z"
   },
   {
    "duration": 19,
    "start_time": "2021-07-07T17:07:12.758Z"
   },
   {
    "duration": 22,
    "start_time": "2021-07-07T17:07:17.497Z"
   },
   {
    "duration": 19,
    "start_time": "2021-07-07T17:07:19.645Z"
   },
   {
    "duration": 10,
    "start_time": "2021-07-07T17:07:34.239Z"
   },
   {
    "duration": 17,
    "start_time": "2021-07-07T17:07:54.144Z"
   },
   {
    "duration": 14,
    "start_time": "2021-07-07T17:08:14.357Z"
   },
   {
    "duration": 616,
    "start_time": "2021-07-07T17:08:45.254Z"
   },
   {
    "duration": 178,
    "start_time": "2021-07-07T17:08:45.872Z"
   },
   {
    "duration": 60,
    "start_time": "2021-07-07T17:08:46.054Z"
   },
   {
    "duration": 3,
    "start_time": "2021-07-07T17:08:46.116Z"
   },
   {
    "duration": 26,
    "start_time": "2021-07-07T17:08:46.121Z"
   },
   {
    "duration": 7,
    "start_time": "2021-07-07T17:08:46.149Z"
   },
   {
    "duration": 17,
    "start_time": "2021-07-07T17:08:46.158Z"
   },
   {
    "duration": 14,
    "start_time": "2021-07-07T17:08:46.176Z"
   },
   {
    "duration": 17,
    "start_time": "2021-07-07T17:08:46.193Z"
   },
   {
    "duration": 9,
    "start_time": "2021-07-07T17:08:46.211Z"
   },
   {
    "duration": 21,
    "start_time": "2021-07-07T17:08:46.221Z"
   },
   {
    "duration": 49,
    "start_time": "2021-07-07T17:08:46.244Z"
   },
   {
    "duration": 24,
    "start_time": "2021-07-07T17:08:46.295Z"
   },
   {
    "duration": 22,
    "start_time": "2021-07-07T17:08:46.321Z"
   },
   {
    "duration": 6,
    "start_time": "2021-07-07T17:08:46.345Z"
   },
   {
    "duration": 5,
    "start_time": "2021-07-07T17:08:46.353Z"
   },
   {
    "duration": 13,
    "start_time": "2021-07-07T17:08:46.386Z"
   },
   {
    "duration": 12,
    "start_time": "2021-07-07T17:08:46.402Z"
   },
   {
    "duration": 10,
    "start_time": "2021-07-07T17:08:46.415Z"
   },
   {
    "duration": 7,
    "start_time": "2021-07-07T17:08:46.427Z"
   },
   {
    "duration": 8,
    "start_time": "2021-07-07T17:08:46.435Z"
   },
   {
    "duration": 68,
    "start_time": "2021-07-07T17:08:46.446Z"
   },
   {
    "duration": 13,
    "start_time": "2021-07-07T17:08:46.516Z"
   },
   {
    "duration": 78,
    "start_time": "2021-07-07T17:08:46.530Z"
   },
   {
    "duration": 40,
    "start_time": "2021-07-07T17:09:08.185Z"
   },
   {
    "duration": 16,
    "start_time": "2021-07-07T17:09:19.324Z"
   },
   {
    "duration": 21,
    "start_time": "2021-07-07T17:09:23.290Z"
   },
   {
    "duration": 13,
    "start_time": "2021-07-07T17:09:54.812Z"
   },
   {
    "duration": 13,
    "start_time": "2021-07-07T17:10:02.039Z"
   },
   {
    "duration": 10,
    "start_time": "2021-07-07T17:10:29.632Z"
   },
   {
    "duration": 13,
    "start_time": "2021-07-07T17:10:52.372Z"
   },
   {
    "duration": 13,
    "start_time": "2021-07-07T17:11:17.270Z"
   },
   {
    "duration": 13,
    "start_time": "2021-07-07T17:14:59.284Z"
   },
   {
    "duration": 547,
    "start_time": "2021-07-07T17:18:52.403Z"
   },
   {
    "duration": 163,
    "start_time": "2021-07-07T17:18:52.952Z"
   },
   {
    "duration": 44,
    "start_time": "2021-07-07T17:18:53.117Z"
   },
   {
    "duration": 3,
    "start_time": "2021-07-07T17:18:53.162Z"
   },
   {
    "duration": 26,
    "start_time": "2021-07-07T17:18:53.167Z"
   },
   {
    "duration": 6,
    "start_time": "2021-07-07T17:18:53.195Z"
   },
   {
    "duration": 15,
    "start_time": "2021-07-07T17:18:53.203Z"
   },
   {
    "duration": 5,
    "start_time": "2021-07-07T17:18:53.220Z"
   },
   {
    "duration": 11,
    "start_time": "2021-07-07T17:18:53.228Z"
   },
   {
    "duration": 9,
    "start_time": "2021-07-07T17:18:53.241Z"
   },
   {
    "duration": 41,
    "start_time": "2021-07-07T17:18:53.252Z"
   },
   {
    "duration": 33,
    "start_time": "2021-07-07T17:18:53.295Z"
   },
   {
    "duration": 19,
    "start_time": "2021-07-07T17:18:53.330Z"
   },
   {
    "duration": 49,
    "start_time": "2021-07-07T17:18:53.350Z"
   },
   {
    "duration": 5,
    "start_time": "2021-07-07T17:18:53.401Z"
   },
   {
    "duration": 5,
    "start_time": "2021-07-07T17:18:53.408Z"
   },
   {
    "duration": 11,
    "start_time": "2021-07-07T17:18:53.414Z"
   },
   {
    "duration": 9,
    "start_time": "2021-07-07T17:18:53.427Z"
   },
   {
    "duration": 10,
    "start_time": "2021-07-07T17:18:53.437Z"
   },
   {
    "duration": 39,
    "start_time": "2021-07-07T17:18:53.448Z"
   },
   {
    "duration": 26,
    "start_time": "2021-07-07T17:18:55.799Z"
   },
   {
    "duration": 598,
    "start_time": "2021-07-07T17:20:17.862Z"
   },
   {
    "duration": 161,
    "start_time": "2021-07-07T17:20:18.462Z"
   },
   {
    "duration": 45,
    "start_time": "2021-07-07T17:20:18.626Z"
   },
   {
    "duration": 4,
    "start_time": "2021-07-07T17:20:18.673Z"
   },
   {
    "duration": 38,
    "start_time": "2021-07-07T17:20:26.877Z"
   },
   {
    "duration": 7,
    "start_time": "2021-07-07T17:20:37.405Z"
   },
   {
    "duration": 19,
    "start_time": "2021-07-07T17:20:51.534Z"
   },
   {
    "duration": 5,
    "start_time": "2021-07-07T17:20:57.228Z"
   },
   {
    "duration": 7,
    "start_time": "2021-07-07T17:21:08.235Z"
   },
   {
    "duration": 19,
    "start_time": "2021-07-07T17:21:42.158Z"
   },
   {
    "duration": 14,
    "start_time": "2021-07-07T17:21:50.225Z"
   },
   {
    "duration": 22,
    "start_time": "2021-07-07T17:22:54.104Z"
   },
   {
    "duration": 5,
    "start_time": "2021-07-07T17:22:56.371Z"
   },
   {
    "duration": 14,
    "start_time": "2021-07-07T17:22:58.316Z"
   },
   {
    "duration": 5,
    "start_time": "2021-07-07T17:22:58.493Z"
   },
   {
    "duration": 35,
    "start_time": "2021-07-07T17:22:59.666Z"
   },
   {
    "duration": 6,
    "start_time": "2021-07-07T17:23:02.410Z"
   },
   {
    "duration": 611,
    "start_time": "2021-07-07T17:24:59.664Z"
   },
   {
    "duration": 178,
    "start_time": "2021-07-07T17:25:01.945Z"
   },
   {
    "duration": 47,
    "start_time": "2021-07-07T17:25:02.125Z"
   },
   {
    "duration": 2,
    "start_time": "2021-07-07T17:25:07.903Z"
   },
   {
    "duration": 254,
    "start_time": "2021-07-07T17:25:08.232Z"
   },
   {
    "duration": 182,
    "start_time": "2021-07-07T17:25:08.671Z"
   },
   {
    "duration": 6,
    "start_time": "2021-07-07T17:25:13.104Z"
   },
   {
    "duration": 36,
    "start_time": "2021-07-07T17:25:13.662Z"
   },
   {
    "duration": 7,
    "start_time": "2021-07-07T17:25:14.528Z"
   },
   {
    "duration": 24,
    "start_time": "2021-07-07T17:25:27.982Z"
   },
   {
    "duration": 3,
    "start_time": "2021-07-07T17:25:48.982Z"
   },
   {
    "duration": 165,
    "start_time": "2021-07-07T17:25:48.987Z"
   },
   {
    "duration": 50,
    "start_time": "2021-07-07T17:25:49.154Z"
   },
   {
    "duration": 4,
    "start_time": "2021-07-07T17:25:49.206Z"
   },
   {
    "duration": 26,
    "start_time": "2021-07-07T17:25:49.212Z"
   },
   {
    "duration": 7,
    "start_time": "2021-07-07T17:25:49.240Z"
   },
   {
    "duration": 16,
    "start_time": "2021-07-07T17:25:49.249Z"
   },
   {
    "duration": 22,
    "start_time": "2021-07-07T17:25:49.266Z"
   },
   {
    "duration": 16,
    "start_time": "2021-07-07T17:25:49.291Z"
   },
   {
    "duration": 9,
    "start_time": "2021-07-07T17:25:49.309Z"
   },
   {
    "duration": 7,
    "start_time": "2021-07-07T17:25:49.319Z"
   },
   {
    "duration": 28,
    "start_time": "2021-07-07T17:25:49.328Z"
   },
   {
    "duration": 44,
    "start_time": "2021-07-07T17:25:49.357Z"
   },
   {
    "duration": 22,
    "start_time": "2021-07-07T17:25:49.403Z"
   },
   {
    "duration": 7,
    "start_time": "2021-07-07T17:25:49.427Z"
   },
   {
    "duration": 3,
    "start_time": "2021-07-07T17:25:49.436Z"
   },
   {
    "duration": 44,
    "start_time": "2021-07-07T17:25:49.441Z"
   },
   {
    "duration": 12,
    "start_time": "2021-07-07T17:25:49.488Z"
   },
   {
    "duration": 13,
    "start_time": "2021-07-07T17:25:49.502Z"
   },
   {
    "duration": 10,
    "start_time": "2021-07-07T17:25:49.516Z"
   },
   {
    "duration": 62,
    "start_time": "2021-07-07T17:25:49.527Z"
   },
   {
    "duration": 26,
    "start_time": "2021-07-07T17:26:51.809Z"
   },
   {
    "duration": 26,
    "start_time": "2021-07-07T17:26:55.759Z"
   },
   {
    "duration": 26,
    "start_time": "2021-07-07T17:27:04.501Z"
   },
   {
    "duration": 25,
    "start_time": "2021-07-07T17:28:24.859Z"
   },
   {
    "duration": 21,
    "start_time": "2021-07-07T17:28:55.250Z"
   },
   {
    "duration": 21,
    "start_time": "2021-07-07T17:28:58.885Z"
   },
   {
    "duration": 7,
    "start_time": "2021-07-07T17:45:40.972Z"
   },
   {
    "duration": 13,
    "start_time": "2021-07-07T17:45:42.529Z"
   },
   {
    "duration": 27,
    "start_time": "2021-07-07T17:45:51.026Z"
   },
   {
    "duration": 518,
    "start_time": "2021-07-07T17:46:15.532Z"
   },
   {
    "duration": 235,
    "start_time": "2021-07-07T17:46:16.053Z"
   },
   {
    "duration": 80,
    "start_time": "2021-07-07T17:46:16.292Z"
   },
   {
    "duration": 5,
    "start_time": "2021-07-07T17:46:16.373Z"
   },
   {
    "duration": 26,
    "start_time": "2021-07-07T17:46:16.380Z"
   },
   {
    "duration": 7,
    "start_time": "2021-07-07T17:46:16.408Z"
   },
   {
    "duration": 16,
    "start_time": "2021-07-07T17:46:16.418Z"
   },
   {
    "duration": 5,
    "start_time": "2021-07-07T17:46:16.436Z"
   },
   {
    "duration": 13,
    "start_time": "2021-07-07T17:46:16.442Z"
   },
   {
    "duration": 35,
    "start_time": "2021-07-07T17:46:16.456Z"
   },
   {
    "duration": 8,
    "start_time": "2021-07-07T17:46:16.493Z"
   },
   {
    "duration": 28,
    "start_time": "2021-07-07T17:46:16.502Z"
   },
   {
    "duration": 17,
    "start_time": "2021-07-07T17:46:16.532Z"
   },
   {
    "duration": 44,
    "start_time": "2021-07-07T17:46:16.551Z"
   },
   {
    "duration": 6,
    "start_time": "2021-07-07T17:46:16.597Z"
   },
   {
    "duration": 4,
    "start_time": "2021-07-07T17:46:16.605Z"
   },
   {
    "duration": 9,
    "start_time": "2021-07-07T17:46:16.610Z"
   },
   {
    "duration": 9,
    "start_time": "2021-07-07T17:46:16.621Z"
   },
   {
    "duration": 10,
    "start_time": "2021-07-07T17:46:16.632Z"
   },
   {
    "duration": 43,
    "start_time": "2021-07-07T17:46:16.644Z"
   },
   {
    "duration": 26,
    "start_time": "2021-07-07T17:46:16.689Z"
   },
   {
    "duration": 19,
    "start_time": "2021-07-07T17:46:16.718Z"
   },
   {
    "duration": 8,
    "start_time": "2021-07-07T17:46:16.738Z"
   },
   {
    "duration": 43,
    "start_time": "2021-07-07T17:46:16.747Z"
   },
   {
    "duration": 19,
    "start_time": "2021-07-07T17:46:16.791Z"
   },
   {
    "duration": 9,
    "start_time": "2021-07-07T17:46:16.812Z"
   },
   {
    "duration": 60,
    "start_time": "2021-07-07T17:46:16.822Z"
   },
   {
    "duration": -8,
    "start_time": "2021-07-07T17:46:16.892Z"
   },
   {
    "duration": 12,
    "start_time": "2021-07-07T17:48:47.707Z"
   },
   {
    "duration": 553,
    "start_time": "2021-07-07T18:10:09.350Z"
   },
   {
    "duration": 230,
    "start_time": "2021-07-07T18:10:09.905Z"
   },
   {
    "duration": 97,
    "start_time": "2021-07-07T18:10:10.137Z"
   },
   {
    "duration": 5,
    "start_time": "2021-07-07T18:10:10.236Z"
   },
   {
    "duration": 29,
    "start_time": "2021-07-07T18:10:10.242Z"
   },
   {
    "duration": 7,
    "start_time": "2021-07-07T18:10:10.272Z"
   },
   {
    "duration": 15,
    "start_time": "2021-07-07T18:10:10.281Z"
   },
   {
    "duration": 4,
    "start_time": "2021-07-07T18:10:10.299Z"
   },
   {
    "duration": 14,
    "start_time": "2021-07-07T18:10:10.305Z"
   },
   {
    "duration": 8,
    "start_time": "2021-07-07T18:10:10.321Z"
   },
   {
    "duration": 8,
    "start_time": "2021-07-07T18:10:10.331Z"
   },
   {
    "duration": 56,
    "start_time": "2021-07-07T18:10:10.341Z"
   },
   {
    "duration": 19,
    "start_time": "2021-07-07T18:10:10.399Z"
   },
   {
    "duration": 23,
    "start_time": "2021-07-07T18:10:10.419Z"
   },
   {
    "duration": 6,
    "start_time": "2021-07-07T18:10:10.444Z"
   },
   {
    "duration": 9,
    "start_time": "2021-07-07T18:10:10.451Z"
   },
   {
    "duration": 30,
    "start_time": "2021-07-07T18:10:10.462Z"
   },
   {
    "duration": 9,
    "start_time": "2021-07-07T18:10:10.494Z"
   },
   {
    "duration": 14,
    "start_time": "2021-07-07T18:10:10.505Z"
   },
   {
    "duration": 7,
    "start_time": "2021-07-07T18:10:10.521Z"
   },
   {
    "duration": 26,
    "start_time": "2021-07-07T18:10:10.530Z"
   },
   {
    "duration": 44,
    "start_time": "2021-07-07T18:10:10.558Z"
   },
   {
    "duration": 7,
    "start_time": "2021-07-07T18:10:10.605Z"
   },
   {
    "duration": 11,
    "start_time": "2021-07-07T18:10:10.614Z"
   },
   {
    "duration": 19,
    "start_time": "2021-07-07T18:10:10.626Z"
   },
   {
    "duration": 44,
    "start_time": "2021-07-07T18:10:10.646Z"
   },
   {
    "duration": 516,
    "start_time": "2021-07-07T18:14:00.826Z"
   },
   {
    "duration": 230,
    "start_time": "2021-07-07T18:14:01.344Z"
   },
   {
    "duration": 105,
    "start_time": "2021-07-07T18:14:01.576Z"
   },
   {
    "duration": 5,
    "start_time": "2021-07-07T18:14:01.683Z"
   },
   {
    "duration": 46,
    "start_time": "2021-07-07T18:14:01.690Z"
   },
   {
    "duration": 7,
    "start_time": "2021-07-07T18:14:01.738Z"
   },
   {
    "duration": 20,
    "start_time": "2021-07-07T18:14:01.747Z"
   },
   {
    "duration": 16,
    "start_time": "2021-07-07T18:14:01.769Z"
   },
   {
    "duration": 14,
    "start_time": "2021-07-07T18:14:01.787Z"
   },
   {
    "duration": 15,
    "start_time": "2021-07-07T18:14:01.803Z"
   },
   {
    "duration": 12,
    "start_time": "2021-07-07T18:14:01.820Z"
   },
   {
    "duration": 35,
    "start_time": "2021-07-07T18:14:01.833Z"
   },
   {
    "duration": 31,
    "start_time": "2021-07-07T18:14:01.869Z"
   },
   {
    "duration": 37,
    "start_time": "2021-07-07T18:14:01.902Z"
   },
   {
    "duration": 8,
    "start_time": "2021-07-07T18:14:01.942Z"
   },
   {
    "duration": 16,
    "start_time": "2021-07-07T18:14:01.952Z"
   },
   {
    "duration": 13,
    "start_time": "2021-07-07T18:14:01.970Z"
   },
   {
    "duration": 32,
    "start_time": "2021-07-07T18:14:01.985Z"
   },
   {
    "duration": 11,
    "start_time": "2021-07-07T18:14:02.019Z"
   },
   {
    "duration": 22,
    "start_time": "2021-07-07T18:14:02.031Z"
   },
   {
    "duration": 27,
    "start_time": "2021-07-07T18:14:02.055Z"
   },
   {
    "duration": 18,
    "start_time": "2021-07-07T18:14:02.084Z"
   },
   {
    "duration": 18,
    "start_time": "2021-07-07T18:14:02.106Z"
   },
   {
    "duration": 11,
    "start_time": "2021-07-07T18:14:02.126Z"
   },
   {
    "duration": 21,
    "start_time": "2021-07-07T18:14:02.138Z"
   },
   {
    "duration": 32,
    "start_time": "2021-07-07T18:14:02.161Z"
   },
   {
    "duration": 28,
    "start_time": "2021-07-07T18:14:44.295Z"
   },
   {
    "duration": 6,
    "start_time": "2021-07-07T18:15:05.834Z"
   },
   {
    "duration": 511,
    "start_time": "2021-07-07T18:15:41.541Z"
   },
   {
    "duration": 183,
    "start_time": "2021-07-07T18:15:42.054Z"
   },
   {
    "duration": 50,
    "start_time": "2021-07-07T18:15:42.239Z"
   },
   {
    "duration": 5,
    "start_time": "2021-07-07T18:15:42.291Z"
   },
   {
    "duration": 48,
    "start_time": "2021-07-07T18:15:42.297Z"
   },
   {
    "duration": 8,
    "start_time": "2021-07-07T18:15:42.346Z"
   },
   {
    "duration": 17,
    "start_time": "2021-07-07T18:15:42.356Z"
   },
   {
    "duration": 15,
    "start_time": "2021-07-07T18:15:42.375Z"
   },
   {
    "duration": 12,
    "start_time": "2021-07-07T18:15:42.392Z"
   },
   {
    "duration": 7,
    "start_time": "2021-07-07T18:15:42.406Z"
   },
   {
    "duration": 7,
    "start_time": "2021-07-07T18:15:42.415Z"
   },
   {
    "duration": 29,
    "start_time": "2021-07-07T18:15:42.423Z"
   },
   {
    "duration": 43,
    "start_time": "2021-07-07T18:15:42.453Z"
   },
   {
    "duration": 18,
    "start_time": "2021-07-07T18:15:42.497Z"
   },
   {
    "duration": 6,
    "start_time": "2021-07-07T18:15:42.516Z"
   },
   {
    "duration": 3,
    "start_time": "2021-07-07T18:15:42.523Z"
   },
   {
    "duration": 18,
    "start_time": "2021-07-07T18:15:42.528Z"
   },
   {
    "duration": 10,
    "start_time": "2021-07-07T18:15:42.547Z"
   },
   {
    "duration": 36,
    "start_time": "2021-07-07T18:15:42.559Z"
   },
   {
    "duration": 8,
    "start_time": "2021-07-07T18:15:42.597Z"
   },
   {
    "duration": 28,
    "start_time": "2021-07-07T18:15:42.606Z"
   },
   {
    "duration": 52,
    "start_time": "2021-07-07T18:15:42.635Z"
   },
   {
    "duration": 7,
    "start_time": "2021-07-07T18:15:42.690Z"
   },
   {
    "duration": 10,
    "start_time": "2021-07-07T18:15:42.699Z"
   },
   {
    "duration": 19,
    "start_time": "2021-07-07T18:15:42.711Z"
   },
   {
    "duration": 9,
    "start_time": "2021-07-07T18:15:42.732Z"
   },
   {
    "duration": 5,
    "start_time": "2021-07-07T18:15:42.743Z"
   },
   {
    "duration": 1450,
    "start_time": "2021-07-07T18:15:51.984Z"
   },
   {
    "duration": 161,
    "start_time": "2021-07-07T18:15:53.435Z"
   },
   {
    "duration": 124,
    "start_time": "2021-07-07T18:15:53.598Z"
   },
   {
    "duration": 5,
    "start_time": "2021-07-07T18:15:53.724Z"
   },
   {
    "duration": 34,
    "start_time": "2021-07-07T18:15:53.730Z"
   },
   {
    "duration": 7,
    "start_time": "2021-07-07T18:15:53.765Z"
   },
   {
    "duration": 15,
    "start_time": "2021-07-07T18:15:53.773Z"
   },
   {
    "duration": 5,
    "start_time": "2021-07-07T18:15:53.791Z"
   },
   {
    "duration": 19,
    "start_time": "2021-07-07T18:15:53.798Z"
   },
   {
    "duration": 9,
    "start_time": "2021-07-07T18:15:53.818Z"
   },
   {
    "duration": 19,
    "start_time": "2021-07-07T18:15:53.828Z"
   },
   {
    "duration": 27,
    "start_time": "2021-07-07T18:15:53.848Z"
   },
   {
    "duration": 16,
    "start_time": "2021-07-07T18:15:53.884Z"
   },
   {
    "duration": 29,
    "start_time": "2021-07-07T18:15:53.901Z"
   },
   {
    "duration": 5,
    "start_time": "2021-07-07T18:15:53.932Z"
   },
   {
    "duration": 15,
    "start_time": "2021-07-07T18:15:53.939Z"
   },
   {
    "duration": 13,
    "start_time": "2021-07-07T18:15:53.956Z"
   },
   {
    "duration": 20,
    "start_time": "2021-07-07T18:15:53.971Z"
   },
   {
    "duration": 14,
    "start_time": "2021-07-07T18:15:53.992Z"
   },
   {
    "duration": 9,
    "start_time": "2021-07-07T18:15:54.009Z"
   },
   {
    "duration": 28,
    "start_time": "2021-07-07T18:15:54.020Z"
   },
   {
    "duration": 50,
    "start_time": "2021-07-07T18:15:54.051Z"
   },
   {
    "duration": 8,
    "start_time": "2021-07-07T18:15:54.105Z"
   },
   {
    "duration": 11,
    "start_time": "2021-07-07T18:15:54.115Z"
   },
   {
    "duration": 20,
    "start_time": "2021-07-07T18:15:54.128Z"
   },
   {
    "duration": 13,
    "start_time": "2021-07-07T18:15:54.184Z"
   },
   {
    "duration": 7,
    "start_time": "2021-07-07T18:15:54.199Z"
   },
   {
    "duration": 7,
    "start_time": "2021-07-07T18:17:08.042Z"
   },
   {
    "duration": 8,
    "start_time": "2021-07-07T18:17:21.008Z"
   },
   {
    "duration": 7,
    "start_time": "2021-07-07T18:17:29.003Z"
   },
   {
    "duration": 8,
    "start_time": "2021-07-07T18:17:32.492Z"
   },
   {
    "duration": 9,
    "start_time": "2021-07-07T18:17:41.758Z"
   },
   {
    "duration": 255,
    "start_time": "2021-07-07T18:20:20.897Z"
   },
   {
    "duration": 173,
    "start_time": "2021-07-07T18:20:26.636Z"
   },
   {
    "duration": 7,
    "start_time": "2021-07-07T18:21:47.164Z"
   },
   {
    "duration": 254,
    "start_time": "2021-07-07T18:23:08.703Z"
   },
   {
    "duration": 21,
    "start_time": "2021-07-07T18:23:22.506Z"
   },
   {
    "duration": 315,
    "start_time": "2021-07-07T18:25:54.801Z"
   },
   {
    "duration": 34,
    "start_time": "2021-07-07T18:26:51.817Z"
   },
   {
    "duration": 327,
    "start_time": "2021-07-07T18:26:56.147Z"
   },
   {
    "duration": 342,
    "start_time": "2021-07-07T18:27:15.887Z"
   },
   {
    "duration": 302,
    "start_time": "2021-07-07T18:28:18.569Z"
   },
   {
    "duration": 226,
    "start_time": "2021-07-07T18:29:20.879Z"
   },
   {
    "duration": 207,
    "start_time": "2021-07-07T18:29:58.114Z"
   },
   {
    "duration": 140,
    "start_time": "2021-07-07T18:32:04.372Z"
   },
   {
    "duration": 158,
    "start_time": "2021-07-07T18:32:32.508Z"
   },
   {
    "duration": 145,
    "start_time": "2021-07-07T18:32:41.365Z"
   },
   {
    "duration": 132,
    "start_time": "2021-07-07T18:32:45.199Z"
   },
   {
    "duration": 11,
    "start_time": "2021-07-07T18:35:24.679Z"
   },
   {
    "duration": 268,
    "start_time": "2021-07-07T18:36:16.145Z"
   },
   {
    "duration": 227,
    "start_time": "2021-07-07T18:37:04.918Z"
   },
   {
    "duration": 3,
    "start_time": "2021-07-07T18:37:33.012Z"
   },
   {
    "duration": 671,
    "start_time": "2021-07-07T18:37:38.295Z"
   },
   {
    "duration": 54,
    "start_time": "2021-07-07T18:37:53.406Z"
   },
   {
    "duration": 631,
    "start_time": "2021-07-07T18:37:56.463Z"
   },
   {
    "duration": 19,
    "start_time": "2021-07-07T18:39:40.535Z"
   },
   {
    "duration": 20,
    "start_time": "2021-07-07T18:40:12.236Z"
   },
   {
    "duration": 633,
    "start_time": "2021-07-07T18:42:00.398Z"
   },
   {
    "duration": 218,
    "start_time": "2021-07-07T18:42:01.033Z"
   },
   {
    "duration": 49,
    "start_time": "2021-07-07T18:42:01.253Z"
   },
   {
    "duration": 5,
    "start_time": "2021-07-07T18:42:01.303Z"
   },
   {
    "duration": 27,
    "start_time": "2021-07-07T18:42:01.310Z"
   },
   {
    "duration": 8,
    "start_time": "2021-07-07T18:42:01.339Z"
   },
   {
    "duration": 20,
    "start_time": "2021-07-07T18:42:01.348Z"
   },
   {
    "duration": 6,
    "start_time": "2021-07-07T18:42:01.386Z"
   },
   {
    "duration": 16,
    "start_time": "2021-07-07T18:42:01.394Z"
   },
   {
    "duration": 9,
    "start_time": "2021-07-07T18:42:01.411Z"
   },
   {
    "duration": 11,
    "start_time": "2021-07-07T18:42:01.421Z"
   },
   {
    "duration": 31,
    "start_time": "2021-07-07T18:42:01.434Z"
   },
   {
    "duration": 18,
    "start_time": "2021-07-07T18:42:01.485Z"
   },
   {
    "duration": 23,
    "start_time": "2021-07-07T18:42:01.505Z"
   },
   {
    "duration": 6,
    "start_time": "2021-07-07T18:42:01.530Z"
   },
   {
    "duration": 10,
    "start_time": "2021-07-07T18:42:01.538Z"
   },
   {
    "duration": 13,
    "start_time": "2021-07-07T18:42:01.550Z"
   },
   {
    "duration": 24,
    "start_time": "2021-07-07T18:42:01.564Z"
   },
   {
    "duration": 20,
    "start_time": "2021-07-07T18:42:01.590Z"
   },
   {
    "duration": 8,
    "start_time": "2021-07-07T18:42:01.611Z"
   },
   {
    "duration": 31,
    "start_time": "2021-07-07T18:42:01.620Z"
   },
   {
    "duration": 39,
    "start_time": "2021-07-07T18:42:01.653Z"
   },
   {
    "duration": 8,
    "start_time": "2021-07-07T18:42:01.696Z"
   },
   {
    "duration": 13,
    "start_time": "2021-07-07T18:42:01.705Z"
   },
   {
    "duration": 20,
    "start_time": "2021-07-07T18:42:01.720Z"
   },
   {
    "duration": 12,
    "start_time": "2021-07-07T18:42:01.741Z"
   },
   {
    "duration": 35,
    "start_time": "2021-07-07T18:42:01.755Z"
   },
   {
    "duration": 14,
    "start_time": "2021-07-07T18:42:01.792Z"
   },
   {
    "duration": 188,
    "start_time": "2021-07-07T18:42:01.808Z"
   },
   {
    "duration": 19,
    "start_time": "2021-07-07T18:42:01.998Z"
   },
   {
    "duration": 175,
    "start_time": "2021-07-07T18:42:02.019Z"
   },
   {
    "duration": 134,
    "start_time": "2021-07-07T18:42:02.196Z"
   },
   {
    "duration": 10,
    "start_time": "2021-07-07T18:42:02.331Z"
   },
   {
    "duration": 19,
    "start_time": "2021-07-07T18:42:02.343Z"
   },
   {
    "duration": 628,
    "start_time": "2021-07-07T18:46:30.701Z"
   },
   {
    "duration": 183,
    "start_time": "2021-07-07T18:46:31.331Z"
   },
   {
    "duration": 48,
    "start_time": "2021-07-07T18:46:31.516Z"
   },
   {
    "duration": 5,
    "start_time": "2021-07-07T18:46:31.566Z"
   },
   {
    "duration": 28,
    "start_time": "2021-07-07T18:46:31.572Z"
   },
   {
    "duration": 8,
    "start_time": "2021-07-07T18:46:31.602Z"
   },
   {
    "duration": 19,
    "start_time": "2021-07-07T18:46:31.611Z"
   },
   {
    "duration": 6,
    "start_time": "2021-07-07T18:46:31.633Z"
   },
   {
    "duration": 17,
    "start_time": "2021-07-07T18:46:31.642Z"
   },
   {
    "duration": 10,
    "start_time": "2021-07-07T18:46:31.684Z"
   },
   {
    "duration": 9,
    "start_time": "2021-07-07T18:46:31.695Z"
   },
   {
    "duration": 28,
    "start_time": "2021-07-07T18:46:31.705Z"
   },
   {
    "duration": 18,
    "start_time": "2021-07-07T18:46:31.735Z"
   },
   {
    "duration": 48,
    "start_time": "2021-07-07T18:46:31.755Z"
   },
   {
    "duration": 6,
    "start_time": "2021-07-07T18:46:31.804Z"
   },
   {
    "duration": 4,
    "start_time": "2021-07-07T18:46:31.812Z"
   },
   {
    "duration": 9,
    "start_time": "2021-07-07T18:46:31.817Z"
   },
   {
    "duration": 10,
    "start_time": "2021-07-07T18:46:31.827Z"
   },
   {
    "duration": 12,
    "start_time": "2021-07-07T18:46:31.838Z"
   },
   {
    "duration": 39,
    "start_time": "2021-07-07T18:46:31.851Z"
   },
   {
    "duration": 24,
    "start_time": "2021-07-07T18:46:31.892Z"
   },
   {
    "duration": 15,
    "start_time": "2021-07-07T18:46:31.918Z"
   },
   {
    "duration": 7,
    "start_time": "2021-07-07T18:46:31.936Z"
   },
   {
    "duration": 8,
    "start_time": "2021-07-07T18:46:31.944Z"
   },
   {
    "duration": 19,
    "start_time": "2021-07-07T18:46:31.984Z"
   },
   {
    "duration": 10,
    "start_time": "2021-07-07T18:46:32.004Z"
   },
   {
    "duration": 5,
    "start_time": "2021-07-07T18:46:32.016Z"
   },
   {
    "duration": 9,
    "start_time": "2021-07-07T18:46:32.023Z"
   },
   {
    "duration": 199,
    "start_time": "2021-07-07T18:46:32.033Z"
   },
   {
    "duration": 19,
    "start_time": "2021-07-07T18:46:32.234Z"
   },
   {
    "duration": 159,
    "start_time": "2021-07-07T18:46:32.255Z"
   },
   {
    "duration": 134,
    "start_time": "2021-07-07T18:46:32.416Z"
   },
   {
    "duration": 10,
    "start_time": "2021-07-07T18:46:32.552Z"
   },
   {
    "duration": 34,
    "start_time": "2021-07-07T18:46:32.563Z"
   },
   {
    "duration": 1039,
    "start_time": "2021-07-08T08:41:09.419Z"
   },
   {
    "duration": 333,
    "start_time": "2021-07-08T08:41:10.459Z"
   },
   {
    "duration": 173,
    "start_time": "2021-07-08T08:41:10.794Z"
   },
   {
    "duration": 5,
    "start_time": "2021-07-08T08:41:10.968Z"
   },
   {
    "duration": 25,
    "start_time": "2021-07-08T08:41:10.975Z"
   },
   {
    "duration": 9,
    "start_time": "2021-07-08T08:41:11.002Z"
   },
   {
    "duration": 18,
    "start_time": "2021-07-08T08:41:11.013Z"
   },
   {
    "duration": 6,
    "start_time": "2021-07-08T08:41:11.033Z"
   },
   {
    "duration": 44,
    "start_time": "2021-07-08T08:41:11.042Z"
   },
   {
    "duration": 10,
    "start_time": "2021-07-08T08:41:11.088Z"
   },
   {
    "duration": 9,
    "start_time": "2021-07-08T08:41:11.100Z"
   },
   {
    "duration": 27,
    "start_time": "2021-07-08T08:41:11.111Z"
   },
   {
    "duration": 46,
    "start_time": "2021-07-08T08:41:11.140Z"
   },
   {
    "duration": 17,
    "start_time": "2021-07-08T08:41:11.187Z"
   },
   {
    "duration": 6,
    "start_time": "2021-07-08T08:41:11.206Z"
   },
   {
    "duration": 5,
    "start_time": "2021-07-08T08:41:11.213Z"
   },
   {
    "duration": 10,
    "start_time": "2021-07-08T08:41:11.219Z"
   },
   {
    "duration": 9,
    "start_time": "2021-07-08T08:41:11.230Z"
   },
   {
    "duration": 45,
    "start_time": "2021-07-08T08:41:11.241Z"
   },
   {
    "duration": 7,
    "start_time": "2021-07-08T08:41:11.287Z"
   },
   {
    "duration": 24,
    "start_time": "2021-07-08T08:41:11.296Z"
   },
   {
    "duration": 16,
    "start_time": "2021-07-08T08:41:11.322Z"
   },
   {
    "duration": 7,
    "start_time": "2021-07-08T08:41:11.341Z"
   },
   {
    "duration": 41,
    "start_time": "2021-07-08T08:41:11.349Z"
   },
   {
    "duration": 17,
    "start_time": "2021-07-08T08:41:11.391Z"
   },
   {
    "duration": 9,
    "start_time": "2021-07-08T08:41:11.410Z"
   },
   {
    "duration": 5,
    "start_time": "2021-07-08T08:41:11.421Z"
   },
   {
    "duration": 6,
    "start_time": "2021-07-08T08:41:11.428Z"
   },
   {
    "duration": 198,
    "start_time": "2021-07-08T08:41:11.435Z"
   },
   {
    "duration": 18,
    "start_time": "2021-07-08T08:41:11.635Z"
   },
   {
    "duration": 155,
    "start_time": "2021-07-08T08:41:11.655Z"
   },
   {
    "duration": 138,
    "start_time": "2021-07-08T08:41:11.811Z"
   },
   {
    "duration": 10,
    "start_time": "2021-07-08T08:41:11.950Z"
   },
   {
    "duration": 29,
    "start_time": "2021-07-08T08:41:11.961Z"
   },
   {
    "duration": 171,
    "start_time": "2021-07-08T08:47:44.522Z"
   },
   {
    "duration": 124,
    "start_time": "2021-07-08T08:47:46.872Z"
   },
   {
    "duration": 191,
    "start_time": "2021-07-08T08:47:58.148Z"
   },
   {
    "duration": 191,
    "start_time": "2021-07-08T08:48:07.412Z"
   },
   {
    "duration": 261,
    "start_time": "2021-07-08T08:48:10.385Z"
   },
   {
    "duration": 255,
    "start_time": "2021-07-08T08:48:14.494Z"
   },
   {
    "duration": 219,
    "start_time": "2021-07-08T08:48:22.752Z"
   },
   {
    "duration": 173,
    "start_time": "2021-07-08T08:49:06.395Z"
   },
   {
    "duration": 180,
    "start_time": "2021-07-08T08:49:21.011Z"
   },
   {
    "duration": 6,
    "start_time": "2021-07-08T08:50:31.697Z"
   },
   {
    "duration": 10,
    "start_time": "2021-07-08T08:50:47.394Z"
   },
   {
    "duration": 11,
    "start_time": "2021-07-08T08:53:49.332Z"
   },
   {
    "duration": 171,
    "start_time": "2021-07-08T08:54:28.408Z"
   },
   {
    "duration": 636,
    "start_time": "2021-07-08T09:02:48.385Z"
   },
   {
    "duration": 227,
    "start_time": "2021-07-08T09:02:49.023Z"
   },
   {
    "duration": 104,
    "start_time": "2021-07-08T09:02:49.252Z"
   },
   {
    "duration": 5,
    "start_time": "2021-07-08T09:02:49.358Z"
   },
   {
    "duration": 27,
    "start_time": "2021-07-08T09:02:49.365Z"
   },
   {
    "duration": 8,
    "start_time": "2021-07-08T09:02:49.394Z"
   },
   {
    "duration": 18,
    "start_time": "2021-07-08T09:02:49.404Z"
   },
   {
    "duration": 6,
    "start_time": "2021-07-08T09:02:49.424Z"
   },
   {
    "duration": 11,
    "start_time": "2021-07-08T09:02:49.433Z"
   },
   {
    "duration": 13,
    "start_time": "2021-07-08T09:02:49.485Z"
   },
   {
    "duration": 9,
    "start_time": "2021-07-08T09:02:49.500Z"
   },
   {
    "duration": 38,
    "start_time": "2021-07-08T09:02:49.511Z"
   },
   {
    "duration": 42,
    "start_time": "2021-07-08T09:02:49.551Z"
   },
   {
    "duration": 21,
    "start_time": "2021-07-08T09:02:49.594Z"
   },
   {
    "duration": 6,
    "start_time": "2021-07-08T09:02:49.616Z"
   },
   {
    "duration": 3,
    "start_time": "2021-07-08T09:02:49.623Z"
   },
   {
    "duration": 9,
    "start_time": "2021-07-08T09:02:49.628Z"
   },
   {
    "duration": 52,
    "start_time": "2021-07-08T09:02:49.638Z"
   },
   {
    "duration": 11,
    "start_time": "2021-07-08T09:02:49.692Z"
   },
   {
    "duration": 8,
    "start_time": "2021-07-08T09:02:49.704Z"
   },
   {
    "duration": 27,
    "start_time": "2021-07-08T09:02:49.713Z"
   },
   {
    "duration": 59,
    "start_time": "2021-07-08T09:02:49.741Z"
   },
   {
    "duration": 8,
    "start_time": "2021-07-08T09:02:49.803Z"
   },
   {
    "duration": 14,
    "start_time": "2021-07-08T09:02:49.813Z"
   },
   {
    "duration": 20,
    "start_time": "2021-07-08T09:02:49.829Z"
   },
   {
    "duration": 44,
    "start_time": "2021-07-08T09:02:49.851Z"
   },
   {
    "duration": 14,
    "start_time": "2021-07-08T09:02:49.896Z"
   },
   {
    "duration": 221,
    "start_time": "2021-07-08T09:02:49.912Z"
   },
   {
    "duration": 6,
    "start_time": "2021-07-08T09:02:50.134Z"
   },
   {
    "duration": 206,
    "start_time": "2021-07-08T09:02:50.142Z"
   },
   {
    "duration": 19,
    "start_time": "2021-07-08T09:02:50.350Z"
   },
   {
    "duration": 21,
    "start_time": "2021-07-08T09:02:50.370Z"
   },
   {
    "duration": 20,
    "start_time": "2021-07-08T09:02:50.393Z"
   },
   {
    "duration": 5,
    "start_time": "2021-07-08T09:02:50.414Z"
   },
   {
    "duration": 5,
    "start_time": "2021-07-08T09:03:34.173Z"
   },
   {
    "duration": 6,
    "start_time": "2021-07-08T09:04:49.062Z"
   },
   {
    "duration": 9,
    "start_time": "2021-07-08T09:04:50.118Z"
   },
   {
    "duration": 14,
    "start_time": "2021-07-08T09:04:58.512Z"
   },
   {
    "duration": 9,
    "start_time": "2021-07-08T09:05:10.988Z"
   },
   {
    "duration": 11,
    "start_time": "2021-07-08T09:05:11.743Z"
   },
   {
    "duration": 7,
    "start_time": "2021-07-08T09:05:25.677Z"
   },
   {
    "duration": 13,
    "start_time": "2021-07-08T09:05:47.189Z"
   },
   {
    "duration": 13,
    "start_time": "2021-07-08T09:05:54.755Z"
   },
   {
    "duration": 4,
    "start_time": "2021-07-08T09:06:29.189Z"
   },
   {
    "duration": 244,
    "start_time": "2021-07-08T09:06:29.195Z"
   },
   {
    "duration": 91,
    "start_time": "2021-07-08T09:06:29.441Z"
   },
   {
    "duration": 4,
    "start_time": "2021-07-08T09:06:29.534Z"
   },
   {
    "duration": 28,
    "start_time": "2021-07-08T09:06:29.540Z"
   },
   {
    "duration": 6,
    "start_time": "2021-07-08T09:06:29.570Z"
   },
   {
    "duration": 18,
    "start_time": "2021-07-08T09:06:29.578Z"
   },
   {
    "duration": 5,
    "start_time": "2021-07-08T09:06:29.597Z"
   },
   {
    "duration": 13,
    "start_time": "2021-07-08T09:06:29.605Z"
   },
   {
    "duration": 8,
    "start_time": "2021-07-08T09:06:29.620Z"
   },
   {
    "duration": 7,
    "start_time": "2021-07-08T09:06:29.630Z"
   },
   {
    "duration": 63,
    "start_time": "2021-07-08T09:06:29.639Z"
   },
   {
    "duration": 17,
    "start_time": "2021-07-08T09:06:29.704Z"
   },
   {
    "duration": 20,
    "start_time": "2021-07-08T09:06:29.723Z"
   },
   {
    "duration": 6,
    "start_time": "2021-07-08T09:06:29.745Z"
   },
   {
    "duration": 3,
    "start_time": "2021-07-08T09:06:29.752Z"
   },
   {
    "duration": 7,
    "start_time": "2021-07-08T09:06:29.785Z"
   },
   {
    "duration": 11,
    "start_time": "2021-07-08T09:06:29.794Z"
   },
   {
    "duration": 15,
    "start_time": "2021-07-08T09:06:29.807Z"
   },
   {
    "duration": 8,
    "start_time": "2021-07-08T09:06:29.823Z"
   },
   {
    "duration": 70,
    "start_time": "2021-07-08T09:06:29.832Z"
   },
   {
    "duration": 17,
    "start_time": "2021-07-08T09:06:29.903Z"
   },
   {
    "duration": 9,
    "start_time": "2021-07-08T09:06:29.921Z"
   },
   {
    "duration": 9,
    "start_time": "2021-07-08T09:06:29.932Z"
   },
   {
    "duration": 57,
    "start_time": "2021-07-08T09:06:29.942Z"
   },
   {
    "duration": 11,
    "start_time": "2021-07-08T09:06:30.001Z"
   },
   {
    "duration": 19,
    "start_time": "2021-07-08T09:06:30.016Z"
   },
   {
    "duration": 217,
    "start_time": "2021-07-08T09:06:30.037Z"
   },
   {
    "duration": 6,
    "start_time": "2021-07-08T09:06:30.255Z"
   },
   {
    "duration": 205,
    "start_time": "2021-07-08T09:06:30.263Z"
   },
   {
    "duration": 27,
    "start_time": "2021-07-08T09:06:30.470Z"
   },
   {
    "duration": 11,
    "start_time": "2021-07-08T09:06:30.500Z"
   },
   {
    "duration": 31,
    "start_time": "2021-07-08T09:06:30.513Z"
   },
   {
    "duration": 18,
    "start_time": "2021-07-08T09:06:30.546Z"
   },
   {
    "duration": 11,
    "start_time": "2021-07-08T09:06:30.566Z"
   },
   {
    "duration": 19,
    "start_time": "2021-07-08T09:06:30.579Z"
   },
   {
    "duration": 20,
    "start_time": "2021-07-08T09:06:49.466Z"
   },
   {
    "duration": 9,
    "start_time": "2021-07-08T09:06:51.994Z"
   },
   {
    "duration": 20,
    "start_time": "2021-07-08T09:06:52.273Z"
   },
   {
    "duration": 246,
    "start_time": "2021-07-08T09:10:21.272Z"
   },
   {
    "duration": 84,
    "start_time": "2021-07-08T09:10:21.436Z"
   },
   {
    "duration": 7,
    "start_time": "2021-07-08T09:10:37.608Z"
   },
   {
    "duration": 189,
    "start_time": "2021-07-08T09:10:38.573Z"
   },
   {
    "duration": 185,
    "start_time": "2021-07-08T09:10:53.181Z"
   },
   {
    "duration": 11,
    "start_time": "2021-07-08T09:10:59.549Z"
   },
   {
    "duration": 42,
    "start_time": "2021-07-08T09:10:59.709Z"
   },
   {
    "duration": 12,
    "start_time": "2021-07-08T09:11:02.857Z"
   },
   {
    "duration": 28,
    "start_time": "2021-07-08T09:11:10.062Z"
   },
   {
    "duration": 249,
    "start_time": "2021-07-08T09:11:37.388Z"
   },
   {
    "duration": 232,
    "start_time": "2021-07-08T09:11:49.485Z"
   },
   {
    "duration": 453,
    "start_time": "2021-07-08T09:12:01.546Z"
   },
   {
    "duration": 440,
    "start_time": "2021-07-08T09:12:12.347Z"
   },
   {
    "duration": 213,
    "start_time": "2021-07-08T09:13:32.196Z"
   },
   {
    "duration": 172,
    "start_time": "2021-07-08T09:14:07.400Z"
   },
   {
    "duration": 185,
    "start_time": "2021-07-08T09:14:14.905Z"
   },
   {
    "duration": 209,
    "start_time": "2021-07-08T09:14:40.109Z"
   },
   {
    "duration": 201,
    "start_time": "2021-07-08T09:14:54.506Z"
   },
   {
    "duration": 622,
    "start_time": "2021-07-08T09:18:14.497Z"
   },
   {
    "duration": 220,
    "start_time": "2021-07-08T09:18:15.121Z"
   },
   {
    "duration": 79,
    "start_time": "2021-07-08T09:18:15.343Z"
   },
   {
    "duration": 4,
    "start_time": "2021-07-08T09:18:15.425Z"
   },
   {
    "duration": 24,
    "start_time": "2021-07-08T09:18:15.431Z"
   },
   {
    "duration": 8,
    "start_time": "2021-07-08T09:18:15.457Z"
   },
   {
    "duration": 16,
    "start_time": "2021-07-08T09:18:15.466Z"
   },
   {
    "duration": 5,
    "start_time": "2021-07-08T09:18:15.484Z"
   },
   {
    "duration": 10,
    "start_time": "2021-07-08T09:18:15.493Z"
   },
   {
    "duration": 8,
    "start_time": "2021-07-08T09:18:15.504Z"
   },
   {
    "duration": 7,
    "start_time": "2021-07-08T09:18:15.513Z"
   },
   {
    "duration": 26,
    "start_time": "2021-07-08T09:18:15.522Z"
   },
   {
    "duration": 49,
    "start_time": "2021-07-08T09:18:15.550Z"
   },
   {
    "duration": 21,
    "start_time": "2021-07-08T09:18:15.601Z"
   },
   {
    "duration": 8,
    "start_time": "2021-07-08T09:18:15.624Z"
   },
   {
    "duration": 3,
    "start_time": "2021-07-08T09:18:15.634Z"
   },
   {
    "duration": 8,
    "start_time": "2021-07-08T09:18:15.639Z"
   },
   {
    "duration": 45,
    "start_time": "2021-07-08T09:18:15.649Z"
   },
   {
    "duration": 13,
    "start_time": "2021-07-08T09:18:15.696Z"
   },
   {
    "duration": 10,
    "start_time": "2021-07-08T09:18:15.711Z"
   },
   {
    "duration": 64,
    "start_time": "2021-07-08T09:18:15.722Z"
   },
   {
    "duration": 19,
    "start_time": "2021-07-08T09:18:15.788Z"
   },
   {
    "duration": 9,
    "start_time": "2021-07-08T09:18:15.809Z"
   },
   {
    "duration": 9,
    "start_time": "2021-07-08T09:18:15.820Z"
   },
   {
    "duration": 18,
    "start_time": "2021-07-08T09:18:15.831Z"
   },
   {
    "duration": 43,
    "start_time": "2021-07-08T09:18:15.851Z"
   },
   {
    "duration": 12,
    "start_time": "2021-07-08T09:18:15.897Z"
   },
   {
    "duration": 219,
    "start_time": "2021-07-08T09:18:15.911Z"
   },
   {
    "duration": 8,
    "start_time": "2021-07-08T09:18:16.132Z"
   },
   {
    "duration": 199,
    "start_time": "2021-07-08T09:18:16.141Z"
   },
   {
    "duration": 18,
    "start_time": "2021-07-08T09:18:16.341Z"
   },
   {
    "duration": 24,
    "start_time": "2021-07-08T09:18:16.361Z"
   },
   {
    "duration": 24,
    "start_time": "2021-07-08T09:18:16.387Z"
   },
   {
    "duration": 211,
    "start_time": "2021-07-08T09:18:16.413Z"
   },
   {
    "duration": 18,
    "start_time": "2021-07-08T09:18:16.626Z"
   },
   {
    "duration": 596,
    "start_time": "2021-07-08T10:06:33.623Z"
   },
   {
    "duration": 181,
    "start_time": "2021-07-08T10:06:34.221Z"
   },
   {
    "duration": 176,
    "start_time": "2021-07-08T10:06:34.635Z"
   },
   {
    "duration": 239,
    "start_time": "2021-07-08T10:06:55.572Z"
   },
   {
    "duration": 6,
    "start_time": "2021-07-08T10:06:57.687Z"
   },
   {
    "duration": 4,
    "start_time": "2021-07-08T10:07:03.956Z"
   },
   {
    "duration": 4,
    "start_time": "2021-07-08T10:07:10.376Z"
   },
   {
    "duration": 4,
    "start_time": "2021-07-08T10:17:19.889Z"
   },
   {
    "duration": 3,
    "start_time": "2021-07-08T10:19:19.407Z"
   },
   {
    "duration": 197,
    "start_time": "2021-07-08T10:19:19.412Z"
   },
   {
    "duration": 127,
    "start_time": "2021-07-08T10:19:19.611Z"
   },
   {
    "duration": 4,
    "start_time": "2021-07-08T10:19:19.740Z"
   },
   {
    "duration": 27,
    "start_time": "2021-07-08T10:19:19.746Z"
   },
   {
    "duration": 7,
    "start_time": "2021-07-08T10:19:19.775Z"
   },
   {
    "duration": 30,
    "start_time": "2021-07-08T10:19:19.784Z"
   },
   {
    "duration": 7,
    "start_time": "2021-07-08T10:19:19.817Z"
   },
   {
    "duration": 26,
    "start_time": "2021-07-08T10:19:19.826Z"
   },
   {
    "duration": 18,
    "start_time": "2021-07-08T10:19:19.854Z"
   },
   {
    "duration": 14,
    "start_time": "2021-07-08T10:19:19.874Z"
   },
   {
    "duration": 48,
    "start_time": "2021-07-08T10:19:19.890Z"
   },
   {
    "duration": 17,
    "start_time": "2021-07-08T10:19:19.940Z"
   },
   {
    "duration": 38,
    "start_time": "2021-07-08T10:19:19.959Z"
   },
   {
    "duration": 8,
    "start_time": "2021-07-08T10:19:19.999Z"
   },
   {
    "duration": 15,
    "start_time": "2021-07-08T10:19:20.009Z"
   },
   {
    "duration": 22,
    "start_time": "2021-07-08T10:19:20.026Z"
   },
   {
    "duration": 10,
    "start_time": "2021-07-08T10:19:20.050Z"
   },
   {
    "duration": 10,
    "start_time": "2021-07-08T10:19:20.062Z"
   },
   {
    "duration": 20,
    "start_time": "2021-07-08T10:19:20.073Z"
   },
   {
    "duration": 29,
    "start_time": "2021-07-08T10:19:20.095Z"
   },
   {
    "duration": 17,
    "start_time": "2021-07-08T10:19:20.126Z"
   },
   {
    "duration": 40,
    "start_time": "2021-07-08T10:19:20.146Z"
   },
   {
    "duration": 15,
    "start_time": "2021-07-08T10:19:20.189Z"
   },
   {
    "duration": 19,
    "start_time": "2021-07-08T10:19:20.206Z"
   },
   {
    "duration": 10,
    "start_time": "2021-07-08T10:19:20.226Z"
   },
   {
    "duration": 11,
    "start_time": "2021-07-08T10:19:20.238Z"
   },
   {
    "duration": 297,
    "start_time": "2021-07-08T10:19:20.250Z"
   },
   {
    "duration": 6,
    "start_time": "2021-07-08T10:19:20.549Z"
   },
   {
    "duration": 191,
    "start_time": "2021-07-08T10:19:20.557Z"
   },
   {
    "duration": 19,
    "start_time": "2021-07-08T10:19:20.750Z"
   },
   {
    "duration": 20,
    "start_time": "2021-07-08T10:19:20.771Z"
   },
   {
    "duration": 15,
    "start_time": "2021-07-08T10:19:20.793Z"
   },
   {
    "duration": 222,
    "start_time": "2021-07-08T10:19:20.809Z"
   },
   {
    "duration": 20,
    "start_time": "2021-07-08T10:19:21.033Z"
   },
   {
    "duration": 27,
    "start_time": "2021-07-08T10:45:04.055Z"
   },
   {
    "duration": 8,
    "start_time": "2021-07-08T10:45:08.478Z"
   },
   {
    "duration": 8,
    "start_time": "2021-07-08T10:45:31.982Z"
   },
   {
    "duration": 10,
    "start_time": "2021-07-08T10:46:01.221Z"
   },
   {
    "duration": 17,
    "start_time": "2021-07-08T10:46:40.011Z"
   },
   {
    "duration": 193,
    "start_time": "2021-07-08T10:48:19.471Z"
   },
   {
    "duration": 225,
    "start_time": "2021-07-08T10:49:26.480Z"
   },
   {
    "duration": 204,
    "start_time": "2021-07-08T10:49:59.992Z"
   },
   {
    "duration": 435,
    "start_time": "2021-07-08T10:50:06.779Z"
   },
   {
    "duration": 199,
    "start_time": "2021-07-08T10:50:14.891Z"
   },
   {
    "duration": 204,
    "start_time": "2021-07-08T10:50:18.501Z"
   },
   {
    "duration": 244,
    "start_time": "2021-07-08T10:50:23.359Z"
   },
   {
    "duration": 192,
    "start_time": "2021-07-08T10:50:29.135Z"
   },
   {
    "duration": 218,
    "start_time": "2021-07-08T10:50:33.092Z"
   },
   {
    "duration": 207,
    "start_time": "2021-07-08T10:52:45.381Z"
   },
   {
    "duration": 5,
    "start_time": "2021-07-08T10:53:34.641Z"
   },
   {
    "duration": 196,
    "start_time": "2021-07-08T10:53:41.478Z"
   },
   {
    "duration": 43,
    "start_time": "2021-07-08T10:53:50.335Z"
   },
   {
    "duration": 32,
    "start_time": "2021-07-08T10:53:55.294Z"
   },
   {
    "duration": 55,
    "start_time": "2021-07-08T10:54:09.675Z"
   },
   {
    "duration": 16,
    "start_time": "2021-07-08T10:54:12.260Z"
   },
   {
    "duration": 15,
    "start_time": "2021-07-08T10:54:49.150Z"
   },
   {
    "duration": 20,
    "start_time": "2021-07-08T10:56:07.596Z"
   },
   {
    "duration": 16,
    "start_time": "2021-07-08T10:58:26.276Z"
   },
   {
    "duration": 22,
    "start_time": "2021-07-08T10:59:00.486Z"
   },
   {
    "duration": 18,
    "start_time": "2021-07-08T11:02:09.653Z"
   },
   {
    "duration": 10,
    "start_time": "2021-07-08T11:03:44.331Z"
   },
   {
    "duration": 10,
    "start_time": "2021-07-08T11:03:54.055Z"
   },
   {
    "duration": 12,
    "start_time": "2021-07-08T11:04:41.967Z"
   },
   {
    "duration": 24,
    "start_time": "2021-07-08T11:07:30.732Z"
   },
   {
    "duration": 6,
    "start_time": "2021-07-08T11:07:37.364Z"
   },
   {
    "duration": 16,
    "start_time": "2021-07-08T11:08:01.819Z"
   },
   {
    "duration": 17,
    "start_time": "2021-07-08T11:09:47.488Z"
   },
   {
    "duration": 246,
    "start_time": "2021-07-08T11:10:00.830Z"
   },
   {
    "duration": 18,
    "start_time": "2021-07-08T11:13:55.195Z"
   },
   {
    "duration": 204,
    "start_time": "2021-07-08T11:14:04.951Z"
   },
   {
    "duration": 19,
    "start_time": "2021-07-08T11:15:10.613Z"
   },
   {
    "duration": 680,
    "start_time": "2021-07-08T11:16:25.793Z"
   },
   {
    "duration": 451,
    "start_time": "2021-07-08T11:16:40.313Z"
   },
   {
    "duration": 469,
    "start_time": "2021-07-08T11:17:21.286Z"
   },
   {
    "duration": 20,
    "start_time": "2021-07-08T11:19:12.554Z"
   },
   {
    "duration": 35,
    "start_time": "2021-07-08T11:20:05.484Z"
   },
   {
    "duration": 53,
    "start_time": "2021-07-08T11:21:40.050Z"
   },
   {
    "duration": 13,
    "start_time": "2021-07-08T11:22:26.059Z"
   },
   {
    "duration": 19,
    "start_time": "2021-07-08T11:22:47.419Z"
   },
   {
    "duration": 25,
    "start_time": "2021-07-08T11:23:19.958Z"
   },
   {
    "duration": 29,
    "start_time": "2021-07-08T11:23:25.415Z"
   },
   {
    "duration": 10,
    "start_time": "2021-07-08T11:24:45.138Z"
   },
   {
    "duration": 19,
    "start_time": "2021-07-08T11:24:54.498Z"
   },
   {
    "duration": 12,
    "start_time": "2021-07-08T11:25:32.225Z"
   },
   {
    "duration": 19,
    "start_time": "2021-07-08T11:25:37.092Z"
   },
   {
    "duration": 17,
    "start_time": "2021-07-08T11:25:58.116Z"
   },
   {
    "duration": 15,
    "start_time": "2021-07-08T11:26:02.258Z"
   },
   {
    "duration": 8,
    "start_time": "2021-07-08T11:26:59.682Z"
   },
   {
    "duration": 184,
    "start_time": "2021-07-08T11:27:21.894Z"
   },
   {
    "duration": 8,
    "start_time": "2021-07-08T11:27:23.824Z"
   },
   {
    "duration": 202,
    "start_time": "2021-07-08T11:27:23.962Z"
   },
   {
    "duration": 360,
    "start_time": "2021-07-08T11:28:33.215Z"
   },
   {
    "duration": 231,
    "start_time": "2021-07-08T11:32:05.542Z"
   },
   {
    "duration": 607,
    "start_time": "2021-07-08T11:36:27.854Z"
   },
   {
    "duration": 241,
    "start_time": "2021-07-08T11:36:28.463Z"
   },
   {
    "duration": 67,
    "start_time": "2021-07-08T11:36:28.709Z"
   },
   {
    "duration": 5,
    "start_time": "2021-07-08T11:36:28.778Z"
   },
   {
    "duration": 32,
    "start_time": "2021-07-08T11:36:28.784Z"
   },
   {
    "duration": 11,
    "start_time": "2021-07-08T11:36:28.819Z"
   },
   {
    "duration": 20,
    "start_time": "2021-07-08T11:36:28.834Z"
   },
   {
    "duration": 36,
    "start_time": "2021-07-08T11:36:28.857Z"
   },
   {
    "duration": 16,
    "start_time": "2021-07-08T11:36:28.895Z"
   },
   {
    "duration": 14,
    "start_time": "2021-07-08T11:36:28.913Z"
   },
   {
    "duration": 9,
    "start_time": "2021-07-08T11:36:28.930Z"
   },
   {
    "duration": 55,
    "start_time": "2021-07-08T11:36:28.941Z"
   },
   {
    "duration": 27,
    "start_time": "2021-07-08T11:36:28.999Z"
   },
   {
    "duration": 30,
    "start_time": "2021-07-08T11:36:29.028Z"
   },
   {
    "duration": 31,
    "start_time": "2021-07-08T11:36:29.060Z"
   },
   {
    "duration": 3,
    "start_time": "2021-07-08T11:36:29.093Z"
   },
   {
    "duration": 12,
    "start_time": "2021-07-08T11:36:29.099Z"
   },
   {
    "duration": 11,
    "start_time": "2021-07-08T11:36:29.112Z"
   },
   {
    "duration": 12,
    "start_time": "2021-07-08T11:36:29.125Z"
   },
   {
    "duration": 9,
    "start_time": "2021-07-08T11:36:29.139Z"
   },
   {
    "duration": 31,
    "start_time": "2021-07-08T11:36:29.191Z"
   },
   {
    "duration": 17,
    "start_time": "2021-07-08T11:36:29.226Z"
   },
   {
    "duration": 7,
    "start_time": "2021-07-08T11:36:29.245Z"
   },
   {
    "duration": 10,
    "start_time": "2021-07-08T11:36:29.254Z"
   },
   {
    "duration": 30,
    "start_time": "2021-07-08T11:36:29.292Z"
   },
   {
    "duration": 11,
    "start_time": "2021-07-08T11:36:29.324Z"
   },
   {
    "duration": 11,
    "start_time": "2021-07-08T11:36:29.337Z"
   },
   {
    "duration": 230,
    "start_time": "2021-07-08T11:36:29.349Z"
   },
   {
    "duration": 13,
    "start_time": "2021-07-08T11:36:29.588Z"
   },
   {
    "duration": 205,
    "start_time": "2021-07-08T11:36:29.603Z"
   },
   {
    "duration": 20,
    "start_time": "2021-07-08T11:36:29.810Z"
   },
   {
    "duration": 9,
    "start_time": "2021-07-08T11:36:29.832Z"
   },
   {
    "duration": 16,
    "start_time": "2021-07-08T11:36:29.843Z"
   },
   {
    "duration": 283,
    "start_time": "2021-07-08T11:36:29.861Z"
   },
   {
    "duration": 50,
    "start_time": "2021-07-08T11:36:30.146Z"
   },
   {
    "duration": 14,
    "start_time": "2021-07-08T11:36:30.198Z"
   },
   {
    "duration": 11,
    "start_time": "2021-07-08T11:36:30.214Z"
   },
   {
    "duration": 245,
    "start_time": "2021-07-08T11:36:30.227Z"
   },
   {
    "duration": 439,
    "start_time": "2021-07-08T11:36:30.474Z"
   },
   {
    "duration": 210,
    "start_time": "2021-07-08T11:36:30.915Z"
   },
   {
    "duration": 15,
    "start_time": "2021-07-08T11:36:31.127Z"
   },
   {
    "duration": 17,
    "start_time": "2021-07-08T11:38:20.451Z"
   },
   {
    "duration": 642,
    "start_time": "2021-07-08T11:46:17.881Z"
   },
   {
    "duration": 210,
    "start_time": "2021-07-08T11:46:18.525Z"
   },
   {
    "duration": 104,
    "start_time": "2021-07-08T11:46:18.741Z"
   },
   {
    "duration": 8,
    "start_time": "2021-07-08T11:46:18.847Z"
   },
   {
    "duration": 25,
    "start_time": "2021-07-08T11:46:18.857Z"
   },
   {
    "duration": 14,
    "start_time": "2021-07-08T11:46:18.884Z"
   },
   {
    "duration": 22,
    "start_time": "2021-07-08T11:46:18.900Z"
   },
   {
    "duration": 5,
    "start_time": "2021-07-08T11:46:18.924Z"
   },
   {
    "duration": 13,
    "start_time": "2021-07-08T11:46:18.931Z"
   },
   {
    "duration": 45,
    "start_time": "2021-07-08T11:46:18.946Z"
   },
   {
    "duration": 12,
    "start_time": "2021-07-08T11:46:18.993Z"
   },
   {
    "duration": 38,
    "start_time": "2021-07-08T11:46:19.006Z"
   },
   {
    "duration": 50,
    "start_time": "2021-07-08T11:46:19.046Z"
   },
   {
    "duration": 29,
    "start_time": "2021-07-08T11:46:19.099Z"
   },
   {
    "duration": 7,
    "start_time": "2021-07-08T11:46:19.130Z"
   },
   {
    "duration": 3,
    "start_time": "2021-07-08T11:46:19.139Z"
   },
   {
    "duration": 11,
    "start_time": "2021-07-08T11:46:19.144Z"
   },
   {
    "duration": 40,
    "start_time": "2021-07-08T11:46:19.157Z"
   },
   {
    "duration": 15,
    "start_time": "2021-07-08T11:46:19.199Z"
   },
   {
    "duration": 10,
    "start_time": "2021-07-08T11:46:19.217Z"
   },
   {
    "duration": 68,
    "start_time": "2021-07-08T11:46:19.230Z"
   },
   {
    "duration": 17,
    "start_time": "2021-07-08T11:46:19.301Z"
   },
   {
    "duration": 7,
    "start_time": "2021-07-08T11:46:19.321Z"
   },
   {
    "duration": 11,
    "start_time": "2021-07-08T11:46:19.330Z"
   },
   {
    "duration": 59,
    "start_time": "2021-07-08T11:46:19.343Z"
   },
   {
    "duration": 17,
    "start_time": "2021-07-08T11:46:19.405Z"
   },
   {
    "duration": 16,
    "start_time": "2021-07-08T11:46:19.424Z"
   },
   {
    "duration": 252,
    "start_time": "2021-07-08T11:46:19.443Z"
   },
   {
    "duration": 9,
    "start_time": "2021-07-08T11:46:19.697Z"
   },
   {
    "duration": 224,
    "start_time": "2021-07-08T11:46:19.708Z"
   },
   {
    "duration": 21,
    "start_time": "2021-07-08T11:46:19.934Z"
   },
   {
    "duration": 9,
    "start_time": "2021-07-08T11:46:19.956Z"
   },
   {
    "duration": 32,
    "start_time": "2021-07-08T11:46:19.967Z"
   },
   {
    "duration": 288,
    "start_time": "2021-07-08T11:46:20.004Z"
   },
   {
    "duration": 23,
    "start_time": "2021-07-08T11:46:20.300Z"
   },
   {
    "duration": 11,
    "start_time": "2021-07-08T11:46:20.325Z"
   },
   {
    "duration": 11,
    "start_time": "2021-07-08T11:46:20.339Z"
   },
   {
    "duration": 259,
    "start_time": "2021-07-08T11:46:20.352Z"
   },
   {
    "duration": 438,
    "start_time": "2021-07-08T11:46:20.613Z"
   },
   {
    "duration": 207,
    "start_time": "2021-07-08T11:46:21.054Z"
   },
   {
    "duration": 27,
    "start_time": "2021-07-08T11:46:21.262Z"
   },
   {
    "duration": 19,
    "start_time": "2021-07-08T11:46:21.291Z"
   },
   {
    "duration": 820,
    "start_time": "2021-07-08T11:49:01.655Z"
   },
   {
    "duration": 372,
    "start_time": "2021-07-08T11:49:02.478Z"
   },
   {
    "duration": 98,
    "start_time": "2021-07-08T11:49:02.853Z"
   },
   {
    "duration": 6,
    "start_time": "2021-07-08T11:49:02.953Z"
   },
   {
    "duration": 39,
    "start_time": "2021-07-08T11:49:02.960Z"
   },
   {
    "duration": 9,
    "start_time": "2021-07-08T11:49:03.003Z"
   },
   {
    "duration": 23,
    "start_time": "2021-07-08T11:49:03.014Z"
   },
   {
    "duration": 6,
    "start_time": "2021-07-08T11:49:03.041Z"
   },
   {
    "duration": 20,
    "start_time": "2021-07-08T11:49:03.049Z"
   },
   {
    "duration": 18,
    "start_time": "2021-07-08T11:49:03.084Z"
   },
   {
    "duration": 14,
    "start_time": "2021-07-08T11:49:03.104Z"
   },
   {
    "duration": 39,
    "start_time": "2021-07-08T11:49:03.119Z"
   },
   {
    "duration": 38,
    "start_time": "2021-07-08T11:49:03.160Z"
   },
   {
    "duration": 26,
    "start_time": "2021-07-08T11:49:03.200Z"
   },
   {
    "duration": 7,
    "start_time": "2021-07-08T11:49:03.227Z"
   },
   {
    "duration": 4,
    "start_time": "2021-07-08T11:49:03.236Z"
   },
   {
    "duration": 15,
    "start_time": "2021-07-08T11:49:03.243Z"
   },
   {
    "duration": 21,
    "start_time": "2021-07-08T11:49:03.285Z"
   },
   {
    "duration": 17,
    "start_time": "2021-07-08T11:49:03.309Z"
   },
   {
    "duration": 10,
    "start_time": "2021-07-08T11:49:03.328Z"
   },
   {
    "duration": 65,
    "start_time": "2021-07-08T11:49:03.340Z"
   },
   {
    "duration": 18,
    "start_time": "2021-07-08T11:49:03.407Z"
   },
   {
    "duration": 8,
    "start_time": "2021-07-08T11:49:03.428Z"
   },
   {
    "duration": 15,
    "start_time": "2021-07-08T11:49:03.438Z"
   },
   {
    "duration": 40,
    "start_time": "2021-07-08T11:49:03.455Z"
   },
   {
    "duration": 12,
    "start_time": "2021-07-08T11:49:03.497Z"
   },
   {
    "duration": 29,
    "start_time": "2021-07-08T11:49:03.511Z"
   },
   {
    "duration": 285,
    "start_time": "2021-07-08T11:49:03.542Z"
   },
   {
    "duration": 8,
    "start_time": "2021-07-08T11:49:03.829Z"
   },
   {
    "duration": 227,
    "start_time": "2021-07-08T11:49:03.838Z"
   },
   {
    "duration": 40,
    "start_time": "2021-07-08T11:49:04.066Z"
   },
   {
    "duration": 10,
    "start_time": "2021-07-08T11:49:04.108Z"
   },
   {
    "duration": 26,
    "start_time": "2021-07-08T11:49:04.121Z"
   },
   {
    "duration": 290,
    "start_time": "2021-07-08T11:49:04.149Z"
   },
   {
    "duration": 26,
    "start_time": "2021-07-08T11:49:04.441Z"
   },
   {
    "duration": 31,
    "start_time": "2021-07-08T11:49:04.470Z"
   },
   {
    "duration": 14,
    "start_time": "2021-07-08T11:49:04.503Z"
   },
   {
    "duration": 259,
    "start_time": "2021-07-08T11:49:04.521Z"
   },
   {
    "duration": 480,
    "start_time": "2021-07-08T11:49:04.782Z"
   },
   {
    "duration": 225,
    "start_time": "2021-07-08T11:49:05.264Z"
   },
   {
    "duration": 22,
    "start_time": "2021-07-08T11:49:05.491Z"
   },
   {
    "duration": 24,
    "start_time": "2021-07-08T11:49:05.515Z"
   },
   {
    "duration": 634,
    "start_time": "2021-07-08T11:52:24.960Z"
   },
   {
    "duration": 199,
    "start_time": "2021-07-08T11:52:25.599Z"
   },
   {
    "duration": 106,
    "start_time": "2021-07-08T11:52:25.803Z"
   },
   {
    "duration": 7,
    "start_time": "2021-07-08T11:52:25.911Z"
   },
   {
    "duration": 29,
    "start_time": "2021-07-08T11:52:25.920Z"
   },
   {
    "duration": 7,
    "start_time": "2021-07-08T11:52:25.951Z"
   },
   {
    "duration": 26,
    "start_time": "2021-07-08T11:52:25.961Z"
   },
   {
    "duration": 11,
    "start_time": "2021-07-08T11:52:25.990Z"
   },
   {
    "duration": 29,
    "start_time": "2021-07-08T11:52:26.005Z"
   },
   {
    "duration": 9,
    "start_time": "2021-07-08T11:52:26.036Z"
   },
   {
    "duration": 8,
    "start_time": "2021-07-08T11:52:26.047Z"
   },
   {
    "duration": 63,
    "start_time": "2021-07-08T11:52:26.057Z"
   },
   {
    "duration": 17,
    "start_time": "2021-07-08T11:52:26.122Z"
   },
   {
    "duration": 43,
    "start_time": "2021-07-08T11:52:26.142Z"
   },
   {
    "duration": 17,
    "start_time": "2021-07-08T11:52:26.187Z"
   },
   {
    "duration": 5,
    "start_time": "2021-07-08T11:52:26.206Z"
   },
   {
    "duration": 12,
    "start_time": "2021-07-08T11:52:26.212Z"
   },
   {
    "duration": 11,
    "start_time": "2021-07-08T11:52:26.226Z"
   },
   {
    "duration": 12,
    "start_time": "2021-07-08T11:52:26.238Z"
   },
   {
    "duration": 38,
    "start_time": "2021-07-08T11:52:26.252Z"
   },
   {
    "duration": 40,
    "start_time": "2021-07-08T11:52:26.292Z"
   },
   {
    "duration": 17,
    "start_time": "2021-07-08T11:52:26.336Z"
   },
   {
    "duration": 39,
    "start_time": "2021-07-08T11:52:26.355Z"
   },
   {
    "duration": 11,
    "start_time": "2021-07-08T11:52:26.395Z"
   },
   {
    "duration": 23,
    "start_time": "2021-07-08T11:52:26.408Z"
   },
   {
    "duration": 12,
    "start_time": "2021-07-08T11:52:26.432Z"
   },
   {
    "duration": 41,
    "start_time": "2021-07-08T11:52:26.446Z"
   },
   {
    "duration": 215,
    "start_time": "2021-07-08T11:52:26.493Z"
   },
   {
    "duration": 8,
    "start_time": "2021-07-08T11:52:26.710Z"
   },
   {
    "duration": 228,
    "start_time": "2021-07-08T11:52:26.720Z"
   },
   {
    "duration": 18,
    "start_time": "2021-07-08T11:52:26.950Z"
   },
   {
    "duration": 35,
    "start_time": "2021-07-08T11:52:26.969Z"
   },
   {
    "duration": 23,
    "start_time": "2021-07-08T11:52:27.006Z"
   },
   {
    "duration": 258,
    "start_time": "2021-07-08T11:52:27.030Z"
   },
   {
    "duration": 24,
    "start_time": "2021-07-08T11:52:27.290Z"
   },
   {
    "duration": 12,
    "start_time": "2021-07-08T11:52:27.316Z"
   },
   {
    "duration": 10,
    "start_time": "2021-07-08T11:52:27.329Z"
   },
   {
    "duration": 298,
    "start_time": "2021-07-08T11:52:27.341Z"
   },
   {
    "duration": 436,
    "start_time": "2021-07-08T11:52:27.641Z"
   },
   {
    "duration": 216,
    "start_time": "2021-07-08T11:52:28.079Z"
   },
   {
    "duration": 20,
    "start_time": "2021-07-08T11:52:28.297Z"
   },
   {
    "duration": 17,
    "start_time": "2021-07-08T11:52:28.319Z"
   },
   {
    "duration": 723,
    "start_time": "2021-11-30T16:25:51.700Z"
   },
   {
    "duration": 199,
    "start_time": "2021-11-30T16:26:49.773Z"
   },
   {
    "duration": 201,
    "start_time": "2021-11-30T16:27:16.634Z"
   },
   {
    "duration": 153,
    "start_time": "2021-11-30T16:27:26.524Z"
   },
   {
    "duration": 1240,
    "start_time": "2021-11-30T16:29:42.532Z"
   },
   {
    "duration": 11,
    "start_time": "2021-11-30T16:31:35.539Z"
   },
   {
    "duration": 6,
    "start_time": "2021-11-30T16:31:41.407Z"
   },
   {
    "duration": 666,
    "start_time": "2021-11-30T16:37:09.855Z"
   },
   {
    "duration": 46,
    "start_time": "2021-11-30T16:37:27.974Z"
   },
   {
    "duration": 55,
    "start_time": "2021-11-30T16:37:44.718Z"
   },
   {
    "duration": 33,
    "start_time": "2021-11-30T16:38:53.733Z"
   },
   {
    "duration": 11,
    "start_time": "2021-11-30T16:39:39.311Z"
   },
   {
    "duration": 61,
    "start_time": "2021-11-30T16:42:29.982Z"
   },
   {
    "duration": 8,
    "start_time": "2021-11-30T16:44:06.148Z"
   },
   {
    "duration": 22,
    "start_time": "2021-11-30T16:45:17.547Z"
   },
   {
    "duration": 33,
    "start_time": "2021-11-30T16:53:04.856Z"
   },
   {
    "duration": 311,
    "start_time": "2021-11-30T16:53:22.437Z"
   },
   {
    "duration": 777,
    "start_time": "2021-11-30T16:53:35.358Z"
   },
   {
    "duration": 164,
    "start_time": "2021-11-30T16:53:36.138Z"
   },
   {
    "duration": 22,
    "start_time": "2021-11-30T16:53:36.304Z"
   },
   {
    "duration": 61,
    "start_time": "2021-11-30T16:53:36.574Z"
   },
   {
    "duration": 777,
    "start_time": "2021-11-30T22:25:26.593Z"
   },
   {
    "duration": 152,
    "start_time": "2021-11-30T22:25:27.372Z"
   },
   {
    "duration": 21,
    "start_time": "2021-11-30T22:25:28.009Z"
   },
   {
    "duration": 60,
    "start_time": "2021-11-30T22:25:28.489Z"
   },
   {
    "duration": 378,
    "start_time": "2021-11-30T22:28:49.154Z"
   },
   {
    "duration": 704,
    "start_time": "2021-11-30T22:29:02.872Z"
   },
   {
    "duration": 153,
    "start_time": "2021-11-30T22:29:03.578Z"
   },
   {
    "duration": 21,
    "start_time": "2021-11-30T22:29:03.734Z"
   },
   {
    "duration": 83,
    "start_time": "2021-11-30T22:29:03.757Z"
   },
   {
    "duration": 6,
    "start_time": "2021-12-01T00:13:51.613Z"
   },
   {
    "duration": 389,
    "start_time": "2021-12-01T00:14:50.480Z"
   },
   {
    "duration": 6,
    "start_time": "2021-12-01T00:15:30.019Z"
   },
   {
    "duration": 323,
    "start_time": "2021-12-01T00:26:23.083Z"
   },
   {
    "duration": 286,
    "start_time": "2021-12-01T00:26:27.528Z"
   },
   {
    "duration": 402,
    "start_time": "2021-12-01T00:26:58.278Z"
   },
   {
    "duration": 266,
    "start_time": "2021-12-01T00:28:38.934Z"
   },
   {
    "duration": 837,
    "start_time": "2021-12-01T06:14:30.635Z"
   },
   {
    "duration": 242,
    "start_time": "2021-12-01T06:14:31.505Z"
   },
   {
    "duration": 22,
    "start_time": "2021-12-01T06:14:31.892Z"
   },
   {
    "duration": 62,
    "start_time": "2021-12-01T06:14:33.577Z"
   },
   {
    "duration": 4,
    "start_time": "2021-12-01T06:14:42.922Z"
   },
   {
    "duration": 393,
    "start_time": "2021-12-01T06:15:30.185Z"
   },
   {
    "duration": 8812,
    "start_time": "2021-12-01T06:16:07.020Z"
   },
   {
    "duration": 519,
    "start_time": "2021-12-01T06:27:16.278Z"
   },
   {
    "duration": 402,
    "start_time": "2021-12-01T06:27:23.684Z"
   },
   {
    "duration": 371,
    "start_time": "2021-12-01T06:27:34.362Z"
   },
   {
    "duration": 382,
    "start_time": "2021-12-01T06:28:09.759Z"
   },
   {
    "duration": 11122,
    "start_time": "2021-12-01T06:32:03.792Z"
   },
   {
    "duration": 363,
    "start_time": "2021-12-01T06:32:27.782Z"
   },
   {
    "duration": 361,
    "start_time": "2021-12-01T06:32:50.732Z"
   },
   {
    "duration": 5292,
    "start_time": "2021-12-01T06:37:03.304Z"
   },
   {
    "duration": 639,
    "start_time": "2021-12-01T06:38:13.900Z"
   },
   {
    "duration": 184,
    "start_time": "2021-12-01T06:38:14.541Z"
   },
   {
    "duration": 13,
    "start_time": "2021-12-01T06:38:14.727Z"
   },
   {
    "duration": 65,
    "start_time": "2021-12-01T06:38:14.742Z"
   },
   {
    "duration": 4,
    "start_time": "2021-12-01T06:38:14.809Z"
   },
   {
    "duration": 5057,
    "start_time": "2021-12-01T06:38:14.815Z"
   },
   {
    "duration": 10,
    "start_time": "2021-12-01T06:38:44.255Z"
   },
   {
    "duration": 15,
    "start_time": "2021-12-01T06:39:11.284Z"
   },
   {
    "duration": 4,
    "start_time": "2021-12-01T06:40:37.539Z"
   },
   {
    "duration": 4147,
    "start_time": "2021-12-01T06:45:47.918Z"
   },
   {
    "duration": 2675,
    "start_time": "2021-12-01T06:58:20.163Z"
   },
   {
    "duration": 3314,
    "start_time": "2021-12-01T07:00:20.592Z"
   },
   {
    "duration": 3940,
    "start_time": "2021-12-01T07:01:13.978Z"
   },
   {
    "duration": 14,
    "start_time": "2021-12-01T07:01:50.612Z"
   },
   {
    "duration": 312,
    "start_time": "2021-12-01T07:02:29.052Z"
   },
   {
    "duration": 618,
    "start_time": "2021-12-01T07:02:40.906Z"
   },
   {
    "duration": 197,
    "start_time": "2021-12-01T07:02:42.855Z"
   },
   {
    "duration": 14,
    "start_time": "2021-12-01T07:02:43.225Z"
   },
   {
    "duration": 37,
    "start_time": "2021-12-01T07:02:43.912Z"
   },
   {
    "duration": 4,
    "start_time": "2021-12-01T07:02:46.285Z"
   },
   {
    "duration": 4919,
    "start_time": "2021-12-01T07:02:46.901Z"
   },
   {
    "duration": 4199,
    "start_time": "2021-12-01T07:02:51.822Z"
   },
   {
    "duration": 411,
    "start_time": "2021-12-01T07:11:42.048Z"
   },
   {
    "duration": 19,
    "start_time": "2021-12-01T07:15:34.123Z"
   },
   {
    "duration": 5,
    "start_time": "2021-12-01T07:18:37.928Z"
   },
   {
    "duration": 4,
    "start_time": "2021-12-01T07:28:21.709Z"
   },
   {
    "duration": 322,
    "start_time": "2021-12-01T07:30:37.613Z"
   },
   {
    "duration": 8559,
    "start_time": "2021-12-01T07:30:49.282Z"
   },
   {
    "duration": 334,
    "start_time": "2021-12-01T07:40:24.944Z"
   },
   {
    "duration": 385,
    "start_time": "2021-12-01T07:40:38.148Z"
   },
   {
    "duration": 412,
    "start_time": "2021-12-01T07:47:09.237Z"
   },
   {
    "duration": 16,
    "start_time": "2021-12-01T07:47:27.145Z"
   },
   {
    "duration": 79,
    "start_time": "2021-12-01T07:53:43.644Z"
   },
   {
    "duration": 81,
    "start_time": "2021-12-01T07:54:20.986Z"
   },
   {
    "duration": 80,
    "start_time": "2021-12-01T07:54:47.916Z"
   },
   {
    "duration": 84,
    "start_time": "2021-12-01T07:55:54.941Z"
   },
   {
    "duration": 85,
    "start_time": "2021-12-01T07:56:47.195Z"
   },
   {
    "duration": 773,
    "start_time": "2021-12-01T22:35:54.871Z"
   },
   {
    "duration": 201,
    "start_time": "2021-12-01T22:35:55.647Z"
   },
   {
    "duration": 23,
    "start_time": "2021-12-01T22:35:55.851Z"
   },
   {
    "duration": 61,
    "start_time": "2021-12-01T22:35:55.955Z"
   },
   {
    "duration": 6,
    "start_time": "2021-12-01T22:35:57.081Z"
   },
   {
    "duration": 8305,
    "start_time": "2021-12-01T22:35:57.316Z"
   },
   {
    "duration": 7377,
    "start_time": "2021-12-01T22:36:05.624Z"
   },
   {
    "duration": 24,
    "start_time": "2021-12-01T22:36:13.004Z"
   },
   {
    "duration": 6,
    "start_time": "2021-12-01T22:36:13.031Z"
   },
   {
    "duration": 21,
    "start_time": "2021-12-01T22:45:09.476Z"
   },
   {
    "duration": 72,
    "start_time": "2021-12-01T22:45:29.286Z"
   },
   {
    "duration": 136,
    "start_time": "2021-12-01T22:46:31.407Z"
   },
   {
    "duration": 1086,
    "start_time": "2021-12-01T23:44:59.454Z"
   },
   {
    "duration": 248,
    "start_time": "2021-12-01T23:45:00.544Z"
   },
   {
    "duration": 32,
    "start_time": "2021-12-01T23:45:00.796Z"
   },
   {
    "duration": 121,
    "start_time": "2021-12-01T23:45:00.831Z"
   },
   {
    "duration": 5,
    "start_time": "2021-12-01T23:45:02.240Z"
   },
   {
    "duration": 8220,
    "start_time": "2021-12-01T23:45:02.517Z"
   },
   {
    "duration": 7384,
    "start_time": "2021-12-01T23:45:10.740Z"
   },
   {
    "duration": 40,
    "start_time": "2021-12-01T23:45:18.127Z"
   },
   {
    "duration": 6,
    "start_time": "2021-12-01T23:45:18.170Z"
   },
   {
    "duration": 150,
    "start_time": "2021-12-01T23:45:18.178Z"
   },
   {
    "duration": 98,
    "start_time": "2021-12-01T23:45:18.330Z"
   },
   {
    "duration": 28,
    "start_time": "2021-12-02T02:06:15.599Z"
   },
   {
    "duration": 690,
    "start_time": "2021-12-02T08:37:40.271Z"
   },
   {
    "duration": 199,
    "start_time": "2021-12-02T08:37:40.986Z"
   },
   {
    "duration": 14,
    "start_time": "2021-12-02T08:37:41.370Z"
   },
   {
    "duration": 42,
    "start_time": "2021-12-02T08:37:42.208Z"
   },
   {
    "duration": 5,
    "start_time": "2021-12-02T08:37:43.832Z"
   },
   {
    "duration": 4896,
    "start_time": "2021-12-02T08:37:44.369Z"
   },
   {
    "duration": 4228,
    "start_time": "2021-12-02T08:37:49.267Z"
   },
   {
    "duration": 22,
    "start_time": "2021-12-02T08:37:53.498Z"
   },
   {
    "duration": 5,
    "start_time": "2021-12-02T08:37:53.522Z"
   },
   {
    "duration": 9,
    "start_time": "2021-12-02T09:58:10.882Z"
   },
   {
    "duration": 672,
    "start_time": "2021-12-02T09:59:33.811Z"
   },
   {
    "duration": 188,
    "start_time": "2021-12-02T09:59:34.610Z"
   },
   {
    "duration": 14,
    "start_time": "2021-12-02T09:59:34.970Z"
   },
   {
    "duration": 41,
    "start_time": "2021-12-02T09:59:35.358Z"
   },
   {
    "duration": 4,
    "start_time": "2021-12-02T09:59:36.837Z"
   },
   {
    "duration": 5446,
    "start_time": "2021-12-02T09:59:37.252Z"
   },
   {
    "duration": 5137,
    "start_time": "2021-12-02T09:59:42.707Z"
   },
   {
    "duration": 18,
    "start_time": "2021-12-02T09:59:47.846Z"
   },
   {
    "duration": 110,
    "start_time": "2021-12-02T09:59:47.866Z"
   },
   {
    "duration": 62,
    "start_time": "2021-12-02T09:59:47.979Z"
   },
   {
    "duration": 23,
    "start_time": "2021-12-02T09:59:58.699Z"
   },
   {
    "duration": 11,
    "start_time": "2021-12-02T10:00:02.055Z"
   },
   {
    "duration": 4,
    "start_time": "2021-12-02T10:06:14.633Z"
   },
   {
    "duration": 7,
    "start_time": "2021-12-02T10:07:20.911Z"
   },
   {
    "duration": 444,
    "start_time": "2021-12-02T10:08:15.022Z"
   },
   {
    "duration": 5,
    "start_time": "2021-12-02T10:09:56.858Z"
   },
   {
    "duration": 10,
    "start_time": "2021-12-02T10:10:12.514Z"
   },
   {
    "duration": 401,
    "start_time": "2021-12-02T10:11:11.706Z"
   },
   {
    "duration": 416,
    "start_time": "2021-12-02T10:11:16.959Z"
   },
   {
    "duration": 459,
    "start_time": "2021-12-02T10:11:27.365Z"
   },
   {
    "duration": 39,
    "start_time": "2021-12-02T10:11:50.422Z"
   },
   {
    "duration": 416,
    "start_time": "2021-12-02T10:12:04.531Z"
   },
   {
    "duration": 372,
    "start_time": "2021-12-02T10:12:54.486Z"
   },
   {
    "duration": 366,
    "start_time": "2021-12-02T10:15:48.284Z"
   },
   {
    "duration": 352,
    "start_time": "2021-12-02T10:15:52.899Z"
   },
   {
    "duration": 51771,
    "start_time": "2021-12-02T10:15:58.584Z"
   },
   {
    "duration": 10,
    "start_time": "2021-12-02T10:17:48.349Z"
   },
   {
    "duration": 15,
    "start_time": "2021-12-02T10:18:03.457Z"
   },
   {
    "duration": 21,
    "start_time": "2021-12-02T10:18:15.211Z"
   },
   {
    "duration": 366,
    "start_time": "2021-12-02T10:19:06.154Z"
   },
   {
    "duration": 482,
    "start_time": "2021-12-02T10:20:42.666Z"
   },
   {
    "duration": 128,
    "start_time": "2021-12-02T10:23:50.058Z"
   },
   {
    "duration": 6154,
    "start_time": "2021-12-02T10:23:53.697Z"
   },
   {
    "duration": 6391,
    "start_time": "2021-12-02T10:24:17.130Z"
   },
   {
    "duration": 643,
    "start_time": "2021-12-02T10:26:30.440Z"
   },
   {
    "duration": 166,
    "start_time": "2021-12-02T10:26:31.086Z"
   },
   {
    "duration": 13,
    "start_time": "2021-12-02T10:26:31.254Z"
   },
   {
    "duration": 64,
    "start_time": "2021-12-02T10:26:31.269Z"
   },
   {
    "duration": 3,
    "start_time": "2021-12-02T10:26:31.335Z"
   },
   {
    "duration": 5512,
    "start_time": "2021-12-02T10:26:31.340Z"
   },
   {
    "duration": 4509,
    "start_time": "2021-12-02T10:26:36.854Z"
   },
   {
    "duration": 19,
    "start_time": "2021-12-02T10:26:41.365Z"
   },
   {
    "duration": 122,
    "start_time": "2021-12-02T10:26:41.386Z"
   },
   {
    "duration": 51,
    "start_time": "2021-12-02T10:26:41.512Z"
   },
   {
    "duration": 19,
    "start_time": "2021-12-02T10:26:41.565Z"
   },
   {
    "duration": 20,
    "start_time": "2021-12-02T10:26:41.608Z"
   },
   {
    "duration": 4,
    "start_time": "2021-12-02T10:26:41.630Z"
   },
   {
    "duration": 426,
    "start_time": "2021-12-02T10:26:41.636Z"
   },
   {
    "duration": 436,
    "start_time": "2021-12-02T10:26:58.312Z"
   },
   {
    "duration": 14071,
    "start_time": "2021-12-02T10:27:44.214Z"
   },
   {
    "duration": 3,
    "start_time": "2021-12-02T23:57:49.629Z"
   },
   {
    "duration": 547,
    "start_time": "2021-12-02T23:57:50.172Z"
   },
   {
    "duration": 14,
    "start_time": "2021-12-02T23:57:50.721Z"
   },
   {
    "duration": 44,
    "start_time": "2021-12-02T23:57:50.737Z"
   },
   {
    "duration": 4,
    "start_time": "2021-12-02T23:57:50.782Z"
   },
   {
    "duration": 5193,
    "start_time": "2021-12-02T23:57:50.807Z"
   },
   {
    "duration": 4596,
    "start_time": "2021-12-02T23:57:56.001Z"
   },
   {
    "duration": 28,
    "start_time": "2021-12-02T23:58:00.599Z"
   },
   {
    "duration": 106,
    "start_time": "2021-12-02T23:58:00.629Z"
   },
   {
    "duration": 44,
    "start_time": "2021-12-02T23:58:00.736Z"
   },
   {
    "duration": 36,
    "start_time": "2021-12-02T23:58:00.781Z"
   },
   {
    "duration": 19,
    "start_time": "2021-12-02T23:58:00.818Z"
   },
   {
    "duration": 6,
    "start_time": "2021-12-02T23:58:00.839Z"
   },
   {
    "duration": 12820,
    "start_time": "2021-12-02T23:58:00.847Z"
   },
   {
    "duration": 4,
    "start_time": "2021-12-03T00:10:16.512Z"
   },
   {
    "duration": 162,
    "start_time": "2021-12-03T00:10:17.061Z"
   },
   {
    "duration": 13,
    "start_time": "2021-12-03T00:10:17.225Z"
   },
   {
    "duration": 40,
    "start_time": "2021-12-03T00:10:17.240Z"
   },
   {
    "duration": 4,
    "start_time": "2021-12-03T00:10:17.282Z"
   },
   {
    "duration": 5206,
    "start_time": "2021-12-03T00:10:17.291Z"
   },
   {
    "duration": 4340,
    "start_time": "2021-12-03T00:10:22.499Z"
   },
   {
    "duration": 18,
    "start_time": "2021-12-03T00:10:26.841Z"
   },
   {
    "duration": 114,
    "start_time": "2021-12-03T00:10:26.861Z"
   },
   {
    "duration": 60,
    "start_time": "2021-12-03T00:10:26.977Z"
   },
   {
    "duration": 18,
    "start_time": "2021-12-03T00:10:27.038Z"
   },
   {
    "duration": 11,
    "start_time": "2021-12-03T00:10:27.058Z"
   },
   {
    "duration": 4,
    "start_time": "2021-12-03T00:10:27.071Z"
   },
   {
    "duration": 13215,
    "start_time": "2021-12-03T00:10:27.077Z"
   },
   {
    "duration": 688,
    "start_time": "2021-12-03T00:10:56.599Z"
   },
   {
    "duration": 167,
    "start_time": "2021-12-03T00:10:57.289Z"
   },
   {
    "duration": 16,
    "start_time": "2021-12-03T00:10:57.458Z"
   },
   {
    "duration": 61,
    "start_time": "2021-12-03T00:10:57.477Z"
   },
   {
    "duration": 3,
    "start_time": "2021-12-03T00:10:57.540Z"
   },
   {
    "duration": 5420,
    "start_time": "2021-12-03T00:10:57.545Z"
   },
   {
    "duration": 4252,
    "start_time": "2021-12-03T00:11:02.966Z"
   },
   {
    "duration": 25,
    "start_time": "2021-12-03T00:11:07.221Z"
   },
   {
    "duration": 114,
    "start_time": "2021-12-03T00:11:07.248Z"
   },
   {
    "duration": 67,
    "start_time": "2021-12-03T00:11:07.365Z"
   },
   {
    "duration": 20,
    "start_time": "2021-12-03T00:11:07.434Z"
   },
   {
    "duration": 21,
    "start_time": "2021-12-03T00:11:07.456Z"
   },
   {
    "duration": 4,
    "start_time": "2021-12-03T00:11:07.479Z"
   },
   {
    "duration": 12725,
    "start_time": "2021-12-03T00:11:07.484Z"
   },
   {
    "duration": 9139,
    "start_time": "2021-12-03T00:15:18.601Z"
   },
   {
    "duration": 9741,
    "start_time": "2021-12-03T00:15:37.122Z"
   },
   {
    "duration": 9,
    "start_time": "2021-12-03T00:15:59.250Z"
   },
   {
    "duration": 24,
    "start_time": "2021-12-03T00:16:00.100Z"
   },
   {
    "duration": 5,
    "start_time": "2021-12-03T00:23:52.174Z"
   },
   {
    "duration": 21,
    "start_time": "2021-12-03T00:24:17.135Z"
   },
   {
    "duration": 6,
    "start_time": "2021-12-03T00:24:41.671Z"
   },
   {
    "duration": 6,
    "start_time": "2021-12-03T00:25:11.071Z"
   },
   {
    "duration": 6,
    "start_time": "2021-12-03T01:25:43.191Z"
   },
   {
    "duration": 5,
    "start_time": "2021-12-03T01:27:00.605Z"
   },
   {
    "duration": 366,
    "start_time": "2021-12-03T01:27:16.684Z"
   },
   {
    "duration": 377,
    "start_time": "2021-12-03T01:31:23.225Z"
   },
   {
    "duration": 382,
    "start_time": "2021-12-03T01:31:30.455Z"
   },
   {
    "duration": 14,
    "start_time": "2021-12-03T01:32:02.761Z"
   },
   {
    "duration": 14,
    "start_time": "2021-12-03T01:32:49.349Z"
   },
   {
    "duration": 14,
    "start_time": "2021-12-03T01:32:52.362Z"
   },
   {
    "duration": 636,
    "start_time": "2021-12-03T01:34:18.967Z"
   },
   {
    "duration": 147,
    "start_time": "2021-12-03T01:34:19.779Z"
   },
   {
    "duration": 22,
    "start_time": "2021-12-03T01:34:20.210Z"
   },
   {
    "duration": 38,
    "start_time": "2021-12-03T01:34:22.060Z"
   },
   {
    "duration": 8,
    "start_time": "2021-12-03T01:34:27.727Z"
   },
   {
    "duration": 5654,
    "start_time": "2021-12-03T01:34:28.552Z"
   },
   {
    "duration": -1454,
    "start_time": "2021-12-03T01:34:35.664Z"
   },
   {
    "duration": 5638,
    "start_time": "2021-12-03T01:34:45.643Z"
   },
   {
    "duration": 5201,
    "start_time": "2021-12-03T01:37:48.216Z"
   },
   {
    "duration": 4288,
    "start_time": "2021-12-03T01:37:53.419Z"
   },
   {
    "duration": 23,
    "start_time": "2021-12-03T01:37:57.712Z"
   },
   {
    "duration": 116,
    "start_time": "2021-12-03T01:37:57.737Z"
   },
   {
    "duration": 40,
    "start_time": "2021-12-03T01:37:57.855Z"
   },
   {
    "duration": 34,
    "start_time": "2021-12-03T01:37:57.897Z"
   },
   {
    "duration": 11,
    "start_time": "2021-12-03T01:37:57.932Z"
   },
   {
    "duration": 4,
    "start_time": "2021-12-03T01:37:57.945Z"
   },
   {
    "duration": 12288,
    "start_time": "2021-12-03T01:37:57.950Z"
   },
   {
    "duration": 8,
    "start_time": "2021-12-03T01:38:10.240Z"
   },
   {
    "duration": 16,
    "start_time": "2021-12-03T01:38:10.249Z"
   },
   {
    "duration": 6,
    "start_time": "2021-12-03T01:38:10.267Z"
   },
   {
    "duration": 31,
    "start_time": "2021-12-03T01:38:10.275Z"
   },
   {
    "duration": 18,
    "start_time": "2021-12-03T01:41:22.663Z"
   },
   {
    "duration": 370,
    "start_time": "2021-12-03T02:31:51.752Z"
   },
   {
    "duration": 14,
    "start_time": "2021-12-03T02:31:56.969Z"
   },
   {
    "duration": 374,
    "start_time": "2021-12-03T02:32:19.494Z"
   },
   {
    "duration": 16,
    "start_time": "2021-12-03T02:32:32.241Z"
   },
   {
    "duration": 9,
    "start_time": "2021-12-03T02:37:05.972Z"
   },
   {
    "duration": 379,
    "start_time": "2021-12-03T02:37:22.730Z"
   },
   {
    "duration": 397,
    "start_time": "2021-12-03T02:37:54.658Z"
   },
   {
    "duration": 9688,
    "start_time": "2021-12-03T02:43:20.487Z"
   },
   {
    "duration": 14,
    "start_time": "2021-12-03T05:43:39.552Z"
   },
   {
    "duration": 14,
    "start_time": "2021-12-03T06:14:24.569Z"
   },
   {
    "duration": -868,
    "start_time": "2021-12-03T06:16:10.472Z"
   },
   {
    "duration": 924,
    "start_time": "2021-12-03T06:16:46.134Z"
   },
   {
    "duration": 150,
    "start_time": "2021-12-03T06:16:47.060Z"
   },
   {
    "duration": 13,
    "start_time": "2021-12-03T06:16:47.212Z"
   },
   {
    "duration": 38,
    "start_time": "2021-12-03T06:16:47.227Z"
   },
   {
    "duration": 4,
    "start_time": "2021-12-03T06:16:47.267Z"
   },
   {
    "duration": 4774,
    "start_time": "2021-12-03T06:16:47.272Z"
   },
   {
    "duration": 4052,
    "start_time": "2021-12-03T06:16:52.048Z"
   },
   {
    "duration": 18,
    "start_time": "2021-12-03T06:16:56.107Z"
   },
   {
    "duration": 139,
    "start_time": "2021-12-03T06:16:56.127Z"
   },
   {
    "duration": 62,
    "start_time": "2021-12-03T06:16:56.268Z"
   },
   {
    "duration": 18,
    "start_time": "2021-12-03T06:16:56.332Z"
   },
   {
    "duration": 12,
    "start_time": "2021-12-03T06:16:56.351Z"
   },
   {
    "duration": 4,
    "start_time": "2021-12-03T06:16:56.364Z"
   },
   {
    "duration": 11732,
    "start_time": "2021-12-03T06:16:56.370Z"
   },
   {
    "duration": 10,
    "start_time": "2021-12-03T06:17:08.103Z"
   },
   {
    "duration": 17,
    "start_time": "2021-12-03T06:17:08.115Z"
   },
   {
    "duration": 7,
    "start_time": "2021-12-03T06:17:08.134Z"
   },
   {
    "duration": 8342,
    "start_time": "2021-12-03T06:17:08.143Z"
   },
   {
    "duration": 16,
    "start_time": "2021-12-03T06:17:44.566Z"
   },
   {
    "duration": 592,
    "start_time": "2021-12-03T09:58:38.938Z"
   },
   {
    "duration": 178,
    "start_time": "2021-12-03T09:58:39.532Z"
   },
   {
    "duration": 14,
    "start_time": "2021-12-03T09:58:39.736Z"
   },
   {
    "duration": 39,
    "start_time": "2021-12-03T09:58:39.895Z"
   },
   {
    "duration": 4,
    "start_time": "2021-12-03T09:58:40.731Z"
   },
   {
    "duration": 4898,
    "start_time": "2021-12-03T09:58:40.956Z"
   },
   {
    "duration": 4265,
    "start_time": "2021-12-03T09:58:45.856Z"
   },
   {
    "duration": 19,
    "start_time": "2021-12-03T09:58:50.123Z"
   },
   {
    "duration": 112,
    "start_time": "2021-12-03T09:58:50.144Z"
   },
   {
    "duration": 63,
    "start_time": "2021-12-03T09:58:50.258Z"
   },
   {
    "duration": 19,
    "start_time": "2021-12-03T09:58:50.324Z"
   },
   {
    "duration": 18,
    "start_time": "2021-12-03T09:58:50.345Z"
   },
   {
    "duration": 4,
    "start_time": "2021-12-03T09:58:50.366Z"
   },
   {
    "duration": 11946,
    "start_time": "2021-12-03T09:58:50.372Z"
   },
   {
    "duration": 21,
    "start_time": "2021-12-03T09:59:02.320Z"
   },
   {
    "duration": 18,
    "start_time": "2021-12-03T09:59:02.343Z"
   },
   {
    "duration": 9,
    "start_time": "2021-12-03T09:59:02.363Z"
   },
   {
    "duration": 119,
    "start_time": "2021-12-03T09:59:17.359Z"
   },
   {
    "duration": 18,
    "start_time": "2021-12-03T09:59:50.474Z"
   },
   {
    "duration": 41,
    "start_time": "2021-12-03T10:03:00.620Z"
   },
   {
    "duration": 7,
    "start_time": "2021-12-03T10:03:52.398Z"
   },
   {
    "duration": 6,
    "start_time": "2021-12-03T10:03:59.801Z"
   },
   {
    "duration": 7,
    "start_time": "2021-12-03T10:04:16.381Z"
   },
   {
    "duration": 13,
    "start_time": "2021-12-03T10:05:51.208Z"
   },
   {
    "duration": 391,
    "start_time": "2021-12-03T10:07:12.293Z"
   },
   {
    "duration": 330,
    "start_time": "2021-12-03T10:07:21.042Z"
   },
   {
    "duration": 339,
    "start_time": "2021-12-03T10:08:02.377Z"
   },
   {
    "duration": 635,
    "start_time": "2021-12-03T22:21:28.536Z"
   },
   {
    "duration": 153,
    "start_time": "2021-12-03T22:21:29.287Z"
   },
   {
    "duration": 21,
    "start_time": "2021-12-03T22:21:29.635Z"
   },
   {
    "duration": 45,
    "start_time": "2021-12-03T22:21:30.154Z"
   },
   {
    "duration": 4,
    "start_time": "2021-12-03T22:21:30.292Z"
   },
   {
    "duration": 4824,
    "start_time": "2021-12-03T22:21:30.330Z"
   },
   {
    "duration": 4079,
    "start_time": "2021-12-03T22:21:35.156Z"
   },
   {
    "duration": 29,
    "start_time": "2021-12-03T22:21:39.237Z"
   },
   {
    "duration": 103,
    "start_time": "2021-12-03T22:21:39.269Z"
   },
   {
    "duration": 47,
    "start_time": "2021-12-03T22:21:39.374Z"
   },
   {
    "duration": 42,
    "start_time": "2021-12-03T22:21:39.423Z"
   },
   {
    "duration": 11,
    "start_time": "2021-12-03T22:21:39.467Z"
   },
   {
    "duration": 5,
    "start_time": "2021-12-03T22:21:39.481Z"
   },
   {
    "duration": 11520,
    "start_time": "2021-12-03T22:21:39.488Z"
   },
   {
    "duration": 10,
    "start_time": "2021-12-03T22:21:51.010Z"
   },
   {
    "duration": 18,
    "start_time": "2021-12-03T22:21:51.022Z"
   },
   {
    "duration": 774,
    "start_time": "2021-12-04T02:12:09.049Z"
   },
   {
    "duration": 191,
    "start_time": "2021-12-04T02:12:09.826Z"
   },
   {
    "duration": 20,
    "start_time": "2021-12-04T02:12:10.020Z"
   },
   {
    "duration": 82,
    "start_time": "2021-12-04T02:12:10.043Z"
   },
   {
    "duration": 6,
    "start_time": "2021-12-04T02:12:10.127Z"
   },
   {
    "duration": 7907,
    "start_time": "2021-12-04T02:12:10.135Z"
   },
   {
    "duration": 7041,
    "start_time": "2021-12-04T02:12:18.044Z"
   },
   {
    "duration": 26,
    "start_time": "2021-12-04T02:12:25.089Z"
   },
   {
    "duration": 168,
    "start_time": "2021-12-04T02:12:25.117Z"
   },
   {
    "duration": 67,
    "start_time": "2021-12-04T02:12:25.287Z"
   },
   {
    "duration": 26,
    "start_time": "2021-12-04T02:12:25.383Z"
   },
   {
    "duration": 26,
    "start_time": "2021-12-04T02:12:25.411Z"
   },
   {
    "duration": 10,
    "start_time": "2021-12-04T02:12:25.439Z"
   },
   {
    "duration": 16982,
    "start_time": "2021-12-04T02:12:25.451Z"
   },
   {
    "duration": 12,
    "start_time": "2021-12-04T02:12:42.435Z"
   },
   {
    "duration": 39,
    "start_time": "2021-12-04T02:12:42.449Z"
   },
   {
    "duration": 396,
    "start_time": "2021-12-04T02:12:42.491Z"
   },
   {
    "duration": 19,
    "start_time": "2021-12-04T02:12:48.592Z"
   },
   {
    "duration": 25,
    "start_time": "2021-12-04T02:13:21.384Z"
   },
   {
    "duration": 326,
    "start_time": "2021-12-04T02:13:45.994Z"
   },
   {
    "duration": 54,
    "start_time": "2021-12-04T02:16:23.874Z"
   },
   {
    "duration": 96,
    "start_time": "2021-12-04T02:16:28.633Z"
   },
   {
    "duration": 295,
    "start_time": "2021-12-04T02:16:34.457Z"
   },
   {
    "duration": 25,
    "start_time": "2021-12-04T02:16:40.589Z"
   },
   {
    "duration": 1142,
    "start_time": "2021-12-04T02:17:13.500Z"
   },
   {
    "duration": 751,
    "start_time": "2021-12-04T02:17:29.177Z"
   },
   {
    "duration": 174,
    "start_time": "2021-12-04T02:17:29.930Z"
   },
   {
    "duration": 20,
    "start_time": "2021-12-04T02:17:30.107Z"
   },
   {
    "duration": 90,
    "start_time": "2021-12-04T02:17:30.130Z"
   },
   {
    "duration": 6,
    "start_time": "2021-12-04T02:17:30.222Z"
   },
   {
    "duration": 7938,
    "start_time": "2021-12-04T02:17:30.230Z"
   },
   {
    "duration": 7098,
    "start_time": "2021-12-04T02:17:38.170Z"
   },
   {
    "duration": 33,
    "start_time": "2021-12-04T02:17:45.272Z"
   },
   {
    "duration": 140,
    "start_time": "2021-12-04T02:17:45.307Z"
   },
   {
    "duration": 91,
    "start_time": "2021-12-04T02:17:45.449Z"
   },
   {
    "duration": 43,
    "start_time": "2021-12-04T02:17:45.542Z"
   },
   {
    "duration": 15,
    "start_time": "2021-12-04T02:17:45.588Z"
   },
   {
    "duration": 5,
    "start_time": "2021-12-04T02:17:45.605Z"
   },
   {
    "duration": 17100,
    "start_time": "2021-12-04T02:17:45.613Z"
   },
   {
    "duration": 7,
    "start_time": "2021-12-04T02:18:02.715Z"
   },
   {
    "duration": 29,
    "start_time": "2021-12-04T02:18:02.724Z"
   },
   {
    "duration": 109,
    "start_time": "2021-12-04T02:18:02.756Z"
   },
   {
    "duration": 44,
    "start_time": "2021-12-04T02:18:02.867Z"
   },
   {
    "duration": 1252,
    "start_time": "2021-12-04T02:18:02.914Z"
   },
   {
    "duration": 862,
    "start_time": "2021-12-04T02:19:42.790Z"
   },
   {
    "duration": 168,
    "start_time": "2021-12-04T02:19:43.655Z"
   },
   {
    "duration": 22,
    "start_time": "2021-12-04T02:19:43.827Z"
   },
   {
    "duration": 85,
    "start_time": "2021-12-04T02:19:43.852Z"
   },
   {
    "duration": 6,
    "start_time": "2021-12-04T02:19:43.940Z"
   },
   {
    "duration": 8069,
    "start_time": "2021-12-04T02:19:43.950Z"
   },
   {
    "duration": 6989,
    "start_time": "2021-12-04T02:19:52.022Z"
   },
   {
    "duration": 25,
    "start_time": "2021-12-04T02:19:59.015Z"
   },
   {
    "duration": 156,
    "start_time": "2021-12-04T02:19:59.043Z"
   },
   {
    "duration": 88,
    "start_time": "2021-12-04T02:19:59.202Z"
   },
   {
    "duration": 27,
    "start_time": "2021-12-04T02:19:59.293Z"
   },
   {
    "duration": 23,
    "start_time": "2021-12-04T02:19:59.322Z"
   },
   {
    "duration": 5,
    "start_time": "2021-12-04T02:19:59.348Z"
   },
   {
    "duration": 16842,
    "start_time": "2021-12-04T02:19:59.382Z"
   },
   {
    "duration": 11,
    "start_time": "2021-12-04T02:20:16.226Z"
   },
   {
    "duration": 26,
    "start_time": "2021-12-04T02:20:16.240Z"
   },
   {
    "duration": 46,
    "start_time": "2021-12-04T02:20:16.281Z"
   },
   {
    "duration": 22,
    "start_time": "2021-12-04T02:20:16.330Z"
   },
   {
    "duration": 18,
    "start_time": "2021-12-04T02:20:16.382Z"
   },
   {
    "duration": 16,
    "start_time": "2021-12-04T02:20:32.925Z"
   },
   {
    "duration": 12,
    "start_time": "2021-12-04T02:24:24.748Z"
   },
   {
    "duration": 14,
    "start_time": "2021-12-04T02:25:14.277Z"
   },
   {
    "duration": 15,
    "start_time": "2021-12-04T02:26:23.941Z"
   },
   {
    "duration": 21,
    "start_time": "2021-12-04T02:26:43.534Z"
   },
   {
    "duration": 27,
    "start_time": "2021-12-04T02:29:01.580Z"
   },
   {
    "duration": 33,
    "start_time": "2021-12-04T02:29:25.496Z"
   },
   {
    "duration": 35,
    "start_time": "2021-12-04T02:29:34.193Z"
   },
   {
    "duration": 8,
    "start_time": "2021-12-04T02:31:12.621Z"
   },
   {
    "duration": 11,
    "start_time": "2021-12-04T02:31:25.720Z"
   },
   {
    "duration": 452,
    "start_time": "2021-12-04T02:31:35.144Z"
   },
   {
    "duration": 293,
    "start_time": "2021-12-04T02:31:42.044Z"
   },
   {
    "duration": 125,
    "start_time": "2021-12-04T02:33:21.793Z"
   },
   {
    "duration": 300,
    "start_time": "2021-12-04T02:33:36.784Z"
   },
   {
    "duration": 308,
    "start_time": "2021-12-04T02:33:59.336Z"
   },
   {
    "duration": 16,
    "start_time": "2021-12-04T02:37:15.362Z"
   },
   {
    "duration": 18,
    "start_time": "2021-12-04T02:37:53.159Z"
   },
   {
    "duration": 17,
    "start_time": "2021-12-04T02:38:06.919Z"
   },
   {
    "duration": 17,
    "start_time": "2021-12-04T02:38:16.518Z"
   },
   {
    "duration": 19,
    "start_time": "2021-12-04T02:38:48.104Z"
   },
   {
    "duration": 21,
    "start_time": "2021-12-04T02:40:02.018Z"
   },
   {
    "duration": 19,
    "start_time": "2021-12-04T02:40:19.891Z"
   },
   {
    "duration": 18,
    "start_time": "2021-12-04T02:40:50.017Z"
   },
   {
    "duration": 22,
    "start_time": "2021-12-04T02:41:02.992Z"
   },
   {
    "duration": 297,
    "start_time": "2021-12-04T02:42:31.249Z"
   },
   {
    "duration": 30,
    "start_time": "2021-12-04T02:42:45.848Z"
   },
   {
    "duration": 33,
    "start_time": "2021-12-04T02:43:04.733Z"
   },
   {
    "duration": 34,
    "start_time": "2021-12-04T02:43:17.560Z"
   },
   {
    "duration": 319,
    "start_time": "2021-12-04T02:44:39.270Z"
   },
   {
    "duration": 95,
    "start_time": "2021-12-04T02:44:43.190Z"
   },
   {
    "duration": 345,
    "start_time": "2021-12-04T02:44:47.227Z"
   },
   {
    "duration": 314,
    "start_time": "2021-12-04T02:45:04.239Z"
   },
   {
    "duration": 38,
    "start_time": "2021-12-04T02:45:20.205Z"
   },
   {
    "duration": 37,
    "start_time": "2021-12-04T02:46:58.576Z"
   },
   {
    "duration": 51,
    "start_time": "2021-12-04T02:47:21.252Z"
   },
   {
    "duration": 71,
    "start_time": "2021-12-04T02:47:29.626Z"
   },
   {
    "duration": 2044,
    "start_time": "2021-12-04T02:47:54.278Z"
   },
   {
    "duration": 1261,
    "start_time": "2021-12-04T02:48:10.632Z"
   },
   {
    "duration": 109,
    "start_time": "2021-12-04T02:48:35.267Z"
   },
   {
    "duration": 100,
    "start_time": "2021-12-04T02:48:46.969Z"
   },
   {
    "duration": 68,
    "start_time": "2021-12-04T02:48:57.274Z"
   },
   {
    "duration": 2187,
    "start_time": "2021-12-04T02:49:17.746Z"
   },
   {
    "duration": 99,
    "start_time": "2021-12-04T02:49:32.332Z"
   },
   {
    "duration": 31,
    "start_time": "2021-12-04T02:49:35.873Z"
   },
   {
    "duration": 39,
    "start_time": "2021-12-04T03:55:04.897Z"
   },
   {
    "duration": 167,
    "start_time": "2021-12-04T03:56:27.313Z"
   },
   {
    "duration": 643,
    "start_time": "2021-12-04T03:56:33.162Z"
   },
   {
    "duration": 5769,
    "start_time": "2021-12-04T03:57:26.387Z"
   },
   {
    "duration": 5219,
    "start_time": "2021-12-04T03:59:08.822Z"
   },
   {
    "duration": 344,
    "start_time": "2021-12-04T03:59:37.458Z"
   },
   {
    "duration": 34,
    "start_time": "2021-12-04T04:00:36.897Z"
   },
   {
    "duration": 318,
    "start_time": "2021-12-04T04:02:31.954Z"
   },
   {
    "duration": 5318,
    "start_time": "2021-12-04T04:02:45.306Z"
   },
   {
    "duration": 420,
    "start_time": "2021-12-04T04:02:58.819Z"
   },
   {
    "duration": 42,
    "start_time": "2021-12-04T04:04:58.452Z"
   },
   {
    "duration": 39,
    "start_time": "2021-12-04T04:06:31.497Z"
   },
   {
    "duration": 317,
    "start_time": "2021-12-04T04:09:00.387Z"
   },
   {
    "duration": 38,
    "start_time": "2021-12-04T04:10:00.683Z"
   },
   {
    "duration": 364,
    "start_time": "2021-12-04T04:10:56.469Z"
   },
   {
    "duration": 315,
    "start_time": "2021-12-04T04:12:18.179Z"
   },
   {
    "duration": 378,
    "start_time": "2021-12-04T04:12:25.624Z"
   },
   {
    "duration": 573,
    "start_time": "2021-12-04T04:14:46.762Z"
   },
   {
    "duration": 389,
    "start_time": "2021-12-04T04:15:01.082Z"
   },
   {
    "duration": 300,
    "start_time": "2021-12-04T04:17:18.238Z"
   },
   {
    "duration": 598,
    "start_time": "2021-12-04T04:17:24.465Z"
   },
   {
    "duration": 19,
    "start_time": "2021-12-04T04:17:47.454Z"
   },
   {
    "duration": 22,
    "start_time": "2021-12-04T04:20:24.453Z"
   },
   {
    "duration": 303,
    "start_time": "2021-12-04T04:20:41.948Z"
   },
   {
    "duration": 22,
    "start_time": "2021-12-04T04:20:59.735Z"
   },
   {
    "duration": 105,
    "start_time": "2021-12-04T04:21:49.948Z"
   },
   {
    "duration": 22,
    "start_time": "2021-12-04T04:22:20.609Z"
   },
   {
    "duration": 22,
    "start_time": "2021-12-04T04:22:25.082Z"
   },
   {
    "duration": 18,
    "start_time": "2021-12-04T04:22:41.081Z"
   },
   {
    "duration": 369,
    "start_time": "2021-12-04T04:22:55.128Z"
   },
   {
    "duration": 22,
    "start_time": "2021-12-04T04:24:47.283Z"
   },
   {
    "duration": 302,
    "start_time": "2021-12-04T04:56:08.731Z"
   },
   {
    "duration": 35,
    "start_time": "2021-12-04T04:56:20.640Z"
   },
   {
    "duration": 27,
    "start_time": "2021-12-04T04:56:36.901Z"
   },
   {
    "duration": 318,
    "start_time": "2021-12-04T05:05:52.337Z"
   },
   {
    "duration": 319,
    "start_time": "2021-12-04T05:06:24.230Z"
   },
   {
    "duration": 309,
    "start_time": "2021-12-04T05:08:59.922Z"
   },
   {
    "duration": 736,
    "start_time": "2021-12-04T05:09:55.029Z"
   },
   {
    "duration": 347,
    "start_time": "2021-12-04T05:10:10.790Z"
   },
   {
    "duration": 339,
    "start_time": "2021-12-04T05:10:28.086Z"
   },
   {
    "duration": 34,
    "start_time": "2021-12-04T05:11:02.312Z"
   },
   {
    "duration": 28,
    "start_time": "2021-12-04T05:11:39.745Z"
   },
   {
    "duration": 340,
    "start_time": "2021-12-04T05:23:11.751Z"
   },
   {
    "duration": 719,
    "start_time": "2021-12-04T05:23:22.662Z"
   },
   {
    "duration": 308,
    "start_time": "2021-12-04T05:23:30.904Z"
   },
   {
    "duration": 31,
    "start_time": "2021-12-04T05:24:16.571Z"
   },
   {
    "duration": 31,
    "start_time": "2021-12-04T05:24:25.598Z"
   },
   {
    "duration": 31,
    "start_time": "2021-12-04T05:24:37.368Z"
   },
   {
    "duration": 34,
    "start_time": "2021-12-04T05:24:47.633Z"
   },
   {
    "duration": 806,
    "start_time": "2021-12-04T05:38:42.631Z"
   },
   {
    "duration": 160,
    "start_time": "2021-12-04T05:38:58.664Z"
   },
   {
    "duration": 156,
    "start_time": "2021-12-04T05:39:18.653Z"
   },
   {
    "duration": 22,
    "start_time": "2021-12-04T05:39:23.854Z"
   },
   {
    "duration": 61,
    "start_time": "2021-12-04T05:39:35.977Z"
   },
   {
    "duration": 6,
    "start_time": "2021-12-04T05:39:46.964Z"
   },
   {
    "duration": 7977,
    "start_time": "2021-12-04T05:40:15.099Z"
   },
   {
    "duration": 6989,
    "start_time": "2021-12-04T05:40:23.078Z"
   },
   {
    "duration": 26,
    "start_time": "2021-12-04T05:41:20.082Z"
   },
   {
    "duration": 195,
    "start_time": "2021-12-04T06:36:25.602Z"
   },
   {
    "duration": 70,
    "start_time": "2021-12-04T06:36:25.905Z"
   },
   {
    "duration": 51,
    "start_time": "2021-12-04T06:36:52.608Z"
   },
   {
    "duration": 24,
    "start_time": "2021-12-04T06:38:46.200Z"
   },
   {
    "duration": 23,
    "start_time": "2021-12-04T06:38:53.975Z"
   },
   {
    "duration": 39,
    "start_time": "2021-12-04T06:40:20.791Z"
   },
   {
    "duration": 29,
    "start_time": "2021-12-04T06:50:51.774Z"
   },
   {
    "duration": 23,
    "start_time": "2021-12-04T06:50:56.091Z"
   },
   {
    "duration": 6,
    "start_time": "2021-12-04T06:52:56.299Z"
   },
   {
    "duration": 17540,
    "start_time": "2021-12-04T06:53:00.321Z"
   },
   {
    "duration": 20,
    "start_time": "2021-12-04T06:53:17.863Z"
   },
   {
    "duration": 26,
    "start_time": "2021-12-04T06:53:17.885Z"
   },
   {
    "duration": 26,
    "start_time": "2021-12-04T06:53:25.564Z"
   },
   {
    "duration": 28,
    "start_time": "2021-12-04T06:54:54.659Z"
   },
   {
    "duration": 21,
    "start_time": "2021-12-04T06:55:00.780Z"
   },
   {
    "duration": 33,
    "start_time": "2021-12-04T06:55:09.142Z"
   },
   {
    "duration": 412,
    "start_time": "2021-12-04T06:56:49.699Z"
   },
   {
    "duration": 325,
    "start_time": "2021-12-04T06:56:54.701Z"
   },
   {
    "duration": 311,
    "start_time": "2021-12-04T06:57:09.364Z"
   },
   {
    "duration": 34,
    "start_time": "2021-12-04T06:57:19.073Z"
   },
   {
    "duration": 47,
    "start_time": "2021-12-04T06:57:46.089Z"
   },
   {
    "duration": 52,
    "start_time": "2021-12-04T06:58:56.112Z"
   },
   {
    "duration": 50,
    "start_time": "2021-12-04T06:59:18.395Z"
   },
   {
    "duration": 49,
    "start_time": "2021-12-04T06:59:53.673Z"
   },
   {
    "duration": 34,
    "start_time": "2021-12-04T07:00:02.110Z"
   },
   {
    "duration": 676,
    "start_time": "2021-12-04T07:15:18.523Z"
   },
   {
    "duration": 397,
    "start_time": "2021-12-04T07:15:19.202Z"
   },
   {
    "duration": 6,
    "start_time": "2021-12-04T07:18:46.704Z"
   },
   {
    "duration": 30,
    "start_time": "2021-12-04T07:19:02.499Z"
   },
   {
    "duration": 6,
    "start_time": "2021-12-04T07:28:34.583Z"
   },
   {
    "duration": 12,
    "start_time": "2021-12-04T07:28:53.093Z"
   },
   {
    "duration": 6,
    "start_time": "2021-12-04T07:29:08.673Z"
   },
   {
    "duration": 11,
    "start_time": "2021-12-04T07:30:00.275Z"
   },
   {
    "duration": 36,
    "start_time": "2021-12-04T10:21:50.294Z"
   },
   {
    "duration": 988,
    "start_time": "2021-12-04T10:22:00.177Z"
   },
   {
    "duration": 209,
    "start_time": "2021-12-04T10:22:01.168Z"
   },
   {
    "duration": 30,
    "start_time": "2021-12-04T10:22:01.381Z"
   },
   {
    "duration": 94,
    "start_time": "2021-12-04T10:22:01.413Z"
   },
   {
    "duration": 5,
    "start_time": "2021-12-04T10:22:01.509Z"
   },
   {
    "duration": 9522,
    "start_time": "2021-12-04T10:22:01.517Z"
   },
   {
    "duration": 7376,
    "start_time": "2021-12-04T10:22:11.042Z"
   },
   {
    "duration": 28,
    "start_time": "2021-12-04T10:22:18.423Z"
   },
   {
    "duration": 169,
    "start_time": "2021-12-04T10:22:18.454Z"
   },
   {
    "duration": 87,
    "start_time": "2021-12-04T10:22:18.626Z"
   },
   {
    "duration": 39,
    "start_time": "2021-12-04T10:22:18.715Z"
   },
   {
    "duration": 56,
    "start_time": "2021-12-04T10:22:18.757Z"
   },
   {
    "duration": 15,
    "start_time": "2021-12-04T10:22:18.815Z"
   },
   {
    "duration": 6,
    "start_time": "2021-12-04T10:22:18.832Z"
   },
   {
    "duration": 18553,
    "start_time": "2021-12-04T10:22:18.840Z"
   },
   {
    "duration": 12,
    "start_time": "2021-12-04T10:22:37.397Z"
   },
   {
    "duration": 33,
    "start_time": "2021-12-04T10:22:37.412Z"
   },
   {
    "duration": 53,
    "start_time": "2021-12-04T10:22:37.448Z"
   },
   {
    "duration": 21,
    "start_time": "2021-12-04T10:22:37.505Z"
   },
   {
    "duration": 62,
    "start_time": "2021-12-04T10:22:37.529Z"
   },
   {
    "duration": 912,
    "start_time": "2021-12-04T10:22:37.594Z"
   },
   {
    "duration": 440,
    "start_time": "2021-12-04T10:22:38.509Z"
   },
   {
    "duration": 48,
    "start_time": "2021-12-04T10:22:38.953Z"
   },
   {
    "duration": 546,
    "start_time": "2021-12-04T10:22:39.004Z"
   },
   {
    "duration": 36,
    "start_time": "2021-12-04T10:23:04.091Z"
   },
   {
    "duration": 42,
    "start_time": "2021-12-04T10:23:33.971Z"
   },
   {
    "duration": 345,
    "start_time": "2021-12-04T11:27:34.635Z"
   },
   {
    "duration": 29,
    "start_time": "2021-12-04T11:27:43.710Z"
   },
   {
    "duration": 57,
    "start_time": "2021-12-04T11:28:37.969Z"
   },
   {
    "duration": 5,
    "start_time": "2021-12-04T11:28:46.469Z"
   },
   {
    "duration": 6,
    "start_time": "2021-12-04T11:29:03.323Z"
   },
   {
    "duration": 15,
    "start_time": "2021-12-04T11:29:08.953Z"
   },
   {
    "duration": 334,
    "start_time": "2021-12-04T11:35:30.647Z"
   },
   {
    "duration": 32,
    "start_time": "2021-12-04T11:35:35.506Z"
   },
   {
    "duration": 31,
    "start_time": "2021-12-04T11:37:15.267Z"
   },
   {
    "duration": 51,
    "start_time": "2021-12-04T11:39:18.000Z"
   },
   {
    "duration": 25,
    "start_time": "2021-12-04T11:39:34.421Z"
   },
   {
    "duration": 27,
    "start_time": "2021-12-04T11:39:56.947Z"
   },
   {
    "duration": 28,
    "start_time": "2021-12-04T11:40:11.520Z"
   },
   {
    "duration": 26,
    "start_time": "2021-12-04T11:40:44.203Z"
   },
   {
    "duration": 31,
    "start_time": "2021-12-04T11:40:57.855Z"
   },
   {
    "duration": 51,
    "start_time": "2021-12-04T11:41:47.665Z"
   },
   {
    "duration": 34,
    "start_time": "2021-12-04T11:41:48.488Z"
   },
   {
    "duration": 43,
    "start_time": "2021-12-04T11:42:14.886Z"
   },
   {
    "duration": 910,
    "start_time": "2021-12-04T11:47:39.175Z"
   },
   {
    "duration": 187,
    "start_time": "2021-12-04T11:47:40.088Z"
   },
   {
    "duration": 21,
    "start_time": "2021-12-04T11:47:40.277Z"
   },
   {
    "duration": 84,
    "start_time": "2021-12-04T11:47:40.301Z"
   },
   {
    "duration": 6,
    "start_time": "2021-12-04T11:47:40.388Z"
   },
   {
    "duration": 8579,
    "start_time": "2021-12-04T11:47:40.397Z"
   },
   {
    "duration": 7912,
    "start_time": "2021-12-04T11:47:48.978Z"
   },
   {
    "duration": 35,
    "start_time": "2021-12-04T11:47:56.895Z"
   },
   {
    "duration": 174,
    "start_time": "2021-12-04T11:47:56.935Z"
   },
   {
    "duration": 73,
    "start_time": "2021-12-04T11:47:57.111Z"
   },
   {
    "duration": 46,
    "start_time": "2021-12-04T11:47:57.187Z"
   },
   {
    "duration": 57,
    "start_time": "2021-12-04T11:47:57.236Z"
   },
   {
    "duration": 17,
    "start_time": "2021-12-04T11:47:57.296Z"
   },
   {
    "duration": 6,
    "start_time": "2021-12-04T11:47:57.316Z"
   },
   {
    "duration": 22196,
    "start_time": "2021-12-04T11:47:57.325Z"
   },
   {
    "duration": 11,
    "start_time": "2021-12-04T11:48:19.523Z"
   },
   {
    "duration": 26,
    "start_time": "2021-12-04T11:48:19.537Z"
   },
   {
    "duration": 52,
    "start_time": "2021-12-04T11:48:19.565Z"
   },
   {
    "duration": 28,
    "start_time": "2021-12-04T11:48:19.620Z"
   },
   {
    "duration": 67,
    "start_time": "2021-12-04T11:48:19.651Z"
   },
   {
    "duration": 780,
    "start_time": "2021-12-04T11:48:19.720Z"
   },
   {
    "duration": 440,
    "start_time": "2021-12-04T11:48:20.502Z"
   },
   {
    "duration": 54,
    "start_time": "2021-12-04T11:48:20.946Z"
   },
   {
    "duration": 40,
    "start_time": "2021-12-04T11:48:21.003Z"
   },
   {
    "duration": 48,
    "start_time": "2021-12-04T11:48:34.262Z"
   },
   {
    "duration": 30,
    "start_time": "2021-12-04T11:50:58.150Z"
   },
   {
    "duration": 41,
    "start_time": "2021-12-04T12:11:25.789Z"
   },
   {
    "duration": 40,
    "start_time": "2021-12-04T12:11:26.564Z"
   },
   {
    "duration": 39,
    "start_time": "2021-12-04T12:12:01.415Z"
   },
   {
    "duration": -352,
    "start_time": "2021-12-04T12:12:45.956Z"
   },
   {
    "duration": 10,
    "start_time": "2021-12-04T12:12:55.619Z"
   },
   {
    "duration": 8,
    "start_time": "2021-12-04T12:13:05.239Z"
   },
   {
    "duration": 8,
    "start_time": "2021-12-04T12:13:18.914Z"
   },
   {
    "duration": 7,
    "start_time": "2021-12-04T12:14:05.512Z"
   },
   {
    "duration": 27,
    "start_time": "2021-12-04T12:21:39.102Z"
   },
   {
    "duration": 22,
    "start_time": "2021-12-04T12:22:12.732Z"
   },
   {
    "duration": 20,
    "start_time": "2021-12-04T12:22:32.045Z"
   },
   {
    "duration": 23,
    "start_time": "2021-12-04T12:22:57.932Z"
   },
   {
    "duration": 30,
    "start_time": "2021-12-04T12:23:18.605Z"
   },
   {
    "duration": 22,
    "start_time": "2021-12-04T12:30:04.259Z"
   },
   {
    "duration": 14,
    "start_time": "2021-12-04T12:35:04.615Z"
   },
   {
    "duration": 19,
    "start_time": "2021-12-04T12:35:34.098Z"
   },
   {
    "duration": 12,
    "start_time": "2021-12-04T12:35:56.604Z"
   },
   {
    "duration": 11,
    "start_time": "2021-12-04T12:36:07.081Z"
   },
   {
    "duration": 935,
    "start_time": "2021-12-04T12:42:11.069Z"
   },
   {
    "duration": 194,
    "start_time": "2021-12-04T12:42:12.007Z"
   },
   {
    "duration": 21,
    "start_time": "2021-12-04T12:42:12.204Z"
   },
   {
    "duration": 85,
    "start_time": "2021-12-04T12:42:12.227Z"
   },
   {
    "duration": 5,
    "start_time": "2021-12-04T12:42:12.314Z"
   },
   {
    "duration": 11401,
    "start_time": "2021-12-04T12:42:12.322Z"
   },
   {
    "duration": 7353,
    "start_time": "2021-12-04T12:42:23.725Z"
   },
   {
    "duration": 35,
    "start_time": "2021-12-04T12:42:31.082Z"
   },
   {
    "duration": 168,
    "start_time": "2021-12-04T12:42:31.120Z"
   },
   {
    "duration": 61,
    "start_time": "2021-12-04T12:42:31.291Z"
   },
   {
    "duration": 72,
    "start_time": "2021-12-04T12:42:31.354Z"
   },
   {
    "duration": 54,
    "start_time": "2021-12-04T12:42:31.428Z"
   },
   {
    "duration": 26,
    "start_time": "2021-12-04T12:42:31.486Z"
   },
   {
    "duration": 8,
    "start_time": "2021-12-04T12:42:31.515Z"
   },
   {
    "duration": 18116,
    "start_time": "2021-12-04T12:42:31.525Z"
   },
   {
    "duration": 12,
    "start_time": "2021-12-04T12:42:49.644Z"
   },
   {
    "duration": 54,
    "start_time": "2021-12-04T12:42:49.658Z"
   },
   {
    "duration": 39,
    "start_time": "2021-12-04T12:42:49.715Z"
   },
   {
    "duration": 51,
    "start_time": "2021-12-04T12:42:49.757Z"
   },
   {
    "duration": 37,
    "start_time": "2021-12-04T12:42:49.810Z"
   },
   {
    "duration": 873,
    "start_time": "2021-12-04T12:42:49.850Z"
   },
   {
    "duration": 644,
    "start_time": "2021-12-04T12:42:50.726Z"
   },
   {
    "duration": 30,
    "start_time": "2021-12-04T12:42:51.376Z"
   },
   {
    "duration": 37,
    "start_time": "2021-12-04T12:42:51.409Z"
   },
   {
    "duration": 74,
    "start_time": "2021-12-04T12:42:51.449Z"
   },
   {
    "duration": 14,
    "start_time": "2021-12-04T12:42:51.528Z"
   },
   {
    "duration": 852,
    "start_time": "2021-12-05T07:15:51.716Z"
   },
   {
    "duration": 155,
    "start_time": "2021-12-05T07:15:52.571Z"
   },
   {
    "duration": 24,
    "start_time": "2021-12-05T07:15:52.731Z"
   },
   {
    "duration": 59,
    "start_time": "2021-12-05T07:15:52.782Z"
   },
   {
    "duration": 6,
    "start_time": "2021-12-05T07:15:52.844Z"
   },
   {
    "duration": 8200,
    "start_time": "2021-12-05T07:15:52.853Z"
   },
   {
    "duration": 6890,
    "start_time": "2021-12-05T07:16:01.055Z"
   },
   {
    "duration": 43,
    "start_time": "2021-12-05T07:16:07.949Z"
   },
   {
    "duration": 135,
    "start_time": "2021-12-05T07:16:07.995Z"
   },
   {
    "duration": 66,
    "start_time": "2021-12-05T07:16:08.133Z"
   },
   {
    "duration": 38,
    "start_time": "2021-12-05T07:16:08.202Z"
   },
   {
    "duration": 52,
    "start_time": "2021-12-05T07:16:08.242Z"
   },
   {
    "duration": 16,
    "start_time": "2021-12-05T07:16:08.296Z"
   },
   {
    "duration": 5,
    "start_time": "2021-12-05T07:16:08.315Z"
   },
   {
    "duration": 17033,
    "start_time": "2021-12-05T07:16:08.323Z"
   },
   {
    "duration": 11,
    "start_time": "2021-12-05T07:16:25.358Z"
   },
   {
    "duration": 33,
    "start_time": "2021-12-05T07:16:25.372Z"
   },
   {
    "duration": 27,
    "start_time": "2021-12-05T07:16:25.407Z"
   },
   {
    "duration": 53,
    "start_time": "2021-12-05T07:16:25.436Z"
   },
   {
    "duration": 30,
    "start_time": "2021-12-05T07:16:25.491Z"
   },
   {
    "duration": 775,
    "start_time": "2021-12-05T07:16:25.523Z"
   },
   {
    "duration": 438,
    "start_time": "2021-12-05T07:16:26.301Z"
   },
   {
    "duration": 20,
    "start_time": "2021-12-05T07:16:26.743Z"
   },
   {
    "duration": 49,
    "start_time": "2021-12-05T07:16:26.766Z"
   },
   {
    "duration": 30,
    "start_time": "2021-12-05T07:16:26.818Z"
   },
   {
    "duration": 40,
    "start_time": "2021-12-05T07:16:26.850Z"
   },
   {
    "duration": 137,
    "start_time": "2021-12-05T07:51:24.933Z"
   },
   {
    "duration": 914,
    "start_time": "2021-12-05T08:05:23.081Z"
   },
   {
    "duration": 152,
    "start_time": "2021-12-05T08:05:23.998Z"
   },
   {
    "duration": 20,
    "start_time": "2021-12-05T08:05:24.153Z"
   },
   {
    "duration": 65,
    "start_time": "2021-12-05T08:05:24.176Z"
   },
   {
    "duration": 6,
    "start_time": "2021-12-05T08:05:33.071Z"
   },
   {
    "duration": 12,
    "start_time": "2021-12-05T08:06:08.865Z"
   },
   {
    "duration": 13,
    "start_time": "2021-12-05T08:07:03.524Z"
   },
   {
    "duration": 12,
    "start_time": "2021-12-05T08:07:20.309Z"
   },
   {
    "duration": 13,
    "start_time": "2021-12-05T08:10:46.025Z"
   },
   {
    "duration": 15,
    "start_time": "2021-12-05T08:10:50.828Z"
   },
   {
    "duration": 14,
    "start_time": "2021-12-05T08:11:03.889Z"
   },
   {
    "duration": 275,
    "start_time": "2021-12-05T08:11:19.767Z"
   },
   {
    "duration": 264,
    "start_time": "2021-12-05T08:11:30.270Z"
   },
   {
    "duration": 974,
    "start_time": "2021-12-05T08:17:01.010Z"
   },
   {
    "duration": 155,
    "start_time": "2021-12-05T08:17:01.987Z"
   },
   {
    "duration": 20,
    "start_time": "2021-12-05T08:17:02.145Z"
   },
   {
    "duration": 78,
    "start_time": "2021-12-05T08:17:02.168Z"
   },
   {
    "duration": 6,
    "start_time": "2021-12-05T08:17:02.248Z"
   },
   {
    "duration": 8685,
    "start_time": "2021-12-05T08:17:02.256Z"
   },
   {
    "duration": 1244,
    "start_time": "2021-12-05T08:17:31.692Z"
   },
   {
    "duration": 202,
    "start_time": "2021-12-05T08:17:32.939Z"
   },
   {
    "duration": 47,
    "start_time": "2021-12-05T08:17:33.145Z"
   },
   {
    "duration": 59,
    "start_time": "2021-12-05T08:17:33.194Z"
   },
   {
    "duration": 8,
    "start_time": "2021-12-05T08:17:40.294Z"
   },
   {
    "duration": 357,
    "start_time": "2021-12-05T08:17:43.808Z"
   },
   {
    "duration": 882,
    "start_time": "2021-12-05T08:21:57.032Z"
   },
   {
    "duration": 153,
    "start_time": "2021-12-05T08:21:57.916Z"
   },
   {
    "duration": 29,
    "start_time": "2021-12-05T08:21:58.072Z"
   },
   {
    "duration": 57,
    "start_time": "2021-12-05T08:21:58.104Z"
   },
   {
    "duration": 19,
    "start_time": "2021-12-05T08:21:58.164Z"
   },
   {
    "duration": 9525,
    "start_time": "2021-12-05T08:21:58.186Z"
   },
   {
    "duration": 7360,
    "start_time": "2021-12-05T08:22:07.714Z"
   },
   {
    "duration": 31,
    "start_time": "2021-12-05T08:22:15.083Z"
   },
   {
    "duration": 163,
    "start_time": "2021-12-05T08:22:15.118Z"
   },
   {
    "duration": 62,
    "start_time": "2021-12-05T08:22:15.284Z"
   },
   {
    "duration": 62,
    "start_time": "2021-12-05T08:22:15.348Z"
   },
   {
    "duration": 31,
    "start_time": "2021-12-05T08:22:15.413Z"
   },
   {
    "duration": 18,
    "start_time": "2021-12-05T08:22:15.491Z"
   },
   {
    "duration": 6,
    "start_time": "2021-12-05T08:22:15.512Z"
   },
   {
    "duration": 17771,
    "start_time": "2021-12-05T08:22:15.520Z"
   },
   {
    "duration": 11,
    "start_time": "2021-12-05T08:22:33.293Z"
   },
   {
    "duration": 27,
    "start_time": "2021-12-05T08:22:33.307Z"
   },
   {
    "duration": 56,
    "start_time": "2021-12-05T08:22:33.337Z"
   },
   {
    "duration": 26,
    "start_time": "2021-12-05T08:22:33.395Z"
   },
   {
    "duration": 62,
    "start_time": "2021-12-05T08:22:33.424Z"
   },
   {
    "duration": 912,
    "start_time": "2021-12-05T08:22:33.489Z"
   },
   {
    "duration": 440,
    "start_time": "2021-12-05T08:22:34.403Z"
   },
   {
    "duration": 39,
    "start_time": "2021-12-05T08:22:34.848Z"
   },
   {
    "duration": 39,
    "start_time": "2021-12-05T08:22:34.890Z"
   },
   {
    "duration": 61,
    "start_time": "2021-12-05T08:22:34.932Z"
   },
   {
    "duration": 12,
    "start_time": "2021-12-05T08:22:34.995Z"
   },
   {
    "duration": 16,
    "start_time": "2021-12-05T08:23:16.484Z"
   },
   {
    "duration": 8,
    "start_time": "2021-12-05T08:26:49.426Z"
   },
   {
    "duration": 9,
    "start_time": "2021-12-05T08:26:57.501Z"
   },
   {
    "duration": 889,
    "start_time": "2021-12-05T08:29:47.846Z"
   },
   {
    "duration": 175,
    "start_time": "2021-12-05T08:29:48.738Z"
   },
   {
    "duration": 21,
    "start_time": "2021-12-05T08:29:48.916Z"
   },
   {
    "duration": 91,
    "start_time": "2021-12-05T08:29:48.940Z"
   },
   {
    "duration": 5,
    "start_time": "2021-12-05T08:29:49.033Z"
   },
   {
    "duration": 8616,
    "start_time": "2021-12-05T08:29:49.042Z"
   },
   {
    "duration": 11,
    "start_time": "2021-12-05T08:29:57.660Z"
   },
   {
    "duration": 7294,
    "start_time": "2021-12-05T08:29:57.675Z"
   },
   {
    "duration": 18,
    "start_time": "2021-12-05T08:30:04.972Z"
   },
   {
    "duration": 30,
    "start_time": "2021-12-05T08:30:04.993Z"
   },
   {
    "duration": 159,
    "start_time": "2021-12-05T08:30:05.025Z"
   },
   {
    "duration": 67,
    "start_time": "2021-12-05T08:30:05.189Z"
   },
   {
    "duration": 72,
    "start_time": "2021-12-05T08:30:05.282Z"
   },
   {
    "duration": 46,
    "start_time": "2021-12-05T08:30:05.356Z"
   },
   {
    "duration": 29,
    "start_time": "2021-12-05T08:30:05.404Z"
   },
   {
    "duration": 6,
    "start_time": "2021-12-05T08:30:05.436Z"
   },
   {
    "duration": 18005,
    "start_time": "2021-12-05T08:30:05.444Z"
   },
   {
    "duration": 11,
    "start_time": "2021-12-05T08:30:23.452Z"
   },
   {
    "duration": 39,
    "start_time": "2021-12-05T08:30:23.466Z"
   },
   {
    "duration": 33,
    "start_time": "2021-12-05T08:30:23.508Z"
   },
   {
    "duration": 46,
    "start_time": "2021-12-05T08:30:23.543Z"
   },
   {
    "duration": 34,
    "start_time": "2021-12-05T08:30:23.591Z"
   },
   {
    "duration": 764,
    "start_time": "2021-12-05T08:30:23.630Z"
   },
   {
    "duration": 418,
    "start_time": "2021-12-05T08:30:24.397Z"
   },
   {
    "duration": 22,
    "start_time": "2021-12-05T08:30:24.818Z"
   },
   {
    "duration": 62,
    "start_time": "2021-12-05T08:30:24.842Z"
   },
   {
    "duration": 29,
    "start_time": "2021-12-05T08:30:24.906Z"
   },
   {
    "duration": 11,
    "start_time": "2021-12-05T08:30:24.937Z"
   },
   {
    "duration": 64,
    "start_time": "2021-12-05T08:37:22.929Z"
   },
   {
    "duration": 63,
    "start_time": "2021-12-05T08:37:28.016Z"
   },
   {
    "duration": 57,
    "start_time": "2021-12-05T08:51:10.726Z"
   },
   {
    "duration": 143,
    "start_time": "2021-12-05T09:08:46.792Z"
   },
   {
    "duration": 1518,
    "start_time": "2021-12-05T09:08:55.371Z"
   },
   {
    "duration": 41,
    "start_time": "2021-12-05T09:09:17.635Z"
   },
   {
    "duration": 41,
    "start_time": "2021-12-05T09:09:42.959Z"
   },
   {
    "duration": 64,
    "start_time": "2021-12-05T09:45:03.122Z"
   },
   {
    "duration": 61,
    "start_time": "2021-12-05T09:46:41.742Z"
   },
   {
    "duration": 374,
    "start_time": "2021-12-05T09:51:24.064Z"
   },
   {
    "duration": 68,
    "start_time": "2021-12-05T09:51:29.023Z"
   },
   {
    "duration": 65,
    "start_time": "2021-12-05T09:51:34.068Z"
   },
   {
    "duration": 8,
    "start_time": "2021-12-05T09:54:05.748Z"
   },
   {
    "duration": 9,
    "start_time": "2021-12-05T09:54:54.023Z"
   },
   {
    "duration": 13,
    "start_time": "2021-12-05T09:56:12.372Z"
   },
   {
    "duration": 17,
    "start_time": "2021-12-05T10:02:15.211Z"
   },
   {
    "duration": 13,
    "start_time": "2021-12-05T10:02:23.226Z"
   },
   {
    "duration": 5,
    "start_time": "2021-12-05T10:03:17.029Z"
   },
   {
    "duration": 1802,
    "start_time": "2021-12-05T10:03:57.455Z"
   },
   {
    "duration": 4,
    "start_time": "2021-12-05T10:04:13.269Z"
   },
   {
    "duration": 13,
    "start_time": "2021-12-05T10:04:13.973Z"
   },
   {
    "duration": 14699,
    "start_time": "2021-12-05T10:05:16.557Z"
   },
   {
    "duration": 16,
    "start_time": "2021-12-05T10:05:33.105Z"
   },
   {
    "duration": 22,
    "start_time": "2021-12-05T10:05:49.633Z"
   },
   {
    "duration": 34,
    "start_time": "2021-12-05T10:06:04.172Z"
   },
   {
    "duration": 47,
    "start_time": "2021-12-05T10:06:21.891Z"
   },
   {
    "duration": 33,
    "start_time": "2021-12-05T10:06:49.847Z"
   },
   {
    "duration": 33,
    "start_time": "2021-12-05T10:07:51.813Z"
   },
   {
    "duration": 32,
    "start_time": "2021-12-05T10:08:55.281Z"
   },
   {
    "duration": 9,
    "start_time": "2021-12-05T10:11:21.939Z"
   },
   {
    "duration": 9,
    "start_time": "2021-12-05T10:11:26.869Z"
   },
   {
    "duration": 159,
    "start_time": "2021-12-05T10:11:44.520Z"
   },
   {
    "duration": 7,
    "start_time": "2021-12-05T10:11:50.714Z"
   },
   {
    "duration": 5,
    "start_time": "2021-12-05T10:13:10.846Z"
   },
   {
    "duration": 30,
    "start_time": "2021-12-05T10:14:14.262Z"
   },
   {
    "duration": 9,
    "start_time": "2021-12-05T10:15:04.987Z"
   },
   {
    "duration": 8,
    "start_time": "2021-12-05T10:15:45.907Z"
   },
   {
    "duration": 355,
    "start_time": "2021-12-05T10:20:05.721Z"
   },
   {
    "duration": 926,
    "start_time": "2021-12-05T10:20:10.798Z"
   },
   {
    "duration": 13,
    "start_time": "2021-12-05T10:20:41.464Z"
   },
   {
    "duration": 15,
    "start_time": "2021-12-05T10:21:23.836Z"
   },
   {
    "duration": 21,
    "start_time": "2021-12-05T10:24:52.045Z"
   },
   {
    "duration": 25,
    "start_time": "2021-12-05T10:28:53.543Z"
   },
   {
    "duration": 23,
    "start_time": "2021-12-05T10:30:28.366Z"
   },
   {
    "duration": 13,
    "start_time": "2021-12-05T10:30:43.153Z"
   },
   {
    "duration": 293,
    "start_time": "2021-12-05T10:31:11.539Z"
   },
   {
    "duration": 303,
    "start_time": "2021-12-05T10:31:31.491Z"
   },
   {
    "duration": 11,
    "start_time": "2021-12-05T10:33:22.099Z"
   },
   {
    "duration": 359,
    "start_time": "2021-12-05T10:33:32.296Z"
   },
   {
    "duration": 2538,
    "start_time": "2021-12-05T10:39:42.101Z"
   },
   {
    "duration": 379,
    "start_time": "2021-12-05T10:41:24.861Z"
   },
   {
    "duration": 10141,
    "start_time": "2021-12-05T10:41:46.064Z"
   },
   {
    "duration": 6,
    "start_time": "2021-12-05T10:42:10.863Z"
   },
   {
    "duration": 27,
    "start_time": "2021-12-05T10:42:14.023Z"
   },
   {
    "duration": 1032,
    "start_time": "2021-12-05T11:30:04.671Z"
   },
   {
    "duration": 158,
    "start_time": "2021-12-05T11:30:05.707Z"
   },
   {
    "duration": 22,
    "start_time": "2021-12-05T11:30:05.870Z"
   },
   {
    "duration": 71,
    "start_time": "2021-12-05T11:30:05.895Z"
   },
   {
    "duration": 17,
    "start_time": "2021-12-05T11:30:05.968Z"
   },
   {
    "duration": 8482,
    "start_time": "2021-12-05T11:30:05.988Z"
   },
   {
    "duration": 13,
    "start_time": "2021-12-05T11:30:14.473Z"
   },
   {
    "duration": 7565,
    "start_time": "2021-12-05T11:30:14.490Z"
   },
   {
    "duration": 24,
    "start_time": "2021-12-05T11:30:22.058Z"
   },
   {
    "duration": 28,
    "start_time": "2021-12-05T11:30:22.084Z"
   },
   {
    "duration": 153,
    "start_time": "2021-12-05T11:30:22.114Z"
   },
   {
    "duration": 62,
    "start_time": "2021-12-05T11:30:22.269Z"
   },
   {
    "duration": 60,
    "start_time": "2021-12-05T11:30:22.334Z"
   },
   {
    "duration": 31,
    "start_time": "2021-12-05T11:30:22.397Z"
   },
   {
    "duration": 53,
    "start_time": "2021-12-05T11:30:22.431Z"
   },
   {
    "duration": 19,
    "start_time": "2021-12-05T11:30:22.486Z"
   },
   {
    "duration": 7,
    "start_time": "2021-12-05T11:30:22.507Z"
   },
   {
    "duration": 22010,
    "start_time": "2021-12-05T11:30:22.517Z"
   },
   {
    "duration": 13,
    "start_time": "2021-12-05T11:30:44.530Z"
   },
   {
    "duration": 56,
    "start_time": "2021-12-05T11:30:44.546Z"
   },
   {
    "duration": 39,
    "start_time": "2021-12-05T11:30:44.606Z"
   },
   {
    "duration": 34,
    "start_time": "2021-12-05T11:30:44.648Z"
   },
   {
    "duration": 27,
    "start_time": "2021-12-05T11:30:44.688Z"
   },
   {
    "duration": 18,
    "start_time": "2021-12-05T11:30:44.719Z"
   },
   {
    "duration": 490,
    "start_time": "2021-12-05T11:30:44.740Z"
   },
   {
    "duration": 58,
    "start_time": "2021-12-05T11:30:45.233Z"
   },
   {
    "duration": 820,
    "start_time": "2021-12-05T11:30:45.294Z"
   },
   {
    "duration": 425,
    "start_time": "2021-12-05T11:30:46.116Z"
   },
   {
    "duration": 22,
    "start_time": "2021-12-05T11:30:46.543Z"
   },
   {
    "duration": 40,
    "start_time": "2021-12-05T11:30:46.582Z"
   },
   {
    "duration": 30,
    "start_time": "2021-12-05T11:30:46.624Z"
   },
   {
    "duration": 33,
    "start_time": "2021-12-05T11:30:46.657Z"
   },
   {
    "duration": 463,
    "start_time": "2022-02-21T07:15:17.287Z"
   },
   {
    "duration": 943,
    "start_time": "2022-02-21T07:15:47.815Z"
   },
   {
    "duration": 172,
    "start_time": "2022-02-21T07:15:48.760Z"
   },
   {
    "duration": 22,
    "start_time": "2022-02-21T07:15:48.935Z"
   },
   {
    "duration": 90,
    "start_time": "2022-02-21T07:15:48.960Z"
   },
   {
    "duration": 5,
    "start_time": "2022-02-21T07:15:49.053Z"
   },
   {
    "duration": 8363,
    "start_time": "2022-02-21T07:15:49.061Z"
   },
   {
    "duration": 12,
    "start_time": "2022-02-21T07:15:57.427Z"
   },
   {
    "duration": 7340,
    "start_time": "2022-02-21T07:15:57.443Z"
   },
   {
    "duration": 7,
    "start_time": "2022-02-21T07:16:04.786Z"
   },
   {
    "duration": 40,
    "start_time": "2022-02-21T07:16:04.795Z"
   },
   {
    "duration": 155,
    "start_time": "2022-02-21T07:16:04.838Z"
   },
   {
    "duration": 56,
    "start_time": "2022-02-21T07:16:05.010Z"
   },
   {
    "duration": 57,
    "start_time": "2022-02-21T07:16:05.068Z"
   },
   {
    "duration": 36,
    "start_time": "2022-02-21T07:16:05.127Z"
   },
   {
    "duration": 64,
    "start_time": "2022-02-21T07:16:05.165Z"
   },
   {
    "duration": 16,
    "start_time": "2022-02-21T07:16:05.232Z"
   },
   {
    "duration": 7,
    "start_time": "2022-02-21T07:16:05.251Z"
   },
   {
    "duration": 17638,
    "start_time": "2022-02-21T07:16:05.261Z"
   },
   {
    "duration": 12,
    "start_time": "2022-02-21T07:16:22.902Z"
   },
   {
    "duration": 30,
    "start_time": "2022-02-21T07:16:22.916Z"
   },
   {
    "duration": 32,
    "start_time": "2022-02-21T07:16:22.948Z"
   },
   {
    "duration": 8,
    "start_time": "2022-02-21T07:16:23.013Z"
   },
   {
    "duration": 28,
    "start_time": "2022-02-21T07:16:23.027Z"
   },
   {
    "duration": 15,
    "start_time": "2022-02-21T07:16:23.058Z"
   },
   {
    "duration": 354,
    "start_time": "2022-02-21T07:16:23.076Z"
   },
   {
    "duration": 33,
    "start_time": "2022-02-21T07:16:23.432Z"
   },
   {
    "duration": 815,
    "start_time": "2022-02-21T07:16:23.467Z"
   },
   {
    "duration": 469,
    "start_time": "2022-02-21T07:16:24.284Z"
   },
   {
    "duration": 21,
    "start_time": "2022-02-21T07:16:24.756Z"
   },
   {
    "duration": 56,
    "start_time": "2022-02-21T07:16:24.780Z"
   },
   {
    "duration": 30,
    "start_time": "2022-02-21T07:16:24.839Z"
   },
   {
    "duration": 10,
    "start_time": "2022-02-21T07:16:24.871Z"
   }
  ],
  "colab": {
   "name": "DA+. Сборный проект 1. Шаблон (1).ipynb",
   "provenance": []
  },
  "kernelspec": {
   "display_name": "Python 3 (ipykernel)",
   "language": "python",
   "name": "python3"
  },
  "language_info": {
   "codemirror_mode": {
    "name": "ipython",
    "version": 3
   },
   "file_extension": ".py",
   "mimetype": "text/x-python",
   "name": "python",
   "nbconvert_exporter": "python",
   "pygments_lexer": "ipython3",
   "version": "3.9.12"
  },
  "toc": {
   "base_numbering": 1,
   "nav_menu": {},
   "number_sections": true,
   "sideBar": true,
   "skip_h1_title": true,
   "title_cell": "Table of Contents",
   "title_sidebar": "Contents",
   "toc_cell": false,
   "toc_position": {
    "height": "calc(100% - 180px)",
    "left": "10px",
    "top": "150px",
    "width": "375.391px"
   },
   "toc_section_display": true,
   "toc_window_display": false
  }
 },
 "nbformat": 4,
 "nbformat_minor": 4
}
